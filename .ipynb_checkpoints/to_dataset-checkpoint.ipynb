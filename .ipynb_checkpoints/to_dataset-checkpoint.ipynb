{
 "cells": [
  {
   "cell_type": "markdown",
   "id": "5166ebbc-4ea4-45ac-8d3f-8180b95ff6d8",
   "metadata": {},
   "source": [
    "# Transform the Downloaded DATASET\n",
    "\n",
    "Take the dataset from the N2C2 Challenges and transform them into a coherent dataset"
   ]
  },
  {
   "cell_type": "code",
   "execution_count": 26,
   "id": "4b7cb257-6a64-4bb8-9f05-40206b1250bb",
   "metadata": {},
   "outputs": [],
   "source": [
    "import os\n",
    "import sys"
   ]
  },
  {
   "cell_type": "code",
   "execution_count": 30,
   "id": "79a57a9d-d93a-41b4-bf41-4267ec9c37be",
   "metadata": {},
   "outputs": [],
   "source": [
    "root = 'DataSet (Medecine) /2010 - Relations'\n",
    "ls = []"
   ]
  },
  {
   "cell_type": "code",
   "execution_count": 31,
   "id": "b078ce56-abfd-463c-9b1a-d0ff717afac4",
   "metadata": {},
   "outputs": [],
   "source": [
    "#    if file.endwith(.txt):\n",
    "\n",
    "def txt_to_dataset(file) -> list:\n",
    "    '''\n",
    "    INPUT:\n",
    "    file: a file that needs to be read\n",
    "    \n",
    "    OUTPUT:\n",
    "    lines: the string of the EHR\n",
    "    \n",
    "    Return the string version of the EHR from the .txt file\n",
    "    '''\n",
    "    \n",
    "    with open(file, encoding='utf-8-sig') as f:\n",
    "        lines = f.readlines()\n",
    "    lines = ' '.join(lines)\n",
    "    lines = lines.replace('\\n', '')\n",
    "    return lines"
   ]
  },
  {
   "cell_type": "code",
   "execution_count": 32,
   "id": "78cec073-1bb4-4d1b-a60f-57ad21cc902a",
   "metadata": {},
   "outputs": [],
   "source": [
    "for path, subdirs, files in os.walk(root):\n",
    "    for name in files:\n",
    "        file = os.path.join(path, name)\n",
    "        print(file)\n",
    "        break\n",
    "        if file.endswith('.txt'):\n",
    "            ls.append(file)"
   ]
  },
  {
   "cell_type": "code",
   "execution_count": 33,
   "id": "1296b35b-1077-425b-bfdd-ddbcc8cc6740",
   "metadata": {},
   "outputs": [
    {
     "data": {
      "text/plain": [
       "[]"
      ]
     },
     "execution_count": 33,
     "metadata": {},
     "output_type": "execute_result"
    }
   ],
   "source": [
    "ls"
   ]
  },
  {
   "cell_type": "code",
   "execution_count": null,
   "id": "5bba54eb-b9d8-4013-8e16-8892a70402d5",
   "metadata": {},
   "outputs": [],
   "source": []
  }
 ],
 "metadata": {
  "kernelspec": {
   "display_name": "JS_venv_data_science_1",
   "language": "python",
   "name": "js_venv_data_science_1"
  },
  "language_info": {
   "codemirror_mode": {
    "name": "ipython",
    "version": 3
   },
   "file_extension": ".py",
   "mimetype": "text/x-python",
   "name": "python",
   "nbconvert_exporter": "python",
   "pygments_lexer": "ipython3",
   "version": "3.8.11"
  }
 },
 "nbformat": 4,
 "nbformat_minor": 5
}
