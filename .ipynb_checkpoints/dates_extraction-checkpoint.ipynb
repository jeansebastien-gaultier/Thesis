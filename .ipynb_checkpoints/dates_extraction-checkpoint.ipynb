{
 "cells": [
  {
   "cell_type": "markdown",
   "id": "f014a0fe-927a-42b3-9f1e-b7f39d0be675",
   "metadata": {},
   "source": [
    "# Extraction of Admission and Discharge Dates\n",
    "\n",
    "Each year the EHR are build a little different, therefore I will go through each of the years one by one and extracting the features that interest me. To start, I will be working on only extracting the dates."
   ]
  },
  {
   "cell_type": "code",
   "execution_count": 1,
   "id": "460c15af-e561-47a3-96b2-0c759357df5f",
   "metadata": {},
   "outputs": [],
   "source": [
    "import functions\n",
    "import os\n",
    "import pandas as pd\n",
    "from xml.dom import minidom\n",
    "from datetime import datetime"
   ]
  },
  {
   "cell_type": "markdown",
   "id": "2edfe8dd-f810-4675-af40-f3cc403d2129",
   "metadata": {},
   "source": [
    "## 2006 - COMPLICATED"
   ]
  },
  {
   "cell_type": "markdown",
   "id": "bb6d675c-3085-4041-8b92-3ad57e2216b3",
   "metadata": {},
   "source": [
    "## 2008\n",
    "\n",
    "The files are built the same with written: \"Admission Date: %%/%%/%%%%\" for each date"
   ]
  },
  {
   "cell_type": "markdown",
   "id": "9e1fbf0e-9f7f-42ee-a4a5-30923aa51e56",
   "metadata": {},
   "source": [
    "#### Get DF"
   ]
  },
  {
   "cell_type": "code",
   "execution_count": 2,
   "id": "cd9f2f39-92a9-4772-996e-156e901d6564",
   "metadata": {},
   "outputs": [],
   "source": [
    "# Obtain DF for that year (from previous notebook)\n",
    "root_08 = \"Data/2008\"\n",
    "list_of_txt_08 = functions.search_for_files(root_08, \".xml\")\n",
    "\n",
    "EHR_08 = {}\n",
    "\n",
    "for item in list_of_txt_08:\n",
    "    file = minidom.parse(item)\n",
    "    text = file.getElementsByTagName(\"text\")\n",
    "    ID = file.getElementsByTagName(\"doc\")\n",
    "    for txt, idx in zip(text, ID):\n",
    "        # print(idx.attributes['id'].value,)\n",
    "        EHR_08[f\"08_{idx.attributes['id'].value}\"] = txt.firstChild.data\n",
    "\n",
    "df_08 = pd.DataFrame.from_dict(EHR_08, orient=\"index\").sort_index()\n",
    "# df_08"
   ]
  },
  {
   "cell_type": "markdown",
   "id": "46176335-1b10-4c26-b2c4-0e7b7168e41a",
   "metadata": {},
   "source": [
    "#### Obtain additional info"
   ]
  },
  {
   "cell_type": "code",
   "execution_count": 3,
   "id": "34dae12a-92d3-4f74-8b1f-bdc996194bfb",
   "metadata": {},
   "outputs": [],
   "source": [
    "# Get a dataframe with multiple different features\n",
    "\n",
    "EHR_imp_08 = {}\n",
    "\n",
    "for k, txt in EHR_08.items():\n",
    "    EHR_imp_08[k] = {\n",
    "        \"text\": None,\n",
    "        \"ID_1\": None,\n",
    "        \"Hospital\": None,\n",
    "        \"ID_2\": None,\n",
    "        \"blank\": None,\n",
    "        \"ID_3\": None,\n",
    "        \"Date in/out?\": None,\n",
    "        \"Discharge Summary\": None,\n",
    "        \"S/U\": None,\n",
    "        \"DIS\": None,\n",
    "        \"Admission Date\": None,\n",
    "        \"Report Status\": None,\n",
    "        \"Discharge Date\": None,\n",
    "    }\n",
    "    important_info = txt.split(\"\\n\")[1].split(\"|\")\n",
    "    DD = txt.split(\"Discharge Date:\")[1].split(\"\\n\")[0]\n",
    "    if len(important_info) == 10:\n",
    "        EHR_imp_08[k][\"text\"] = txt\n",
    "        EHR_imp_08[k][\"ID_1\"] = important_info[0]\n",
    "        EHR_imp_08[k][\"Hospital\"] = important_info[1]\n",
    "        EHR_imp_08[k][\"ID_2\"] = important_info[2]\n",
    "        EHR_imp_08[k][\"blank\"] = important_info[3]\n",
    "        EHR_imp_08[k][\"ID_3\"] = important_info[4]\n",
    "        EHR_imp_08[k][\"Date in/out?\"] = important_info[5]\n",
    "        EHR_imp_08[k][\"Discharge Summary\"] = important_info[6]\n",
    "        EHR_imp_08[k][\"S/U\"] = important_info[7]\n",
    "        EHR_imp_08[k][\"DIS\"] = important_info[8]\n",
    "        EHR_imp_08[k][\"Admission Date\"] = important_info[9].split(\" \")[3]\n",
    "        # dmy = important_info[9].split(' ')[3].split('/')\n",
    "        # EHR_imp_08[k]['Admission DateTime'] = datetime(year = int(dmy[2]), month = int(dmy[0]), day = int(dmy[1])) if len(dmy) == 3 and (dmy[0] != '2' and dmy[1] != '29') else None\n",
    "        EHR_imp_08[k][\"Report Status\"] = (\n",
    "            important_info[9].split(\" \")[6]\n",
    "            if len(important_info[9].split(\" \")) == 7\n",
    "            else None\n",
    "        )\n",
    "        EHR_imp_08[k][\"Discharge Date\"] = DD if DD != \"\" else None\n",
    "\n",
    "df_08_imp = pd.DataFrame.from_dict(EHR_imp_08, orient=\"index\")\n",
    "# df_08_imp"
   ]
  },
  {
   "cell_type": "markdown",
   "id": "7b2181f8-38e0-4517-b2c1-5298c2b703b7",
   "metadata": {},
   "source": [
    "#### Stats about this dataframe"
   ]
  },
  {
   "cell_type": "code",
   "execution_count": 4,
   "id": "842699c5-fc0e-4888-ad20-a9d3821300cf",
   "metadata": {},
   "outputs": [
    {
     "name": "stdout",
     "output_type": "stream",
     "text": [
      "The percentage of Admission dates is: 99.83831851253032 and the percentage of Discharge dates is: 94.42198868229588\n"
     ]
    }
   ],
   "source": [
    "date_in_08 = (\n",
    "    (df_08_imp.shape[0] - df_08_imp[\"Admission Date\"].isna().sum())\n",
    "    * 100\n",
    "    / df_08_imp.shape[0]\n",
    ")\n",
    "date_out_08 = (\n",
    "    (df_08_imp.shape[0] - df_08_imp[\"Discharge Date\"].isna().sum())\n",
    "    * 100\n",
    "    / df_08_imp.shape[0]\n",
    ")\n",
    "print(\n",
    "    f\"The percentage of Admission dates is: {date_in_08} and the percentage of Discharge dates is: {date_out_08}\"\n",
    ")"
   ]
  },
  {
   "cell_type": "markdown",
   "id": "cd206417-bd98-4a63-960e-0977c1363a33",
   "metadata": {},
   "source": [
    "## 2009"
   ]
  },
  {
   "cell_type": "markdown",
   "id": "c050227e-677c-4944-8715-066ac0197b27",
   "metadata": {},
   "source": [
    "#### Get DF"
   ]
  },
  {
   "cell_type": "code",
   "execution_count": 27,
   "id": "92219573-95a5-4fe5-bf55-a4a84c054f43",
   "metadata": {},
   "outputs": [],
   "source": [
    "# Get all the files\n",
    "root_09_bis = \"Data/2009_Bis\"\n",
    "list_of_txt_09_bis = functions.search_for_files(root_09_bis, \".txt\")\n",
    "\n",
    "# Get their record ID and put the in a dictionnary\n",
    "EHR_09_bis = {}\n",
    "\n",
    "for file in list_of_txt_09_bis:\n",
    "    with open(file, encoding=\"utf-8-sig\") as f:\n",
    "        lines = f.readlines()\n",
    "    ID = lines[0].split(\" \")[1][1:-1]\n",
    "    EHR_09_bis[f\"09_{ID}\"] = \"\".join(lines)\n",
    "\n",
    "df_09_bis = pd.DataFrame.from_dict(EHR_09_bis, orient=\"index\").sort_index()\n",
    "# df_09_bis"
   ]
  },
  {
   "cell_type": "markdown",
   "id": "8eacef63-4ddb-485b-8380-f46084977ae1",
   "metadata": {},
   "source": [
    "#### Get Features"
   ]
  },
  {
   "cell_type": "code",
   "execution_count": 28,
   "id": "8a7b6015-b405-4a28-9f40-290f91e10ebc",
   "metadata": {},
   "outputs": [],
   "source": [
    "EHR_imp_09 = {}\n",
    "\n",
    "for k, txt in EHR_09_bis.items():\n",
    "    EHR_imp_09[k] = {\n",
    "        \"text\": None,\n",
    "        \"ID_1\": None,\n",
    "        \"Hospital\": None,\n",
    "        \"ID_2\": None,\n",
    "        \"blank\": None,\n",
    "        \"ID_3\": None,\n",
    "        \"Date in/out?\": None,\n",
    "        \"Discharge Summary\": None,\n",
    "        \"S/U\": None,\n",
    "        \"DIS\": None,\n",
    "        \"Admission Date\": None,\n",
    "        \"Report Status\": None,\n",
    "        \"Discharge Date\": None,\n",
    "    }\n",
    "    important_info = txt.split(\"\\n\")\n",
    "    clean_info = [x for x in important_info if x != \"\"]\n",
    "    important_info = clean_info[1].split(\"|\")\n",
    "    DD = (\n",
    "        clean_info[2].split(\"Discharge Date:\")[1]\n",
    "        if len(clean_info[2].split(\"Discharge Date:\")) == 2\n",
    "        else None\n",
    "    )\n",
    "    if len(important_info) == 10:\n",
    "        EHR_imp_09[k][\"text\"] = txt\n",
    "        EHR_imp_09[k][\"ID_1\"] = important_info[0]\n",
    "        EHR_imp_09[k][\"Hospital\"] = important_info[1]\n",
    "        EHR_imp_09[k][\"ID_2\"] = important_info[2]\n",
    "        EHR_imp_09[k][\"blank\"] = important_info[3]\n",
    "        EHR_imp_09[k][\"ID_3\"] = important_info[4]\n",
    "        EHR_imp_09[k][\"Date in/out?\"] = important_info[5]\n",
    "        EHR_imp_09[k][\"Discharge Summary\"] = important_info[6]\n",
    "        EHR_imp_09[k][\"S/U\"] = important_info[7]\n",
    "        EHR_imp_09[k][\"DIS\"] = important_info[8]\n",
    "        EHR_imp_09[k][\"Admission Date\"] = important_info[9].split(\" \")[3]\n",
    "        # dmy = important_info[9].split(' ')[3].split('/')\n",
    "        # EHR_imp_09[k]['Admission DateTime'] = datetime(year = int(dmy[2]), month = int(dmy[0]), day = int(dmy[1])) if len(dmy) == 3 and (dmy[0] != '2' and dmy[1] != '29') else None\n",
    "        EHR_imp_09[k][\"Report Status\"] = (\n",
    "            important_info[9].split(\" \")[6]\n",
    "            if len(important_info[9].split(\" \")) == 7\n",
    "            else None\n",
    "        )\n",
    "        EHR_imp_09[k][\"Discharge Date\"] = DD if DD != \"\" else None\n",
    "\n",
    "df_09_imp = pd.DataFrame.from_dict(EHR_imp_09, orient=\"index\")\n",
    "#df_09_imp"
   ]
  },
  {
   "cell_type": "markdown",
   "id": "55577491-69a8-4ef3-93b4-152ea03b7157",
   "metadata": {},
   "source": [
    "#### Additional Info"
   ]
  },
  {
   "cell_type": "code",
   "execution_count": 29,
   "id": "6226596f-97f7-4669-bc38-a4e0ff8c8dfe",
   "metadata": {},
   "outputs": [
    {
     "name": "stdout",
     "output_type": "stream",
     "text": [
      "The percentage of Admission dates is: 99.67974379503603 and the percentage of Discharge dates is: 94.23538831064852\n"
     ]
    }
   ],
   "source": [
    "date_in_09 = (\n",
    "    (df_09_imp.shape[0] - df_09_imp[\"Admission Date\"].isna().sum())\n",
    "    * 100\n",
    "    / df_09_imp.shape[0]\n",
    ")\n",
    "date_out_09 = (\n",
    "    (df_09_imp.shape[0] - df_09_imp[\"Discharge Date\"].isna().sum())\n",
    "    * 100\n",
    "    / df_09_imp.shape[0]\n",
    ")\n",
    "print(\n",
    "    f\"The percentage of Admission dates is: {date_in_09} and the percentage of Discharge dates is: {date_out_09}\"\n",
    ")"
   ]
  },
  {
   "cell_type": "markdown",
   "id": "1982aa10-1211-47b6-9d57-7bc657dad448",
   "metadata": {},
   "source": [
    "## 2010"
   ]
  },
  {
   "cell_type": "markdown",
   "id": "dec56d44-9049-4158-87f8-cfb2da3fb32b",
   "metadata": {},
   "source": [
    "#### Get DF"
   ]
  },
  {
   "cell_type": "code",
   "execution_count": 66,
   "id": "e00519c4-ae1d-4a95-8c97-5a0833c1037c",
   "metadata": {},
   "outputs": [],
   "source": [
    "# Get all the files\n",
    "root_10 = \"Data/2010\"\n",
    "list_of_txt_10 = functions.search_for_files(root_10, \".txt\")\n",
    "\n",
    "# Put it into a dictionnary and get the ID as the name of the file\n",
    "EHR_10 = {}\n",
    "\n",
    "for file in list_of_txt_10:\n",
    "    with open(file, encoding=\"utf-8-sig\") as f:\n",
    "        lines = f.readlines()\n",
    "    ID = file.split(\"/\")[-1][:-4]\n",
    "    EHR_10[f\"10_{ID}\"] = \"\".join(lines)\n",
    "    \n",
    "df_10 = pd.DataFrame.from_dict(EHR_10, orient=\"index\")\n",
    "#df_10"
   ]
  },
  {
   "cell_type": "markdown",
   "id": "5504c557-9133-4fcd-90b2-f44c5aecfbac",
   "metadata": {},
   "source": [
    "#### Get features"
   ]
  },
  {
   "cell_type": "markdown",
   "id": "70b31b1b-2892-4f98-8409-85124e121ccd",
   "metadata": {},
   "source": [
    "#### Get additional data"
   ]
  },
  {
   "cell_type": "markdown",
   "id": "86776cb7-4ae0-4c40-9fb1-14a1d7b3b7fd",
   "metadata": {},
   "source": [
    "## 2011\n",
    "\n",
    "Extraction of dates"
   ]
  },
  {
   "cell_type": "markdown",
   "id": "22f5571a-c201-452a-aecf-b604670c0d3d",
   "metadata": {},
   "source": [
    "#### Get DF"
   ]
  },
  {
   "cell_type": "code",
   "execution_count": 30,
   "id": "1572def9-d430-4875-a545-812e74f70c7d",
   "metadata": {},
   "outputs": [],
   "source": [
    "# Get all the files\n",
    "root_11 = \"Data/2011\"\n",
    "list_of_txt_11 = functions.search_for_files(root_11, \".txt\")\n",
    "\n",
    "EHR_11 = {}\n",
    "\n",
    "for file in list_of_txt_11:\n",
    "    with open(file, encoding=\"utf-8-sig\") as f:\n",
    "        lines = f.readlines()\n",
    "    ID = file.split(\"/\")[-1].split(\"-\")[-1][:-4]\n",
    "    EHR_11[f\"11_{ID}\"] = \"\".join(lines)\n",
    "    \n",
    "df_11 = pd.DataFrame.from_dict(EHR_11, orient=\"index\").sort_index()\n",
    "#df_11"
   ]
  },
  {
   "cell_type": "markdown",
   "id": "c2ea79d4-2386-465d-b8c0-82ef038d3f02",
   "metadata": {},
   "source": [
    "#### Get features"
   ]
  },
  {
   "cell_type": "code",
   "execution_count": 37,
   "id": "ea36e64e-7526-4d70-8350-2a7148a16125",
   "metadata": {},
   "outputs": [],
   "source": [
    "# EHR_11_imp = {}\n",
    "\n",
    "# for k, txt in EHR_11.items():\n",
    "#     EHR_11_imp[k] = {'text':None, 'Admission Date': None, 'Discharge Date': None, 'Date of Birth': None, 'Sex': None, 'Service': None}\n",
    "#     important_info = txt.split('\\n')\n",
    "#     EHR_11_imp[k]['text'] = txt\n",
    "#     EHR_11_imp[k]['Admission Date'] = important_info[1]\n",
    "#     EHR_11_imp[k]['Discharge Date'] = important_info[3]\n",
    "#     EHR_11_imp[k]['Date of Birth'] = important_info[5]\n",
    "#     EHR_11_imp[k]['Sex'] = important_info[7]\n",
    "#     EHR_11_imp[k]['Service'] = important_info[9] \n",
    "\n",
    "# df_11_imp = pd.DataFrame.from_dict(EHR_11_imp, orient=\"index\")\n",
    "# df_11_imp"
   ]
  },
  {
   "cell_type": "code",
   "execution_count": 56,
   "id": "f107ff89-62a9-4a8d-afb8-6655a3163ee2",
   "metadata": {},
   "outputs": [],
   "source": [
    "EHR_11_imp = {}\n",
    "for k, txt in EHR_11.items():\n",
    "    EHR_11_imp[k] = {'text': txt, 'Admission Date': None, 'Discharge Date': None}\n",
    "    if 'Admission Date :' in txt:\n",
    "        AD = txt.split('Admission Date :')[1].split('\\n')[1]\n",
    "        EHR_11_imp[k]['Admission Date'] = AD\n",
    "    elif 'ADMISSION DATE :' in txt:\n",
    "        AD_1 = txt.split('ADMISSION DATE :')[1].split('\\n')[1]\n",
    "        EHR_11_imp[k]['Admission Date'] = AD_1\n",
    "    if 'Discharge Date :' in txt:\n",
    "        AD = txt.split('Discharge Date :')[1].split('\\n')[1]\n",
    "        EHR_11_imp[k]['Discharge Date'] = AD\n",
    "    elif 'DISCHARGE DATE :' in txt:\n",
    "        AD_1 = txt.split('DISCHARGE DATE :')[1].split('\\n')[1]\n",
    "        EHR_11_imp[k]['Discharge Date'] = AD_1\n",
    "\n",
    "df_11_imp = pd.DataFrame.from_dict(EHR_11_imp, orient = 'index')\n",
    "#df_11_imp['Discharge Date']"
   ]
  },
  {
   "cell_type": "markdown",
   "id": "23c6731b-2c3c-4bd9-bea1-3c1fc8bc3452",
   "metadata": {},
   "source": [
    "#### Get additional Data"
   ]
  },
  {
   "cell_type": "code",
   "execution_count": 57,
   "id": "fd501eb9-0822-423d-bf55-cd0bfa22caf7",
   "metadata": {},
   "outputs": [
    {
     "name": "stdout",
     "output_type": "stream",
     "text": [
      "The percentage of Admission dates is: 88.20754716981132 and the percentage of Discharge dates is: 87.97169811320755\n"
     ]
    }
   ],
   "source": [
    "date_in_11 = (\n",
    "    (df_11_imp.shape[0] - df_11_imp[\"Admission Date\"].isna().sum())\n",
    "    * 100\n",
    "    / df_11_imp.shape[0]\n",
    ")\n",
    "date_out_11 = (\n",
    "    (df_11_imp.shape[0] - df_11_imp[\"Discharge Date\"].isna().sum())\n",
    "    * 100\n",
    "    / df_11_imp.shape[0]\n",
    ")\n",
    "print(\n",
    "    f\"The percentage of Admission dates is: {date_in_11} and the percentage of Discharge dates is: {date_out_11}\"\n",
    ")"
   ]
  },
  {
   "cell_type": "markdown",
   "id": "3690d70a-93c8-4ce1-971a-60cf84870f76",
   "metadata": {},
   "source": [
    "## 2012"
   ]
  },
  {
   "cell_type": "markdown",
   "id": "1fd83637-084b-4f5f-8c45-9871196cf38c",
   "metadata": {},
   "source": [
    "#### Get DF"
   ]
  },
  {
   "cell_type": "code",
   "execution_count": null,
   "id": "d6a1531b-1c3e-401f-b2e7-ffb21b7c528c",
   "metadata": {},
   "outputs": [],
   "source": [
    "# Get all the files\n",
    "root_12 = \"Data/2012\"\n",
    "list_of_txt_12 = functions.search_for_files(root_12, \".txt\")\n",
    "\n",
    "EHR_12 = {}\n",
    "\n",
    "for file in list_of_txt_12:\n",
    "    with open(file, encoding=\"utf-8-sig\") as f:\n",
    "        lines = f.readlines()\n",
    "    ID = file.split(\"/\")[-1].split(\".\")[0]\n",
    "    EHR_12[f\"12_{ID}\"] = \"\".join(lines)\n",
    "    \n",
    "df_12 = pd.DataFrame.from_dict(EHR_12, orient=\"index\").sort_index()\n",
    "#df_12"
   ]
  },
  {
   "cell_type": "markdown",
   "id": "432299a9-dbd7-49a2-a38f-4d94905f1be4",
   "metadata": {},
   "source": [
    "#### Get Features"
   ]
  },
  {
   "cell_type": "code",
   "execution_count": 64,
   "id": "1d9580b5-7625-483b-9df5-72cdb5b5277d",
   "metadata": {},
   "outputs": [],
   "source": [
    "EHR_12_imp = {}\n",
    "for k, txt in EHR_12.items():\n",
    "    EHR_12_imp[k] = {'text': txt, 'Admission Date': None, 'Discharge Date': None}\n",
    "    if 'Admission Date :' in txt:\n",
    "        AD = txt.split('Admission Date :')[1].split('\\n')[1]\n",
    "        EHR_12_imp[k]['Admission Date'] = AD\n",
    "    elif 'ADMISSION DATE :' in txt:\n",
    "        AD_1 = txt.split('ADMISSION DATE :')[1].split('\\n')[1]\n",
    "        EHR_12_imp[k]['Admission Date'] = AD_1\n",
    "    if 'Discharge Date :' in txt:\n",
    "        AD = txt.split('Discharge Date :')[1].split('\\n')[1]\n",
    "        EHR_12_imp[k]['Discharge Date'] = AD\n",
    "    elif 'DISCHARGE DATE :' in txt:\n",
    "        AD_1 = txt.split('DISCHARGE DATE :')[1].split('\\n')[1]\n",
    "        EHR_12_imp[k]['Discharge Date'] = AD_1\n",
    "\n",
    "df_12_imp = pd.DataFrame.from_dict(EHR_12_imp, orient = 'index')\n",
    "#df_12_imp"
   ]
  },
  {
   "cell_type": "markdown",
   "id": "4b0e38cf-ffd1-4e73-ad84-7babbe82cce3",
   "metadata": {},
   "source": [
    "#### Get additional data"
   ]
  },
  {
   "cell_type": "code",
   "execution_count": 61,
   "id": "73483b15-8a9a-401f-acd8-f00d13f7659a",
   "metadata": {},
   "outputs": [
    {
     "name": "stdout",
     "output_type": "stream",
     "text": [
      "The percentage of Admission dates is: 99.35483870967742 and the percentage of Discharge dates is: 99.6774193548387\n"
     ]
    }
   ],
   "source": [
    "date_in_12 = (\n",
    "    (df_12_imp.shape[0] - df_12_imp[\"Admission Date\"].isna().sum())\n",
    "    * 100\n",
    "    / df_12_imp.shape[0]\n",
    ")\n",
    "date_out_12 = (\n",
    "    (df_12_imp.shape[0] - df_12_imp[\"Discharge Date\"].isna().sum())\n",
    "    * 100\n",
    "    / df_12_imp.shape[0]\n",
    ")\n",
    "print(\n",
    "    f\"The percentage of Admission dates is: {date_in_12} and the percentage of Discharge dates is: {date_out_12}\"\n",
    ")"
   ]
  },
  {
   "cell_type": "markdown",
   "id": "f7f59645-a741-4d0b-8d32-84b9e3a8012a",
   "metadata": {},
   "source": [
    "## 2014"
   ]
  },
  {
   "cell_type": "markdown",
   "id": "38f4598c-e633-4722-93a9-1c6942af6d69",
   "metadata": {},
   "source": [
    "#### Get DF"
   ]
  },
  {
   "cell_type": "markdown",
   "id": "769e7e61-8862-4898-b440-90d252c6c5ee",
   "metadata": {},
   "source": [
    "#### Get features"
   ]
  },
  {
   "cell_type": "markdown",
   "id": "2d7bfe70-2f0a-4292-8ef0-3df9953dd5ea",
   "metadata": {},
   "source": [
    "#### Get additional stats"
   ]
  },
  {
   "cell_type": "markdown",
   "id": "d3443a59-177e-4cc8-908c-f558e2a32362",
   "metadata": {},
   "source": [
    "## 2018_1"
   ]
  },
  {
   "cell_type": "markdown",
   "id": "fba2538f-95b8-4d73-bc9c-4c246ac6219d",
   "metadata": {},
   "source": [
    "#### Get DF"
   ]
  },
  {
   "cell_type": "markdown",
   "id": "11b4280b-b91f-407f-af3d-6c9e3567cfae",
   "metadata": {},
   "source": [
    "#### Get features"
   ]
  },
  {
   "cell_type": "markdown",
   "id": "29a30e09-6d8b-4e4d-bf76-f9393a94f21d",
   "metadata": {},
   "source": [
    "#### Get additional stats"
   ]
  },
  {
   "cell_type": "markdown",
   "id": "b62c262f-0cf9-4417-9764-9e8980954749",
   "metadata": {},
   "source": [
    "## 2018_2"
   ]
  },
  {
   "cell_type": "markdown",
   "id": "ab98ffa3-47d5-4b00-8025-6d3b4d73f7a0",
   "metadata": {},
   "source": [
    "#### Get DF"
   ]
  },
  {
   "cell_type": "markdown",
   "id": "e6e2a6ca-95e8-4fab-9bce-786fe0b62d55",
   "metadata": {},
   "source": [
    "#### Get features"
   ]
  },
  {
   "cell_type": "markdown",
   "id": "37bfec55-7699-490d-8d69-d568d1a64aed",
   "metadata": {},
   "source": [
    "#### Get additional stats"
   ]
  },
  {
   "cell_type": "code",
   "execution_count": null,
   "id": "2978a5e8-cde3-4a84-a67b-310a692e7839",
   "metadata": {},
   "outputs": [],
   "source": []
  }
 ],
 "metadata": {
  "kernelspec": {
   "display_name": "JS_venv_data_science_1",
   "language": "python",
   "name": "js_venv_data_science_1"
  },
  "language_info": {
   "codemirror_mode": {
    "name": "ipython",
    "version": 3
   },
   "file_extension": ".py",
   "mimetype": "text/x-python",
   "name": "python",
   "nbconvert_exporter": "python",
   "pygments_lexer": "ipython3",
   "version": "3.8.11"
  }
 },
 "nbformat": 4,
 "nbformat_minor": 5
}
