{
 "cells": [
  {
   "cell_type": "markdown",
   "id": "5166ebbc-4ea4-45ac-8d3f-8180b95ff6d8",
   "metadata": {},
   "source": [
    "# Transform the Downloaded DATASET\n",
    "\n",
    "Take the dataset from the N2C2 Challenges and transform them into a coherent dataset\n",
    "\n",
    "The years that have .txt files are: 2009, 2010, 2011, 2012, 2018-ADE"
   ]
  },
  {
   "cell_type": "code",
   "execution_count": 1,
   "id": "4b7cb257-6a64-4bb8-9f05-40206b1250bb",
   "metadata": {},
   "outputs": [],
   "source": [
    "import os\n",
    "import sys\n",
    "import pandas as pd"
   ]
  },
  {
   "cell_type": "code",
   "execution_count": 2,
   "id": "d2431ea8-8663-473e-bc70-b36282d8732f",
   "metadata": {},
   "outputs": [],
   "source": [
    "r_2009 = \"DataSet (Medecine)/2009 - Medication\"\n",
    "r_2010 = \"DataSet (Medecine)/2010 - Relations\"\n",
    "r_2011 = \"DataSet (Medecine)/2011 - Conference\"\n",
    "r_2012 = \"DataSet (Medecine)/2012 - Temporal\"\n",
    "r_2018_ADE = \"DataSet (Medecine)/2018 - ADE\""
   ]
  },
  {
   "cell_type": "code",
   "execution_count": 3,
   "id": "b078ce56-abfd-463c-9b1a-d0ff717afac4",
   "metadata": {},
   "outputs": [],
   "source": [
    "#    if file.endwith(.txt):\n",
    "def txt_to_dataset(file) -> list:\n",
    "    \"\"\"\n",
    "    INPUT:\n",
    "    file: a file that needs to be read\n",
    "\n",
    "    OUTPUT:\n",
    "    lines: the string of the EHR\n",
    "\n",
    "    Return the string version of the EHR from the .txt file\n",
    "    \"\"\"\n",
    "\n",
    "    with open(file, encoding=\"utf-8-sig\") as f:\n",
    "        lines = f.readlines()\n",
    "    lines = \" \".join(lines)\n",
    "    lines = lines.replace(\"\\n\", \"\")\n",
    "    return lines"
   ]
  },
  {
   "cell_type": "code",
   "execution_count": 4,
   "id": "78cec073-1bb4-4d1b-a60f-57ad21cc902a",
   "metadata": {},
   "outputs": [],
   "source": [
    "def search_for_files(root):\n",
    "    \"\"\"\n",
    "    For all the files that end in .txt in the DataSet (Medecine) folder are put into one list\n",
    "    \"\"\"\n",
    "    ls = []\n",
    "    for path, subdirs, files in os.walk(root):\n",
    "        for name in files:\n",
    "            file = os.path.join(path, name)\n",
    "            if file.endswith(\".txt\"):\n",
    "                ls.append(file)\n",
    "    return ls"
   ]
  },
  {
   "cell_type": "code",
   "execution_count": 5,
   "id": "1296b35b-1077-425b-bfdd-ddbcc8cc6740",
   "metadata": {},
   "outputs": [],
   "source": [
    "def make_dict(ls):\n",
    "    \"\"\"\n",
    "    Turn the list of .txt files into a dictionnary with the idx being the name of the file and the key be the text\n",
    "    \"\"\"\n",
    "    dict_of_str = {}\n",
    "    dup = []\n",
    "    for file in ls:\n",
    "        dup.append(txt_to_dataset(file))\n",
    "        dict_of_str[file] = txt_to_dataset(file)\n",
    "    return dict_of_str"
   ]
  },
  {
   "cell_type": "code",
   "execution_count": 6,
   "id": "95bb962d-981f-4d6f-9e68-4a88d1f77afa",
   "metadata": {},
   "outputs": [],
   "source": [
    "df_2009 = pd.DataFrame.from_dict(\n",
    "    make_dict(search_for_files(\"DataSet (Medecine)/2009 - Medication\")), orient=\"index\"\n",
    ")\n",
    "df_2010 = pd.DataFrame.from_dict(\n",
    "    make_dict(search_for_files(\"DataSet (Medecine)/2010 - Relations\")), orient=\"index\"\n",
    ")\n",
    "df_2011 = pd.DataFrame.from_dict(\n",
    "    make_dict(search_for_files(\"DataSet (Medecine)/2011 - Conference\")), orient=\"index\"\n",
    ")\n",
    "df_2012 = pd.DataFrame.from_dict(\n",
    "    make_dict(search_for_files(\"DataSet (Medecine)/2012 - Temporal\")), orient=\"index\"\n",
    ")\n",
    "df_2018_ADE = pd.DataFrame.from_dict(\n",
    "    make_dict(search_for_files(\"DataSet (Medecine)/2018 - ADE\")), orient=\"index\"\n",
    ")"
   ]
  },
  {
   "cell_type": "code",
   "execution_count": 12,
   "id": "d9b7ee4d-f5d2-4b9f-8efa-68300c24ccd8",
   "metadata": {},
   "outputs": [],
   "source": [
    "df = pd.concat([df_2009, df_2010, df_2011, df_2012, df_2018_ADE])"
   ]
  },
  {
   "cell_type": "code",
   "execution_count": 13,
   "id": "24c08bce-fc0b-485a-bb2b-fdcbc58c1944",
   "metadata": {},
   "outputs": [
    {
     "data": {
      "text/html": [
       "<div>\n",
       "<style scoped>\n",
       "    .dataframe tbody tr th:only-of-type {\n",
       "        vertical-align: middle;\n",
       "    }\n",
       "\n",
       "    .dataframe tbody tr th {\n",
       "        vertical-align: top;\n",
       "    }\n",
       "\n",
       "    .dataframe thead th {\n",
       "        text-align: right;\n",
       "    }\n",
       "</style>\n",
       "<table border=\"1\" class=\"dataframe\">\n",
       "  <thead>\n",
       "    <tr style=\"text-align: right;\">\n",
       "      <th></th>\n",
       "      <th>0</th>\n",
       "    </tr>\n",
       "  </thead>\n",
       "  <tbody>\n",
       "    <tr>\n",
       "      <th>DataSet (Medecine)/2009 - Medication/779976.txt</th>\n",
       "      <td>RECORD #779976 079220999 | LMC | 92547244 | | ...</td>\n",
       "    </tr>\n",
       "    <tr>\n",
       "      <th>DataSet (Medecine)/2009 - Medication/896721.txt</th>\n",
       "      <td>RECORD #896721   010732991 | HMC | 51210886 | ...</td>\n",
       "    </tr>\n",
       "    <tr>\n",
       "      <th>DataSet (Medecine)/2009 - Medication/639827.txt</th>\n",
       "      <td>RECORD #639827 152184884 | SAMC | 03895233 | |...</td>\n",
       "    </tr>\n",
       "    <tr>\n",
       "      <th>DataSet (Medecine)/2009 - Medication/818884.txt</th>\n",
       "      <td>RECORD #818884 571742072 | MMC | 97450845 | | ...</td>\n",
       "    </tr>\n",
       "    <tr>\n",
       "      <th>DataSet (Medecine)/2009 - Medication/321886.txt</th>\n",
       "      <td>RECORD #321886 179879476 | CGH | 74875587 | | ...</td>\n",
       "    </tr>\n",
       "    <tr>\n",
       "      <th>...</th>\n",
       "      <td>...</td>\n",
       "    </tr>\n",
       "    <tr>\n",
       "      <th>DataSet (Medecine)/2018 - ADE/103074.txt</th>\n",
       "      <td>Admission Date:  [**2125-10-10**]       Discha...</td>\n",
       "    </tr>\n",
       "    <tr>\n",
       "      <th>DataSet (Medecine)/2018 - ADE/101739.txt</th>\n",
       "      <td>Name:  [**Known lastname **],[**Known firstnam...</td>\n",
       "    </tr>\n",
       "    <tr>\n",
       "      <th>DataSet (Medecine)/2018 - ADE/101276.txt</th>\n",
       "      <td>Admission Date:  [**2120-10-4**]              ...</td>\n",
       "    </tr>\n",
       "    <tr>\n",
       "      <th>DataSet (Medecine)/2018 - ADE/112226.txt</th>\n",
       "      <td>Admission Date:  [**2175-6-10**]              ...</td>\n",
       "    </tr>\n",
       "    <tr>\n",
       "      <th>DataSet (Medecine)/2018 - ADE/105585.txt</th>\n",
       "      <td>Admission Date:  [**2183-1-7**]              D...</td>\n",
       "    </tr>\n",
       "  </tbody>\n",
       "</table>\n",
       "<p>2757 rows × 1 columns</p>\n",
       "</div>"
      ],
      "text/plain": [
       "                                                                                                 0\n",
       "DataSet (Medecine)/2009 - Medication/779976.txt  RECORD #779976 079220999 | LMC | 92547244 | | ...\n",
       "DataSet (Medecine)/2009 - Medication/896721.txt  RECORD #896721   010732991 | HMC | 51210886 | ...\n",
       "DataSet (Medecine)/2009 - Medication/639827.txt  RECORD #639827 152184884 | SAMC | 03895233 | |...\n",
       "DataSet (Medecine)/2009 - Medication/818884.txt  RECORD #818884 571742072 | MMC | 97450845 | | ...\n",
       "DataSet (Medecine)/2009 - Medication/321886.txt  RECORD #321886 179879476 | CGH | 74875587 | | ...\n",
       "...                                                                                            ...\n",
       "DataSet (Medecine)/2018 - ADE/103074.txt         Admission Date:  [**2125-10-10**]       Discha...\n",
       "DataSet (Medecine)/2018 - ADE/101739.txt         Name:  [**Known lastname **],[**Known firstnam...\n",
       "DataSet (Medecine)/2018 - ADE/101276.txt         Admission Date:  [**2120-10-4**]              ...\n",
       "DataSet (Medecine)/2018 - ADE/112226.txt         Admission Date:  [**2175-6-10**]              ...\n",
       "DataSet (Medecine)/2018 - ADE/105585.txt         Admission Date:  [**2183-1-7**]              D...\n",
       "\n",
       "[2757 rows x 1 columns]"
      ]
     },
     "execution_count": 13,
     "metadata": {},
     "output_type": "execute_result"
    }
   ],
   "source": [
    "df"
   ]
  },
  {
   "cell_type": "code",
   "execution_count": null,
   "id": "53a18b42-bb18-4558-bd1b-8b009bdc1dbb",
   "metadata": {},
   "outputs": [],
   "source": []
  }
 ],
 "metadata": {
  "kernelspec": {
   "display_name": "JS_venv_data_science_1",
   "language": "python",
   "name": "js_venv_data_science_1"
  },
  "language_info": {
   "codemirror_mode": {
    "name": "ipython",
    "version": 3
   },
   "file_extension": ".py",
   "mimetype": "text/x-python",
   "name": "python",
   "nbconvert_exporter": "python",
   "pygments_lexer": "ipython3",
   "version": "3.8.11"
  }
 },
 "nbformat": 4,
 "nbformat_minor": 5
}
