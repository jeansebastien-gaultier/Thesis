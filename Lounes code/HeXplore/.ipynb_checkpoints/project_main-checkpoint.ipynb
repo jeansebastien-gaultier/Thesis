{
 "cells": [
  {
   "cell_type": "code",
   "execution_count": 2,
   "metadata": {},
   "outputs": [],
   "source": [
    "import re\n",
    "import os\n",
    "import psutil\n",
    "import numpy as np\n",
    "import pandas as pd\n",
    "import random\n",
    "from itertools import combinations\n",
    "from itertools import islice\n",
    "import string\n",
    "from sklearn.feature_extraction.text import TfidfVectorizer\n",
    "from sklearn.metrics.pairwise import cosine_similarity\n",
    "import json\n",
    "import importlib\n",
    "from collections import Counter\n",
    "import spacy\n",
    "import seaborn as sns\n",
    "from sklearn.feature_extraction.text import CountVectorizer\n",
    "from scipy.sparse import csr_matrix"
   ]
  },
  {
   "cell_type": "code",
   "execution_count": 3,
   "metadata": {},
   "outputs": [],
   "source": [
    "import data_extraction\n",
    "import preprocessing"
   ]
  },
  {
   "cell_type": "code",
   "execution_count": 2,
   "metadata": {},
   "outputs": [
    {
     "name": "stderr",
     "output_type": "stream",
     "text": [
      "C:\\Users\\lmechoue\\OneDrive - Capgemini\\Documents\\Projet_Doc\\Code\\venvEHR\\Lib\\site-packages\\spacy\\util.py:877: UserWarning: [W095] Model 'en_core_web_md' (3.5.0) was trained with spaCy v3.5 and may not be 100% compatible with the current version (3.4.4). If you see errors or degraded performance, download a newer compatible model or retrain your custom model with the current spaCy version. For more details and available updates, run: python -m spacy validate\n",
      "  warnings.warn(warn_msg)\n"
     ]
    }
   ],
   "source": [
    "nlp = spacy.load(\"en_core_web_md\")"
   ]
  },
  {
   "attachments": {},
   "cell_type": "markdown",
   "metadata": {},
   "source": [
    "# Fonctions"
   ]
  },
  {
   "cell_type": "code",
   "execution_count": 508,
   "metadata": {},
   "outputs": [],
   "source": [
    "def checkEspaceMemoire(fname):\n",
    "    '''Vérifie que l'on dispose de l'espace mémoire suffisant en RAM pour pouvoir charger le fichier fname.\n",
    "    '''\n",
    "    filepath = os.path.abspath(fname)\n",
    "    filesize = os.path.getsize(filepath)\n",
    "    available_memory = psutil.virtual_memory().free\n",
    "    \n",
    "    if filesize > available_memory:\n",
    "        raise Exception(\"La taille du fichier est supérieure à l'espace disponible en mémoire RAM\")\n",
    "    return 1"
   ]
  },
  {
   "cell_type": "code",
   "execution_count": 509,
   "metadata": {},
   "outputs": [],
   "source": [
    "def split_string(string, separator):\n",
    "    '''Effectue un split en gérant le cas où le séparateur est une chaine vide\n",
    "    '''\n",
    "    if separator==None:\n",
    "        raise ValueError(\"Le séparateur ne peut pas être NULL.\")\n",
    "    elif separator == '':\n",
    "        return [string]\n",
    "    else:\n",
    "        return string.split(separator)"
   ]
  },
  {
   "cell_type": "code",
   "execution_count": 510,
   "metadata": {},
   "outputs": [],
   "source": [
    "def getSingleRapport(fname, delimiteurSup, delimiteurInf, pattern=None, id=None):\n",
    "    '''Fonction à privilégier lorsqu'on dispose d'un seul rapport par fichier\n",
    "\n",
    "    INPUTS \n",
    "        fname : nom ou  chemin du fichier <String>\n",
    "        delimiteurSup : balise ou chaîne de caractères permettant de délimiter le début d'un enregistrement <String>\n",
    "        delimiteurInf : balise ou chaîne de caractères permettant de délimiter la fin d'un enregistrement <String>\n",
    "        pattern : pattern regex de la balise XML où se trouve l'id de l'enregistrement <String>\n",
    "        id : si l'id est explicite (ex. nom du fichier) on peut se passer du pattern. Fonctionne seulement dans le cas d'un seul rapport par document. <int>\n",
    "\n",
    "    OUTPUTS \n",
    "        dictionnaire contenant l'id en clé et le contenu de l'EHR en valeur.\n",
    "\n",
    "    '''\n",
    "    result = {}\n",
    "    filepath = os.path.abspath(fname)\n",
    "    ehr=''\n",
    "    header=''\n",
    "    \n",
    "    try:\n",
    "        checkEspaceMemoire(filepath)\n",
    "    except Exception:\n",
    "        print(\"Désolé, votre espace mémoire ne vous permet pas de charger le fichier...\")\n",
    "        return None\n",
    "    \n",
    "    with open(filepath) as f:\n",
    "        content = f.read().strip()\n",
    "        # L'utilisateur doit fournir un délimiteur inférieur non-null et différent de ''.\n",
    "        # Dans le cas où la chaine donnée entrée n'existe pas dans le rapport, la variable paragraphs contiendra le paragraphe initial \n",
    "        if delimiteurInf!=None:\n",
    "            paragraphs = split_string(content, delimiteurInf)\n",
    "        else:\n",
    "            raise ValueError(\"Le délimiteur inférieur ne peut pas être NULL.\")\n",
    "        \n",
    "        # La chaîne d'intérêt (EHR), se trouve forcément à la case 0 du tableau paragraphs\n",
    "        if paragraphs[0]!= None and paragraphs[0] != '' and not paragraphs[0].isspace():\n",
    "            if delimiteurSup != None and delimiteurSup != '':\n",
    "                header = paragraphs[0].split(delimiteurSup)[0]\n",
    "                ehr = paragraphs[0].split(delimiteurSup)[1]\n",
    "            else:\n",
    "                ehr = paragraphs[0]\n",
    "        else:\n",
    "            return None\n",
    "        \n",
    "        # Une fois que l'ehr a été récupéré, on extrait l'id s'il n'a pas été fourni par l'utilisateur\n",
    "        if ehr != None and ehr != '' and not ehr.isspace():\n",
    "            if id != None:\n",
    "                result[int(id)] = ehr\n",
    "            else:\n",
    "                if pattern != None:\n",
    "                    # On récupère l'id du compte rendu contenu dans la balise XML (<RECORD> par exemple)\n",
    "                    rec_id = re.findall(pattern , header)\n",
    "                    if rec_id != []:\n",
    "                        # La chaîne sp[1] représente le corps du compte rendu\n",
    "                        #result[int(rec_id[0])] = sp[1].replace('\\n', ' ')\n",
    "                        result[int(rec_id[0])] = ehr\n",
    "                # Si l'ID n'est pas fourni, il faut que pattern soit != None\n",
    "                else:\n",
    "                    raise ValueError(\"Le pattern ne peut pas être NULL lorsque l'ID n'est pas spécifié.\")\n",
    "        return result"
   ]
  },
  {
   "cell_type": "code",
   "execution_count": 511,
   "metadata": {},
   "outputs": [],
   "source": [
    "def getRapports(fname, delimiteurSup, delimiteurInf, pattern=None):\n",
    "    '''Fonction qui se charge d'extraire PLUSIEURS rapports contenus dans un MÊME fichier.\n",
    "    \n",
    "    INPUTS \n",
    "        fname : nom ou  chemin du fichier <String>\n",
    "        delimiteurSup : balise ou chaîne de caractères permettant de délimiter le début d'un enregistrement <String>\n",
    "        delimiteurInf : balise ou chaîne de caractères permettant de délimiter la fin d'un enregistrement <String>\n",
    "        pattern : pattern regex de la balise XML où se trouve l'id de l'enregistrement <String>\n",
    "\n",
    "    OUTPUTS \n",
    "        dictionnaire contenant les id en clés et les contenus des EHR en valeurs.\n",
    "    '''\n",
    "    result = {}\n",
    "    filepath = os.path.abspath(fname)\n",
    "    sp = []\n",
    "    ap = None\n",
    "    \n",
    "    try:\n",
    "        checkEspaceMemoire(filepath)\n",
    "    except Exception:\n",
    "        print(\"Désolé, votre espace mémoire ne vous permet pas de charger le fichier...\")\n",
    "        return 0\n",
    "\n",
    "    with open(filepath) as f:\n",
    "        content = f.read().strip()\n",
    "        # L'utilisateur doit fournir un délimiteur inférieur non-null et différent de ''.\n",
    "        # Dans le cas où la chaine donnée entrée n'existe pas dans le rapport, la variable paragraphs contiendra le paragraphe initial \n",
    "        if delimiteurInf!=None:\n",
    "            paragraphs = split_string(content, delimiteurInf)\n",
    "        else:\n",
    "            raise ValueError(\"Le délimiteur inférieur ne peut pas être NULL.\")\n",
    "\n",
    "        # Effectuer une deuxième séparation par le début avec la chaîne delimiteurSup\n",
    "        for paragraph in paragraphs:\n",
    "            # On vérifie que le paragraphe n'est pas vide \n",
    "            if paragraph!= None and paragraph != '' and not paragraph.isspace():\n",
    "                if delimiteurSup != None and delimiteurSup != '':\n",
    "                    sp = paragraph.split(delimiteurSup)\n",
    "                else:\n",
    "                    if delimiteurInf=='':\n",
    "                        raise ValueError(\"Il faut au moins un délimiteur valide.\")\n",
    "                    ap = paragraph \n",
    "\n",
    "                if pattern != None:\n",
    "                    if sp != []:\n",
    "                        # On récupère l'id du compte rendu contenu dans la balise XML (<RECORD> par exemple)\n",
    "                        rec_id = re.findall(pattern , sp[0])\n",
    "                        if rec_id != []:\n",
    "                            # La chaîne sp[1] représente le corps du compte rendu\n",
    "                            result[int(rec_id[0])] = sp[1]\n",
    "                    elif ap != None:\n",
    "                        rec_id = re.findall(pattern , ap)\n",
    "                        if rec_id != []:\n",
    "                            # La chaîne sp[1] représente le corps du compte rendu\n",
    "                            result[int(rec_id[0])] = ap\n",
    "                else:\n",
    "                    a_id = random.randint(8000,30000)\n",
    "                    print(f\"Warning : Aucun id n'a pu être identifié pour ce compte rendu. l'ID aléatoire {a_id} lui a été assigné.\")\n",
    "                    if sp!=[]:\n",
    "                        result[int(a_id)] = sp[1]\n",
    "                    elif ap!=None:\n",
    "                        result[int(a_id)] = ap\n",
    "            sp=[]\n",
    "            ap=None\n",
    "    return result"
   ]
  },
  {
   "cell_type": "code",
   "execution_count": 512,
   "metadata": {},
   "outputs": [],
   "source": [
    "def checkForBalises(chaine):\n",
    "    return True if re.search(\"<.+?>\", chaine) else False"
   ]
  },
  {
   "cell_type": "code",
   "execution_count": 7,
   "metadata": {},
   "outputs": [],
   "source": [
    "def equalReports(rep1, rep2):\n",
    "    '''Renvoie True si deux rapports sont les mêmes indépendamment des espaces, de la ponctuation et de la casse. \n",
    "    '''\n",
    "    # On remplace tous les caractères de ponctuation par des espaces\n",
    "    rep1_clean = re.sub(f'[{re.escape(string.punctuation)}]', ' ', rep1)\n",
    "    rep2_clean = re.sub(f'[{re.escape(string.punctuation)}]', ' ', rep2)\n",
    "\n",
    "    # On compare les chaînes de caractères sans tenir compte des espaces et de la casse\n",
    "    return True if \"\".join((rep1_clean.lower()).split()) == \"\".join((rep2_clean.lower()).split()) else False\n",
    "        "
   ]
  },
  {
   "cell_type": "code",
   "execution_count": 5,
   "metadata": {},
   "outputs": [],
   "source": [
    "def getSimilarReports(dictRaps):\n",
    "    for couple in list(combinations(list(dictRaps.keys()), 2)):\n",
    "        if equalReports(dictRaps[couple[0]], dictRaps[couple[1]]):\n",
    "            return couple"
   ]
  },
  {
   "attachments": {},
   "cell_type": "markdown",
   "metadata": {},
   "source": [
    "# Extraction des rapports"
   ]
  },
  {
   "attachments": {},
   "cell_type": "markdown",
   "metadata": {},
   "source": [
    "## Rapports de 2006"
   ]
  },
  {
   "cell_type": "code",
   "execution_count": 569,
   "metadata": {},
   "outputs": [],
   "source": [
    "folder_name = \"2006 - Deidentification & Smoking\"\n",
    "dict_rapports_2006 = {}"
   ]
  },
  {
   "attachments": {},
   "cell_type": "markdown",
   "metadata": {},
   "source": [
    "### unannotated_records_deid_smoking.xml"
   ]
  },
  {
   "cell_type": "code",
   "execution_count": 570,
   "metadata": {},
   "outputs": [],
   "source": [
    "dict_rapports_2006 = {**dict_rapports_2006, **getRapports(folder_name+\"/unannotated_records_deid_smoking.xml\", \"<TEXT>\", \"[ report_end ]\", '<RECORD ID=\"([0-9]+)\">')}"
   ]
  },
  {
   "cell_type": "code",
   "execution_count": 12,
   "metadata": {},
   "outputs": [],
   "source": [
    "dictio = {5: 'Bonjour', 6: \"Hello\", 12: 'mdr'}"
   ]
  },
  {
   "attachments": {},
   "cell_type": "markdown",
   "metadata": {},
   "source": [
    "### smokers_surrogate_train_all_version2.xml"
   ]
  },
  {
   "cell_type": "code",
   "execution_count": 571,
   "metadata": {},
   "outputs": [],
   "source": [
    "rapports = getRapports(folder_name+\"/smokers_surrogate_train_all_version2.xml\", \"<TEXT>\", \"[ report_end ]\", '<RECORD ID=\"([0-9]+)\">')"
   ]
  },
  {
   "cell_type": "code",
   "execution_count": 572,
   "metadata": {},
   "outputs": [],
   "source": [
    "list_diff = list(set(rapports).difference(set(dict_rapports_2006)))"
   ]
  },
  {
   "cell_type": "code",
   "execution_count": 582,
   "metadata": {},
   "outputs": [
    {
     "data": {
      "text/plain": [
       "[121, 133, 328, 142, 406, 25, 319]"
      ]
     },
     "execution_count": 582,
     "metadata": {},
     "output_type": "execute_result"
    }
   ],
   "source": [
    "list_diff"
   ]
  },
  {
   "cell_type": "code",
   "execution_count": 583,
   "metadata": {},
   "outputs": [
    {
     "data": {
      "text/plain": [
       "dict_keys([121, 406, 563, 25, 532, 328, 567, 620, 629, 133, 142, 758, 911, 319, 866])"
      ]
     },
     "execution_count": 583,
     "metadata": {},
     "output_type": "execute_result"
    }
   ],
   "source": [
    "dict(set(rapports.items()).difference(set(dict_rapports_2006.items()))).keys()"
   ]
  },
  {
   "attachments": {},
   "cell_type": "markdown",
   "metadata": {},
   "source": [
    "On ajoute les rapports qui ne sont pas déjà contenus dans la liste"
   ]
  },
  {
   "cell_type": "code",
   "execution_count": 153,
   "metadata": {},
   "outputs": [],
   "source": [
    "if list_diff != []:\n",
    "    for id in list_diff:\n",
    "        dict_rapports_2006[id] = rapports[id]"
   ]
  },
  {
   "attachments": {},
   "cell_type": "markdown",
   "metadata": {},
   "source": [
    "### smokers_surrogate_test_all_version2.xml"
   ]
  },
  {
   "cell_type": "code",
   "execution_count": 154,
   "metadata": {},
   "outputs": [],
   "source": [
    "rapports = getRapports(folder_name+\"/smokers_surrogate_test_all_version2.xml\", \"<TEXT>\", \"[ report_end ]\", '<RECORD ID=\"([0-9]+)\">')\n",
    "list_diff = list(set(rapports).difference(set(dict_rapports_2006)))"
   ]
  },
  {
   "cell_type": "code",
   "execution_count": 155,
   "metadata": {},
   "outputs": [],
   "source": [
    "if list_diff != []:\n",
    "    for id in list_diff:\n",
    "        dict_rapports_2006[id] = rapports[id]"
   ]
  },
  {
   "attachments": {},
   "cell_type": "markdown",
   "metadata": {},
   "source": [
    "### smokers_surrogate_test_all_groundtruth_version2.xml"
   ]
  },
  {
   "cell_type": "code",
   "execution_count": 156,
   "metadata": {},
   "outputs": [],
   "source": [
    "rapports = getRapports(folder_name+\"/smokers_surrogate_test_all_groundtruth_version2.xml\", \"<TEXT>\", \"[ report_end ]\", '<RECORD ID=\"([0-9]+)\">')\n",
    "list_diff = list(set(rapports).difference(set(dict_rapports_2006)))"
   ]
  },
  {
   "cell_type": "code",
   "execution_count": 157,
   "metadata": {},
   "outputs": [],
   "source": [
    "if list_diff != []:\n",
    "    for id in list_diff:\n",
    "        dict_rapports_2006[id] = rapports[id]"
   ]
  },
  {
   "attachments": {},
   "cell_type": "markdown",
   "metadata": {},
   "source": [
    "### deid_surrogate_train_all_version2.xml"
   ]
  },
  {
   "cell_type": "code",
   "execution_count": 158,
   "metadata": {},
   "outputs": [],
   "source": [
    "rapports = getRapports(folder_name+\"/deid_surrogate_train_all_version2.xml\", \"<TEXT>\", \"[ report_end ]\", '<RECORD ID=\"([0-9]+)\">')\n",
    "list_diff = list(set(rapports).difference(set(dict_rapports_2006)))"
   ]
  },
  {
   "cell_type": "code",
   "execution_count": 159,
   "metadata": {},
   "outputs": [],
   "source": [
    "if list_diff != []:\n",
    "    for id in list_diff:\n",
    "        dict_rapports_2006[id] = rapports[id]"
   ]
  },
  {
   "attachments": {},
   "cell_type": "markdown",
   "metadata": {},
   "source": [
    "### deid_surrogate_test_all_groundtruth_version2.xml"
   ]
  },
  {
   "cell_type": "code",
   "execution_count": 160,
   "metadata": {},
   "outputs": [],
   "source": [
    "rapports = getRapports(folder_name+\"/deid_surrogate_test_all_groundtruth_version2.xml\", \"<TEXT>\", \"[ report_end ]\", '<RECORD ID=\"([0-9]+)\">')\n",
    "list_diff = list(set(rapports).difference(set(dict_rapports_2006)))"
   ]
  },
  {
   "cell_type": "code",
   "execution_count": 161,
   "metadata": {},
   "outputs": [],
   "source": [
    "if list_diff != []:\n",
    "    for id in list_diff:\n",
    "        dict_rapports_2006[id] = rapports[id]"
   ]
  },
  {
   "attachments": {},
   "cell_type": "markdown",
   "metadata": {},
   "source": [
    "Nombre d'enregistrements en 2006 + vérification de la présence de chaines non désirées (balises) :"
   ]
  },
  {
   "cell_type": "code",
   "execution_count": 162,
   "metadata": {},
   "outputs": [
    {
     "data": {
      "text/plain": [
       "913"
      ]
     },
     "execution_count": 162,
     "metadata": {},
     "output_type": "execute_result"
    }
   ],
   "source": [
    "len(dict_rapports_2006)"
   ]
  },
  {
   "cell_type": "code",
   "execution_count": 164,
   "metadata": {},
   "outputs": [
    {
     "name": "stdout",
     "output_type": "stream",
     "text": [
      "0\n"
     ]
    }
   ],
   "source": [
    "nb = 0\n",
    "for k in list(dict_rapports_2006.keys()):\n",
    "    if re.search(\"<.+?>\", dict_rapports_2006[k]):\n",
    "        nb+=1\n",
    "print(nb)"
   ]
  },
  {
   "cell_type": "code",
   "execution_count": null,
   "metadata": {},
   "outputs": [],
   "source": []
  },
  {
   "attachments": {},
   "cell_type": "markdown",
   "metadata": {},
   "source": [
    "## Rapports de 2008"
   ]
  },
  {
   "cell_type": "code",
   "execution_count": 514,
   "metadata": {},
   "outputs": [],
   "source": [
    "folder_name = \"2008 - Obesity\"\n",
    "dict_rapports_2008 = {}\n",
    "rapports = None"
   ]
  },
  {
   "attachments": {},
   "cell_type": "markdown",
   "metadata": {},
   "source": [
    "### obesity_patient_records_training2.xml"
   ]
  },
  {
   "cell_type": "code",
   "execution_count": 515,
   "metadata": {},
   "outputs": [],
   "source": [
    "rapports = getRapports(folder_name+\"/obesity_patient_records_training2.xml\", \"<text>\", \"</text>\", '<doc id=\"([0-9]+)\">')"
   ]
  },
  {
   "cell_type": "code",
   "execution_count": 516,
   "metadata": {},
   "outputs": [],
   "source": [
    "dict_rapports_2008 = {**dict_rapports_2008, **rapports}"
   ]
  },
  {
   "cell_type": "code",
   "execution_count": 517,
   "metadata": {},
   "outputs": [
    {
     "data": {
      "text/plain": [
       "119"
      ]
     },
     "execution_count": 517,
     "metadata": {},
     "output_type": "execute_result"
    }
   ],
   "source": [
    "len(dict_rapports_2008)"
   ]
  },
  {
   "attachments": {},
   "cell_type": "markdown",
   "metadata": {},
   "source": [
    "### obesity_patient_records_training.xml"
   ]
  },
  {
   "cell_type": "code",
   "execution_count": 518,
   "metadata": {},
   "outputs": [],
   "source": [
    "rapports = getRapports(folder_name+\"/obesity_patient_records_training.xml\", \"<text>\", \"</text>\", '<doc id=\"([0-9]+)\">')"
   ]
  },
  {
   "cell_type": "code",
   "execution_count": 519,
   "metadata": {},
   "outputs": [],
   "source": [
    "list_diff = list(set(rapports).difference(set(dict_rapports_2008)))"
   ]
  },
  {
   "cell_type": "code",
   "execution_count": 520,
   "metadata": {},
   "outputs": [],
   "source": [
    "if list_diff != []:\n",
    "    for id in list_diff:\n",
    "        dict_rapports_2008[id] = rapports[id]"
   ]
  },
  {
   "cell_type": "code",
   "execution_count": 521,
   "metadata": {},
   "outputs": [
    {
     "data": {
      "text/plain": [
       "730"
      ]
     },
     "execution_count": 521,
     "metadata": {},
     "output_type": "execute_result"
    }
   ],
   "source": [
    "len(dict_rapports_2008)"
   ]
  },
  {
   "attachments": {},
   "cell_type": "markdown",
   "metadata": {},
   "source": [
    "### obesity_patient_records_test.xml"
   ]
  },
  {
   "cell_type": "code",
   "execution_count": 522,
   "metadata": {},
   "outputs": [],
   "source": [
    "rapports = getRapports(folder_name+\"/obesity_patient_records_test.xml\", \"<text>\", \"</text>\", '<doc id=\"([0-9]+)\">')"
   ]
  },
  {
   "cell_type": "code",
   "execution_count": 523,
   "metadata": {},
   "outputs": [],
   "source": [
    "list_diff = list(set(rapports).difference(set(dict_rapports_2008)))"
   ]
  },
  {
   "cell_type": "code",
   "execution_count": 524,
   "metadata": {},
   "outputs": [],
   "source": [
    "if list_diff != []:\n",
    "    for id in list_diff:\n",
    "        dict_rapports_2008[id] = rapports[id]"
   ]
  },
  {
   "cell_type": "code",
   "execution_count": 525,
   "metadata": {},
   "outputs": [
    {
     "data": {
      "text/plain": [
       "1237"
      ]
     },
     "execution_count": 525,
     "metadata": {},
     "output_type": "execute_result"
    }
   ],
   "source": [
    "len(dict_rapports_2008)"
   ]
  },
  {
   "attachments": {},
   "cell_type": "markdown",
   "metadata": {},
   "source": [
    "## Rapports de 2009"
   ]
  },
  {
   "cell_type": "code",
   "execution_count": 550,
   "metadata": {},
   "outputs": [],
   "source": [
    "folder_name = \"2009 - Medication\"\n",
    "dict_rapports_2009 = {}"
   ]
  },
  {
   "attachments": {},
   "cell_type": "markdown",
   "metadata": {},
   "source": [
    "### Dossier training.sets.released"
   ]
  },
  {
   "cell_type": "code",
   "execution_count": 551,
   "metadata": {},
   "outputs": [],
   "source": [
    "subfolder = \"/training.sets.released\""
   ]
  },
  {
   "cell_type": "code",
   "execution_count": 552,
   "metadata": {},
   "outputs": [],
   "source": [
    "dossiers = []\n",
    "with os.scandir(folder_name+subfolder) as entries:\n",
    "    for entry in entries:\n",
    "        if entry.is_dir():\n",
    "            dossiers.append(entry.name)"
   ]
  },
  {
   "cell_type": "code",
   "execution_count": 553,
   "metadata": {},
   "outputs": [],
   "source": [
    "rapports = {}\n",
    "i=0\n",
    "for doss in dossiers:\n",
    "    with os.scandir(folder_name+subfolder+'/'+doss) as entries:\n",
    "        for entry in entries:\n",
    "            if entry.is_file():\n",
    "                i+=1\n",
    "                #print(folder_name+subfolder+'/'+doss+'/'+str(entry.name))\n",
    "                rapports[int(entry.name)] = (getSingleRapport(folder_name+subfolder+'/'+doss+'/'+str(entry.name), f\"RECORD #{int(entry.name)}\", \"[report_end]\", pattern=None, id=int(entry.name)))[int(entry.name)]"
   ]
  },
  {
   "cell_type": "code",
   "execution_count": 533,
   "metadata": {},
   "outputs": [
    {
     "name": "stdout",
     "output_type": "stream",
     "text": [
      "696\n"
     ]
    }
   ],
   "source": [
    "print(i)"
   ]
  },
  {
   "cell_type": "code",
   "execution_count": 554,
   "metadata": {},
   "outputs": [],
   "source": [
    "dict_rapports_2009 = {**dict_rapports_2009, **rapports}"
   ]
  },
  {
   "attachments": {},
   "cell_type": "markdown",
   "metadata": {},
   "source": [
    "### Dossier train.test.released.8.17.09"
   ]
  },
  {
   "cell_type": "code",
   "execution_count": 555,
   "metadata": {},
   "outputs": [],
   "source": [
    "subfolder = \"/train.test.released.8.17.09\""
   ]
  },
  {
   "cell_type": "code",
   "execution_count": 556,
   "metadata": {},
   "outputs": [],
   "source": [
    "rapports = {}\n",
    "with os.scandir(folder_name+subfolder+'/') as entries:\n",
    "    for entry in entries:\n",
    "        if entry.is_file():\n",
    "            #print(folder_name+subfolder+'/'+doss+'/'+str(entry.name))\n",
    "            rapports[int(entry.name)] = (getSingleRapport(folder_name+subfolder+'/'+str(entry.name), f\"RECORD #{int(entry.name)}\", \"[report_end]\", pattern=None, id=int(entry.name)))[int(entry.name)]"
   ]
  },
  {
   "cell_type": "code",
   "execution_count": 557,
   "metadata": {},
   "outputs": [],
   "source": [
    "list_diff = list(set(rapports).difference(set(dict_rapports_2009)))"
   ]
  },
  {
   "cell_type": "code",
   "execution_count": 558,
   "metadata": {},
   "outputs": [],
   "source": [
    "if list_diff != []:\n",
    "    for id in list_diff:\n",
    "        dict_rapports_2009[id] = rapports[id]"
   ]
  },
  {
   "cell_type": "code",
   "execution_count": 559,
   "metadata": {},
   "outputs": [
    {
     "data": {
      "text/plain": [
       "1249"
      ]
     },
     "execution_count": 559,
     "metadata": {},
     "output_type": "execute_result"
    }
   ],
   "source": [
    "len(dict_rapports_2009)"
   ]
  },
  {
   "attachments": {},
   "cell_type": "markdown",
   "metadata": {},
   "source": [
    "## Rapports 2010"
   ]
  },
  {
   "cell_type": "code",
   "execution_count": 560,
   "metadata": {},
   "outputs": [],
   "source": [
    "folder_name = \"2010 - Relations\"\n",
    "dict_rapports_2010 = {}"
   ]
  },
  {
   "attachments": {},
   "cell_type": "markdown",
   "metadata": {},
   "source": [
    "### Dossier test_data"
   ]
  },
  {
   "cell_type": "code",
   "execution_count": 561,
   "metadata": {},
   "outputs": [],
   "source": [
    "subfolder = \"/test_data\""
   ]
  },
  {
   "cell_type": "code",
   "execution_count": 562,
   "metadata": {},
   "outputs": [],
   "source": [
    "rapports = {}\n",
    "i = 0\n",
    "with os.scandir(folder_name+subfolder) as entries:\n",
    "    for entry in entries:\n",
    "        if entry.is_file():\n",
    "            splitted = str(entry.name).split('.')\n",
    "            rapports[int(splitted[0])] = (getSingleRapport(folder_name+subfolder+'/'+str(entry.name), delimiteurSup=None, delimiteurInf=\"( End of Report )\", pattern=None, id=int(splitted[0])))[int(splitted[0])]\n",
    "        i+=1"
   ]
  },
  {
   "cell_type": "code",
   "execution_count": 563,
   "metadata": {},
   "outputs": [],
   "source": [
    "dict_rapports_2010 = {**dict_rapports_2010, **rapports}"
   ]
  },
  {
   "cell_type": "code",
   "execution_count": 564,
   "metadata": {},
   "outputs": [
    {
     "data": {
      "text/plain": [
       "256"
      ]
     },
     "execution_count": 564,
     "metadata": {},
     "output_type": "execute_result"
    }
   ],
   "source": [
    "len(dict_rapports_2010)"
   ]
  },
  {
   "attachments": {},
   "cell_type": "markdown",
   "metadata": {},
   "source": [
    "Si certains rapports n'ont pas le bon délimiteurInf, ce n'est pas très grave. On prendra tout le rapport dans ces cas, avec le délimiteur inclus."
   ]
  },
  {
   "attachments": {},
   "cell_type": "markdown",
   "metadata": {},
   "source": [
    "### Dossier concept_assertion_relation_training_data"
   ]
  },
  {
   "cell_type": "code",
   "execution_count": 565,
   "metadata": {},
   "outputs": [],
   "source": [
    "subfolder = \"/concept_assertion_relation_training_data\""
   ]
  },
  {
   "cell_type": "code",
   "execution_count": 566,
   "metadata": {},
   "outputs": [],
   "source": [
    "formats = [\"txt\", \"unannotated\"]"
   ]
  },
  {
   "cell_type": "code",
   "execution_count": 567,
   "metadata": {},
   "outputs": [],
   "source": [
    "dossiers = []\n",
    "with os.scandir(folder_name+subfolder) as entries:\n",
    "    for entry in entries:\n",
    "        if entry.is_dir():\n",
    "            dossiers.append(entry.name)"
   ]
  },
  {
   "cell_type": "code",
   "execution_count": null,
   "metadata": {},
   "outputs": [],
   "source": [
    "rapports = {}\n",
    "for doss in dossiers:\n",
    "    for ft in formats: \n",
    "        if os.path.exists(folder_name+subfolder+'/'+doss+'/'+ft):\n",
    "            with os.scandir(folder_name+subfolder+'/'+doss+'/'+ft) as entries:\n",
    "                for entry in entries:\n",
    "                    if entry.is_file():\n",
    "                        id = -1\n",
    "                        split_point = str(entry.name).split('.')\n",
    "                        \n",
    "                        if 'record' in split_point[0]:\n",
    "                            split_udsc =  split_point[0].split('-')\n",
    "                            id = split_udsc[1]\n",
    "                        else:\n",
    "                            split_udsc =  split_point[0].split('_')\n",
    "                            id = split_udsc[0]\n",
    "                        rapports = {**rapports, **getSingleRapport(folder_name+subfolder+'/'+doss+'/'+ft+'/'+str(entry.name), delimiteurSup=None, delimiteurInf=\"****** END OF DISCHARGE ORDERS ******\", pattern=None, id=id)}\n",
    "                        #rapports[id] = (getRapports(folder_name+subfolder+'/'+doss+'/'+ft+'/'+str(entry.name), delimiteurSup=None, delimiteurInf=\"****** END OF DISCHARGE ORDERS ******\", pattern=None, id=id))[id]"
   ]
  },
  {
   "cell_type": "code",
   "execution_count": 207,
   "metadata": {},
   "outputs": [],
   "source": [
    "list_diff = list(set(rapports).difference(set(dict_rapports_2010)))"
   ]
  },
  {
   "cell_type": "code",
   "execution_count": 208,
   "metadata": {},
   "outputs": [],
   "source": [
    "if list_diff != []:\n",
    "    for id in list_diff:\n",
    "        dict_rapports_2010[id] = rapports[id]"
   ]
  },
  {
   "cell_type": "code",
   "execution_count": 209,
   "metadata": {},
   "outputs": [
    {
     "data": {
      "text/plain": [
       "646"
      ]
     },
     "execution_count": 209,
     "metadata": {},
     "output_type": "execute_result"
    }
   ],
   "source": [
    "len(dict_rapports_2010)"
   ]
  },
  {
   "attachments": {},
   "cell_type": "markdown",
   "metadata": {},
   "source": [
    "Vérifier"
   ]
  },
  {
   "attachments": {},
   "cell_type": "markdown",
   "metadata": {},
   "source": [
    "## Rapports 2011"
   ]
  },
  {
   "cell_type": "code",
   "execution_count": 210,
   "metadata": {},
   "outputs": [],
   "source": [
    "folder_name = \"2011 - Coreference\"\n",
    "dict_rapports_2011 = {}"
   ]
  },
  {
   "attachments": {},
   "cell_type": "markdown",
   "metadata": {},
   "source": [
    "### Dossier Beth_Train"
   ]
  },
  {
   "cell_type": "code",
   "execution_count": 211,
   "metadata": {},
   "outputs": [],
   "source": [
    "subfolder = \"/Beth_Train/docs\""
   ]
  },
  {
   "cell_type": "code",
   "execution_count": 212,
   "metadata": {},
   "outputs": [],
   "source": [
    "rapports = {}\n",
    "with os.scandir(folder_name+subfolder) as entries:\n",
    "    for entry in entries:\n",
    "        if entry.is_file():\n",
    "            id = -1\n",
    "            split_point = str(entry.name).split('.')\n",
    "            \n",
    "            if 'clinical' in split_point[0]:\n",
    "                split_udsc =  split_point[0].split('-')\n",
    "                id = split_udsc[1]\n",
    "            else:\n",
    "                split_udsc =  split_point[0].split('_')\n",
    "                id = split_udsc[0]\n",
    "            rapports = {**rapports, **getSingleRapport(folder_name+subfolder+'/'+str(entry.name), delimiteurSup=None, delimiteurInf=\"\", pattern=None, id=id)}"
   ]
  },
  {
   "cell_type": "code",
   "execution_count": 213,
   "metadata": {},
   "outputs": [],
   "source": [
    "dict_rapports_2011 = {**dict_rapports_2011, **rapports}"
   ]
  },
  {
   "attachments": {},
   "cell_type": "markdown",
   "metadata": {},
   "source": [
    "### Dossier Partners_Train"
   ]
  },
  {
   "cell_type": "code",
   "execution_count": 215,
   "metadata": {},
   "outputs": [],
   "source": [
    "subfolder = \"/Partners_Train/docs\""
   ]
  },
  {
   "cell_type": "code",
   "execution_count": 216,
   "metadata": {},
   "outputs": [],
   "source": [
    "rapports = {}\n",
    "with os.scandir(folder_name+subfolder) as entries:\n",
    "    for entry in entries:\n",
    "        if entry.is_file():\n",
    "            id = -1\n",
    "            split_point = str(entry.name).split('.')\n",
    "            \n",
    "            if 'clinical' in split_point[0]:\n",
    "                split_udsc =  split_point[0].split('-')\n",
    "                id = split_udsc[1]\n",
    "            else:\n",
    "                split_udsc =  split_point[0].split('_')\n",
    "                id = split_udsc[0]\n",
    "            rapports = {**rapports, **getSingleRapport(folder_name+subfolder+'/'+str(entry.name), delimiteurSup=None, delimiteurInf=\"\", pattern=None, id=id)}"
   ]
  },
  {
   "cell_type": "code",
   "execution_count": 217,
   "metadata": {},
   "outputs": [],
   "source": [
    "list_diff = list(set(rapports).difference(set(dict_rapports_2011)))"
   ]
  },
  {
   "cell_type": "code",
   "execution_count": 218,
   "metadata": {},
   "outputs": [],
   "source": [
    "if list_diff != []:\n",
    "    for id in list_diff:\n",
    "        dict_rapports_2011[id] = rapports[id]"
   ]
  },
  {
   "cell_type": "code",
   "execution_count": 219,
   "metadata": {},
   "outputs": [
    {
     "data": {
      "text/plain": [
       "251"
      ]
     },
     "execution_count": 219,
     "metadata": {},
     "output_type": "execute_result"
    }
   ],
   "source": [
    "len(dict_rapports_2011)"
   ]
  },
  {
   "attachments": {},
   "cell_type": "markdown",
   "metadata": {},
   "source": [
    "### Dossier i2b2_Test"
   ]
  },
  {
   "cell_type": "code",
   "execution_count": 220,
   "metadata": {},
   "outputs": [],
   "source": [
    "subfolder = \"/i2b2_Test\""
   ]
  },
  {
   "cell_type": "code",
   "execution_count": 221,
   "metadata": {},
   "outputs": [],
   "source": [
    "dossiers = []\n",
    "with os.scandir(folder_name+subfolder) as entries:\n",
    "    for entry in entries:\n",
    "        if entry.is_dir():\n",
    "            dossiers.append(entry.name)"
   ]
  },
  {
   "cell_type": "code",
   "execution_count": 222,
   "metadata": {},
   "outputs": [],
   "source": [
    "rapports = {}\n",
    "\n",
    "for dos in dossiers:\n",
    "    with os.scandir(folder_name+subfolder+'/'+dos+'/docs') as entries:\n",
    "        for entry in entries:\n",
    "            if entry.is_file():\n",
    "                id = -1\n",
    "                split_point = str(entry.name).split('.')\n",
    "                \n",
    "                if 'clinical' in split_point[0]:\n",
    "                    split_udsc =  split_point[0].split('-')\n",
    "                    id = split_udsc[1]\n",
    "                else:\n",
    "                    split_udsc =  split_point[0].split('_')\n",
    "                    id = split_udsc[0]\n",
    "                rapports = {**rapports, **getSingleRapport(folder_name+subfolder+'/'+dos+'/docs/'+str(entry.name), delimiteurSup=None, delimiteurInf=\"\", pattern=None, id=id)}"
   ]
  },
  {
   "cell_type": "code",
   "execution_count": 223,
   "metadata": {},
   "outputs": [],
   "source": [
    "list_diff = list(set(rapports).difference(set(dict_rapports_2011)))"
   ]
  },
  {
   "cell_type": "code",
   "execution_count": 224,
   "metadata": {},
   "outputs": [],
   "source": [
    "if list_diff != []:\n",
    "    for id in list_diff:\n",
    "        dict_rapports_2011[id] = rapports[id]"
   ]
  },
  {
   "cell_type": "code",
   "execution_count": 225,
   "metadata": {},
   "outputs": [
    {
     "data": {
      "text/plain": [
       "424"
      ]
     },
     "execution_count": 225,
     "metadata": {},
     "output_type": "execute_result"
    }
   ],
   "source": [
    "len(dict_rapports_2011)"
   ]
  },
  {
   "attachments": {},
   "cell_type": "markdown",
   "metadata": {},
   "source": [
    "## Rapports 2012"
   ]
  },
  {
   "cell_type": "code",
   "execution_count": 346,
   "metadata": {},
   "outputs": [],
   "source": [
    "folder_name = \"2012 - Temporal Relations\"\n",
    "dict_rapports_2012 = {}"
   ]
  },
  {
   "attachments": {},
   "cell_type": "markdown",
   "metadata": {},
   "source": [
    "### Dossier 2012-06-18.release-fix"
   ]
  },
  {
   "cell_type": "code",
   "execution_count": 347,
   "metadata": {},
   "outputs": [],
   "source": [
    "subfolder = \"/2012-06-18.release-fix\""
   ]
  },
  {
   "cell_type": "code",
   "execution_count": 348,
   "metadata": {},
   "outputs": [],
   "source": [
    "rapports = {}\n",
    "with os.scandir(folder_name+subfolder) as entries:\n",
    "    for entry in entries:\n",
    "        if entry.is_file():\n",
    "            split_point = str(entry.name).split('.')\n",
    "            if len(split_point)==2:\n",
    "                id = int(split_point[0])\n",
    "                rapports = {**rapports, **getSingleRapport(folder_name+subfolder+'/'+str(entry.name), delimiteurSup=\"<![CDATA[\", delimiteurInf=\"]]>\", pattern=None, id=id)}"
   ]
  },
  {
   "cell_type": "code",
   "execution_count": 349,
   "metadata": {},
   "outputs": [],
   "source": [
    "dict_rapports_2012 = {**rapports, **dict_rapports_2012}"
   ]
  },
  {
   "attachments": {},
   "cell_type": "markdown",
   "metadata": {},
   "source": [
    "### Dossier 2012-07-06.release-fix"
   ]
  },
  {
   "cell_type": "code",
   "execution_count": 351,
   "metadata": {},
   "outputs": [],
   "source": [
    "subfolder = \"/2012-07-06.release-fix\""
   ]
  },
  {
   "cell_type": "code",
   "execution_count": 352,
   "metadata": {},
   "outputs": [],
   "source": [
    "rapports = {}\n",
    "with os.scandir(folder_name+subfolder) as entries:\n",
    "    for entry in entries:\n",
    "        if entry.is_file():\n",
    "            split_point = str(entry.name).split('.')\n",
    "            if len(split_point)==2:\n",
    "                id = int(split_point[0])\n",
    "                rapports = {**rapports, **getSingleRapport(folder_name+subfolder+'/'+str(entry.name), delimiteurSup=\"<![CDATA[\", delimiteurInf=\"]]>\", pattern=None, id=id)}"
   ]
  },
  {
   "cell_type": "code",
   "execution_count": 353,
   "metadata": {},
   "outputs": [],
   "source": [
    "list_diff = list(set(rapports).difference(set(dict_rapports_2012)))"
   ]
  },
  {
   "cell_type": "code",
   "execution_count": 354,
   "metadata": {},
   "outputs": [],
   "source": [
    "if list_diff != []:\n",
    "    for id in list_diff:\n",
    "        dict_rapports_2012[id] = rapports[id]"
   ]
  },
  {
   "cell_type": "code",
   "execution_count": 355,
   "metadata": {},
   "outputs": [
    {
     "data": {
      "text/plain": [
       "190"
      ]
     },
     "execution_count": 355,
     "metadata": {},
     "output_type": "execute_result"
    }
   ],
   "source": [
    "len(dict_rapports_2012)"
   ]
  },
  {
   "attachments": {},
   "cell_type": "markdown",
   "metadata": {},
   "source": [
    "### Dossier 2012-07-15.original-annotation.release"
   ]
  },
  {
   "cell_type": "code",
   "execution_count": 356,
   "metadata": {},
   "outputs": [],
   "source": [
    "subfolder = \"/2012-07-15.original-annotation.release\""
   ]
  },
  {
   "cell_type": "code",
   "execution_count": 357,
   "metadata": {},
   "outputs": [],
   "source": [
    "rapports = {}\n",
    "with os.scandir(folder_name+subfolder) as entries:\n",
    "    for entry in entries:\n",
    "        if entry.is_file():\n",
    "            split_point = str(entry.name).split('.')\n",
    "            if len(split_point)==2:\n",
    "                id = int(split_point[0])\n",
    "                rapports = {**rapports, **getSingleRapport(folder_name+subfolder+'/'+str(entry.name), delimiteurSup=\"<![CDATA[\", delimiteurInf=\"]]>\", pattern=None, id=id)}"
   ]
  },
  {
   "cell_type": "code",
   "execution_count": null,
   "metadata": {},
   "outputs": [],
   "source": [
    "list_diff = list(set(rapports).difference(set(dict_rapports_2012)))"
   ]
  },
  {
   "cell_type": "code",
   "execution_count": 358,
   "metadata": {},
   "outputs": [],
   "source": [
    "if list_diff != []:\n",
    "    for id in list_diff:\n",
    "        dict_rapports_2012[id] = rapports[id]"
   ]
  },
  {
   "cell_type": "code",
   "execution_count": 359,
   "metadata": {},
   "outputs": [
    {
     "data": {
      "text/plain": [
       "190"
      ]
     },
     "execution_count": 359,
     "metadata": {},
     "output_type": "execute_result"
    }
   ],
   "source": [
    "len(dict_rapports_2012)"
   ]
  },
  {
   "attachments": {},
   "cell_type": "markdown",
   "metadata": {},
   "source": [
    "### Dossier 2012-08-06.test-data-release"
   ]
  },
  {
   "cell_type": "code",
   "execution_count": 365,
   "metadata": {},
   "outputs": [],
   "source": [
    "subfolder = \"/2012-08-06.test-data-release/xml\""
   ]
  },
  {
   "cell_type": "code",
   "execution_count": 366,
   "metadata": {},
   "outputs": [],
   "source": [
    "rapports = {}\n",
    "with os.scandir(folder_name+subfolder) as entries:\n",
    "    for entry in entries:\n",
    "        if entry.is_file():\n",
    "            split_point = str(entry.name).split('.')\n",
    "            if len(split_point)==2:\n",
    "                id = int(split_point[0])\n",
    "                rapports = {**rapports, **getSingleRapport(folder_name+subfolder+'/'+str(entry.name), delimiteurSup=\"<![CDATA[\", delimiteurInf=\"]]>\", pattern=None, id=id)}"
   ]
  },
  {
   "cell_type": "code",
   "execution_count": 367,
   "metadata": {},
   "outputs": [],
   "source": [
    "list_diff = list(set(rapports).difference(set(dict_rapports_2012)))"
   ]
  },
  {
   "cell_type": "code",
   "execution_count": 368,
   "metadata": {},
   "outputs": [],
   "source": [
    "if list_diff != []:\n",
    "    for id in list_diff:\n",
    "        dict_rapports_2012[id] = rapports[id]"
   ]
  },
  {
   "cell_type": "code",
   "execution_count": 369,
   "metadata": {},
   "outputs": [
    {
     "data": {
      "text/plain": [
       "310"
      ]
     },
     "execution_count": 369,
     "metadata": {},
     "output_type": "execute_result"
    }
   ],
   "source": [
    "len(dict_rapports_2012)"
   ]
  },
  {
   "attachments": {},
   "cell_type": "markdown",
   "metadata": {},
   "source": [
    "### Dossier 2012-08-08.test-data.event-timex-groundtruth"
   ]
  },
  {
   "cell_type": "code",
   "execution_count": 370,
   "metadata": {},
   "outputs": [],
   "source": [
    "subfolder = \"/2012-08-08.test-data.event-timex-groundtruth/xml\""
   ]
  },
  {
   "cell_type": "code",
   "execution_count": 371,
   "metadata": {},
   "outputs": [],
   "source": [
    "rapports = {}\n",
    "with os.scandir(folder_name+subfolder) as entries:\n",
    "    for entry in entries:\n",
    "        if entry.is_file():\n",
    "            split_point = str(entry.name).split('.')\n",
    "            if len(split_point)==2:\n",
    "                id = int(split_point[0])\n",
    "                rapports = {**rapports, **getSingleRapport(folder_name+subfolder+'/'+str(entry.name), delimiteurSup=\"<![CDATA[\", delimiteurInf=\"]]>\", pattern=None, id=id)}"
   ]
  },
  {
   "cell_type": "code",
   "execution_count": 372,
   "metadata": {},
   "outputs": [],
   "source": [
    "list_diff = list(set(rapports).difference(set(dict_rapports_2012)))"
   ]
  },
  {
   "cell_type": "code",
   "execution_count": 373,
   "metadata": {},
   "outputs": [],
   "source": [
    "if list_diff != []:\n",
    "    for id in list_diff:\n",
    "        dict_rapports_2012[id] = rapports[id]"
   ]
  },
  {
   "cell_type": "code",
   "execution_count": 374,
   "metadata": {},
   "outputs": [
    {
     "data": {
      "text/plain": [
       "310"
      ]
     },
     "execution_count": 374,
     "metadata": {},
     "output_type": "execute_result"
    }
   ],
   "source": [
    "len(dict_rapports_2012)"
   ]
  },
  {
   "attachments": {},
   "cell_type": "markdown",
   "metadata": {},
   "source": [
    "## Rapports 2014"
   ]
  },
  {
   "cell_type": "code",
   "execution_count": 377,
   "metadata": {},
   "outputs": [],
   "source": [
    "folder_name = \"2014 - Deidentification & Heart Disease\"\n",
    "dict_rapports_2014 = {}"
   ]
  },
  {
   "attachments": {},
   "cell_type": "markdown",
   "metadata": {},
   "source": [
    "### Dossier testing-PHI-Gold-fixed"
   ]
  },
  {
   "cell_type": "code",
   "execution_count": 378,
   "metadata": {},
   "outputs": [],
   "source": [
    "subfolder = \"/testing-PHI-Gold-fixed\""
   ]
  },
  {
   "cell_type": "code",
   "execution_count": 381,
   "metadata": {},
   "outputs": [],
   "source": [
    "rapports = {}\n",
    "with os.scandir(folder_name+subfolder) as entries:\n",
    "    for entry in entries:\n",
    "        if entry.is_file():\n",
    "            split_point = str(entry.name).split('.')\n",
    "            split_tiret = split_point[0].split('-')\n",
    "            id = int(split_tiret[0]+split_tiret[1])\n",
    "            rapports = {**rapports, **getSingleRapport(folder_name+subfolder+'/'+str(entry.name), delimiteurSup=\"<![CDATA[\", delimiteurInf=\"]]>\", pattern=None, id=id)}"
   ]
  },
  {
   "cell_type": "code",
   "execution_count": 382,
   "metadata": {},
   "outputs": [],
   "source": [
    "dict_rapports_2014 = {**rapports, **dict_rapports_2014}"
   ]
  },
  {
   "attachments": {},
   "cell_type": "markdown",
   "metadata": {},
   "source": [
    "### testing-PHI-noTags"
   ]
  },
  {
   "cell_type": "code",
   "execution_count": 385,
   "metadata": {},
   "outputs": [],
   "source": [
    "subfolder = \"/testing-PHI-noTags\""
   ]
  },
  {
   "cell_type": "code",
   "execution_count": 386,
   "metadata": {},
   "outputs": [],
   "source": [
    "rapports = {}\n",
    "with os.scandir(folder_name+subfolder) as entries:\n",
    "    for entry in entries:\n",
    "        if entry.is_file():\n",
    "            split_point = str(entry.name).split('.')\n",
    "            split_tiret = split_point[0].split('-')\n",
    "            id = int(split_tiret[0]+split_tiret[1])\n",
    "            rapports = {**rapports, **getSingleRapport(folder_name+subfolder+'/'+str(entry.name), delimiteurSup=\"<![CDATA[\", delimiteurInf=\"]]>\", pattern=None, id=id)}"
   ]
  },
  {
   "cell_type": "code",
   "execution_count": 387,
   "metadata": {},
   "outputs": [],
   "source": [
    "list_diff = list(set(rapports).difference(set(dict_rapports_2014)))"
   ]
  },
  {
   "cell_type": "code",
   "execution_count": 388,
   "metadata": {},
   "outputs": [],
   "source": [
    "if list_diff != []:\n",
    "    for id in list_diff:\n",
    "        dict_rapports_2014[id] = rapports[id]"
   ]
  },
  {
   "attachments": {},
   "cell_type": "markdown",
   "metadata": {},
   "source": [
    "### Dossier testing-RiskFactors-Complete"
   ]
  },
  {
   "cell_type": "code",
   "execution_count": 390,
   "metadata": {},
   "outputs": [],
   "source": [
    "subfolder = \"/testing-RiskFactors-Complete\""
   ]
  },
  {
   "cell_type": "code",
   "execution_count": 391,
   "metadata": {},
   "outputs": [],
   "source": [
    "rapports = {}\n",
    "with os.scandir(folder_name+subfolder) as entries:\n",
    "    for entry in entries:\n",
    "        if entry.is_file():\n",
    "            split_point = str(entry.name).split('.')\n",
    "            split_tiret = split_point[0].split('-')\n",
    "            id = int(split_tiret[0]+split_tiret[1])\n",
    "            rapports = {**rapports, **getSingleRapport(folder_name+subfolder+'/'+str(entry.name), delimiteurSup=\"<![CDATA[\", delimiteurInf=\"]]>\", pattern=None, id=id)}"
   ]
  },
  {
   "cell_type": "code",
   "execution_count": 392,
   "metadata": {},
   "outputs": [],
   "source": [
    "list_diff = list(set(rapports).difference(set(dict_rapports_2014)))"
   ]
  },
  {
   "cell_type": "code",
   "execution_count": 393,
   "metadata": {},
   "outputs": [],
   "source": [
    "if list_diff != []:\n",
    "    for id in list_diff:\n",
    "        dict_rapports_2014[id] = rapports[id]"
   ]
  },
  {
   "cell_type": "code",
   "execution_count": 394,
   "metadata": {},
   "outputs": [
    {
     "data": {
      "text/plain": [
       "514"
      ]
     },
     "execution_count": 394,
     "metadata": {},
     "output_type": "execute_result"
    }
   ],
   "source": [
    "len(dict_rapports_2014)"
   ]
  },
  {
   "attachments": {},
   "cell_type": "markdown",
   "metadata": {},
   "source": [
    "### Dossier testing-RiskFactors-Complete-MAE"
   ]
  },
  {
   "cell_type": "code",
   "execution_count": 395,
   "metadata": {},
   "outputs": [],
   "source": [
    "subfolder = \"/testing-RiskFactors-Complete-MAE\""
   ]
  },
  {
   "cell_type": "code",
   "execution_count": 396,
   "metadata": {},
   "outputs": [],
   "source": [
    "rapports = {}\n",
    "with os.scandir(folder_name+subfolder) as entries:\n",
    "    for entry in entries:\n",
    "        if entry.is_file():\n",
    "            split_point = str(entry.name).split('.')\n",
    "            split_tiret = split_point[0].split('-')\n",
    "            id = int(split_tiret[0]+split_tiret[1])\n",
    "            rapports = {**rapports, **getSingleRapport(folder_name+subfolder+'/'+str(entry.name), delimiteurSup=\"<![CDATA[\", delimiteurInf=\"]]>\", pattern=None, id=id)}"
   ]
  },
  {
   "cell_type": "code",
   "execution_count": 397,
   "metadata": {},
   "outputs": [],
   "source": [
    "list_diff = list(set(rapports).difference(set(dict_rapports_2014)))"
   ]
  },
  {
   "cell_type": "code",
   "execution_count": 398,
   "metadata": {},
   "outputs": [],
   "source": [
    "if list_diff != []:\n",
    "    for id in list_diff:\n",
    "        dict_rapports_2014[id] = rapports[id]"
   ]
  },
  {
   "cell_type": "code",
   "execution_count": 399,
   "metadata": {},
   "outputs": [
    {
     "data": {
      "text/plain": [
       "514"
      ]
     },
     "execution_count": 399,
     "metadata": {},
     "output_type": "execute_result"
    }
   ],
   "source": [
    "len(dict_rapports_2014)"
   ]
  },
  {
   "attachments": {},
   "cell_type": "markdown",
   "metadata": {},
   "source": [
    "### Dossier testing-RiskFactors-Gold"
   ]
  },
  {
   "cell_type": "code",
   "execution_count": 406,
   "metadata": {},
   "outputs": [],
   "source": [
    "subfolder = \"/testing-RiskFactors-Gold\""
   ]
  },
  {
   "cell_type": "code",
   "execution_count": 407,
   "metadata": {},
   "outputs": [],
   "source": [
    "rapports = {}\n",
    "with os.scandir(folder_name+subfolder) as entries:\n",
    "    for entry in entries:\n",
    "        if entry.is_file():\n",
    "            split_point = str(entry.name).split('.')\n",
    "            split_tiret = split_point[0].split('-')\n",
    "            id = int(split_tiret[0]+split_tiret[1])\n",
    "            rapports = {**rapports, **getSingleRapport(folder_name+subfolder+'/'+str(entry.name), delimiteurSup=\"<![CDATA[\", delimiteurInf=\"]]>\", pattern=None, id=id)}"
   ]
  },
  {
   "cell_type": "code",
   "execution_count": 408,
   "metadata": {},
   "outputs": [],
   "source": [
    "list_diff = list(set(rapports).difference(set(dict_rapports_2014)))"
   ]
  },
  {
   "cell_type": "code",
   "execution_count": 409,
   "metadata": {},
   "outputs": [],
   "source": [
    "if list_diff != []:\n",
    "    for id in list_diff:\n",
    "        dict_rapports_2014[id] = rapports[id]"
   ]
  },
  {
   "cell_type": "code",
   "execution_count": 410,
   "metadata": {},
   "outputs": [
    {
     "data": {
      "text/plain": [
       "514"
      ]
     },
     "execution_count": 410,
     "metadata": {},
     "output_type": "execute_result"
    }
   ],
   "source": [
    "len(dict_rapports_2014)"
   ]
  },
  {
   "attachments": {},
   "cell_type": "markdown",
   "metadata": {},
   "source": [
    "### Dossier testing-RiskFactors-noTags"
   ]
  },
  {
   "cell_type": "code",
   "execution_count": 411,
   "metadata": {},
   "outputs": [],
   "source": [
    "subfolder = \"/testing-RiskFactors-noTags\""
   ]
  },
  {
   "cell_type": "code",
   "execution_count": 412,
   "metadata": {},
   "outputs": [],
   "source": [
    "rapports = {}\n",
    "with os.scandir(folder_name+subfolder) as entries:\n",
    "    for entry in entries:\n",
    "        if entry.is_file():\n",
    "            split_point = str(entry.name).split('.')\n",
    "            split_tiret = split_point[0].split('-')\n",
    "            id = int(split_tiret[0]+split_tiret[1])\n",
    "            rapports = {**rapports, **getSingleRapport(folder_name+subfolder+'/'+str(entry.name), delimiteurSup=\"<![CDATA[\", delimiteurInf=\"]]>\", pattern=None, id=id)}"
   ]
  },
  {
   "cell_type": "code",
   "execution_count": 413,
   "metadata": {},
   "outputs": [],
   "source": [
    "list_diff = list(set(rapports).difference(set(dict_rapports_2014)))"
   ]
  },
  {
   "cell_type": "code",
   "execution_count": 414,
   "metadata": {},
   "outputs": [],
   "source": [
    "if list_diff != []:\n",
    "    for id in list_diff:\n",
    "        dict_rapports_2014[id] = rapports[id]"
   ]
  },
  {
   "cell_type": "code",
   "execution_count": 415,
   "metadata": {},
   "outputs": [
    {
     "data": {
      "text/plain": [
       "514"
      ]
     },
     "execution_count": 415,
     "metadata": {},
     "output_type": "execute_result"
    }
   ],
   "source": [
    "len(dict_rapports_2014)"
   ]
  },
  {
   "attachments": {},
   "cell_type": "markdown",
   "metadata": {},
   "source": [
    "### Dossier Track1-de-indentification"
   ]
  },
  {
   "cell_type": "code",
   "execution_count": 416,
   "metadata": {},
   "outputs": [],
   "source": [
    "subfolder = \"/Track1-de-indentification/PHI\""
   ]
  },
  {
   "cell_type": "code",
   "execution_count": 417,
   "metadata": {},
   "outputs": [],
   "source": [
    "rapports = {}\n",
    "with os.scandir(folder_name+subfolder) as entries:\n",
    "    for entry in entries:\n",
    "        if entry.is_file():\n",
    "            split_point = str(entry.name).split('.')\n",
    "            split_tiret = split_point[0].split('-')\n",
    "            id = int(split_tiret[0]+split_tiret[1])\n",
    "            rapports = {**rapports, **getSingleRapport(folder_name+subfolder+'/'+str(entry.name), delimiteurSup=\"<![CDATA[\", delimiteurInf=\"]]>\", pattern=None, id=id)}"
   ]
  },
  {
   "cell_type": "code",
   "execution_count": 418,
   "metadata": {},
   "outputs": [],
   "source": [
    "list_diff = list(set(rapports).difference(set(dict_rapports_2014)))"
   ]
  },
  {
   "cell_type": "code",
   "execution_count": 419,
   "metadata": {},
   "outputs": [],
   "source": [
    "if list_diff != []:\n",
    "    for id in list_diff:\n",
    "        dict_rapports_2014[id] = rapports[id]"
   ]
  },
  {
   "cell_type": "code",
   "execution_count": 420,
   "metadata": {},
   "outputs": [
    {
     "data": {
      "text/plain": [
       "522"
      ]
     },
     "execution_count": 420,
     "metadata": {},
     "output_type": "execute_result"
    }
   ],
   "source": [
    "len(dict_rapports_2014)"
   ]
  },
  {
   "attachments": {},
   "cell_type": "markdown",
   "metadata": {},
   "source": [
    "### Dossier Track2-de-indentification"
   ]
  },
  {
   "cell_type": "code",
   "execution_count": 423,
   "metadata": {},
   "outputs": [],
   "source": [
    "subfolder = \"/Track2-RiskFactors/complete\""
   ]
  },
  {
   "cell_type": "code",
   "execution_count": 424,
   "metadata": {},
   "outputs": [],
   "source": [
    "rapports = {}\n",
    "with os.scandir(folder_name+subfolder) as entries:\n",
    "    for entry in entries:\n",
    "        if entry.is_file():\n",
    "            split_point = str(entry.name).split('.')\n",
    "            split_tiret = split_point[0].split('-')\n",
    "            id = int(split_tiret[0]+split_tiret[1])\n",
    "            rapports = {**rapports, **getSingleRapport(folder_name+subfolder+'/'+str(entry.name), delimiteurSup=\"<![CDATA[\", delimiteurInf=\"]]>\", pattern=None, id=id)}"
   ]
  },
  {
   "cell_type": "code",
   "execution_count": 425,
   "metadata": {},
   "outputs": [],
   "source": [
    "list_diff = list(set(rapports).difference(set(dict_rapports_2014)))"
   ]
  },
  {
   "cell_type": "code",
   "execution_count": 426,
   "metadata": {},
   "outputs": [],
   "source": [
    "if list_diff != []:\n",
    "    for id in list_diff:\n",
    "        dict_rapports_2014[id] = rapports[id]"
   ]
  },
  {
   "cell_type": "code",
   "execution_count": 427,
   "metadata": {},
   "outputs": [
    {
     "data": {
      "text/plain": [
       "522"
      ]
     },
     "execution_count": 427,
     "metadata": {},
     "output_type": "execute_result"
    }
   ],
   "source": [
    "len(dict_rapports_2014)"
   ]
  },
  {
   "attachments": {},
   "cell_type": "markdown",
   "metadata": {},
   "source": [
    "### Dossier training-PHI-Gold-Set1"
   ]
  },
  {
   "cell_type": "code",
   "execution_count": 428,
   "metadata": {},
   "outputs": [],
   "source": [
    "subfolder = \"/training-PHI-Gold-Set1\""
   ]
  },
  {
   "cell_type": "code",
   "execution_count": 429,
   "metadata": {},
   "outputs": [],
   "source": [
    "rapports = {}\n",
    "with os.scandir(folder_name+subfolder) as entries:\n",
    "    for entry in entries:\n",
    "        if entry.is_file():\n",
    "            split_point = str(entry.name).split('.')\n",
    "            split_tiret = split_point[0].split('-')\n",
    "            id = int(split_tiret[0]+split_tiret[1])\n",
    "            rapports = {**rapports, **getSingleRapport(folder_name+subfolder+'/'+str(entry.name), delimiteurSup=\"<![CDATA[\", delimiteurInf=\"]]>\", pattern=None, id=id)}"
   ]
  },
  {
   "cell_type": "code",
   "execution_count": 430,
   "metadata": {},
   "outputs": [],
   "source": [
    "list_diff = list(set(rapports).difference(set(dict_rapports_2014)))"
   ]
  },
  {
   "cell_type": "code",
   "execution_count": 431,
   "metadata": {},
   "outputs": [],
   "source": [
    "if list_diff != []:\n",
    "    for id in list_diff:\n",
    "        dict_rapports_2014[id] = rapports[id]"
   ]
  },
  {
   "cell_type": "code",
   "execution_count": 432,
   "metadata": {},
   "outputs": [
    {
     "data": {
      "text/plain": [
       "1035"
      ]
     },
     "execution_count": 432,
     "metadata": {},
     "output_type": "execute_result"
    }
   ],
   "source": [
    "len(dict_rapports_2014)"
   ]
  },
  {
   "attachments": {},
   "cell_type": "markdown",
   "metadata": {},
   "source": [
    "### Dossier training-PHI-Gold-Set2"
   ]
  },
  {
   "cell_type": "code",
   "execution_count": 443,
   "metadata": {},
   "outputs": [],
   "source": [
    "subfolder = \"/training-PHI-Gold-Set2\""
   ]
  },
  {
   "cell_type": "code",
   "execution_count": 444,
   "metadata": {},
   "outputs": [],
   "source": [
    "rapports = {}\n",
    "with os.scandir(folder_name+subfolder) as entries:\n",
    "    for entry in entries:\n",
    "        if entry.is_file():\n",
    "            split_point = str(entry.name).split('.')\n",
    "            split_tiret = split_point[0].split('-')\n",
    "            id = int(split_tiret[0]+split_tiret[1])\n",
    "            rapports = {**rapports, **getSingleRapport(folder_name+subfolder+'/'+str(entry.name), delimiteurSup=\"<![CDATA[\", delimiteurInf=\"]]>\", pattern=None, id=id)}"
   ]
  },
  {
   "cell_type": "code",
   "execution_count": 448,
   "metadata": {},
   "outputs": [],
   "source": [
    "list_diff = list(set(rapports).difference(set(dict_rapports_2014)))"
   ]
  },
  {
   "cell_type": "code",
   "execution_count": 449,
   "metadata": {},
   "outputs": [],
   "source": [
    "if list_diff != []:\n",
    "    for id in list_diff:\n",
    "        dict_rapports_2014[id] = rapports[id]"
   ]
  },
  {
   "cell_type": "code",
   "execution_count": 450,
   "metadata": {},
   "outputs": [
    {
     "data": {
      "text/plain": [
       "1304"
      ]
     },
     "execution_count": 450,
     "metadata": {},
     "output_type": "execute_result"
    }
   ],
   "source": [
    "len(dict_rapports_2014)"
   ]
  },
  {
   "attachments": {},
   "cell_type": "markdown",
   "metadata": {},
   "source": [
    "### Dossier training-RiskFactors-Complete-Set1"
   ]
  },
  {
   "cell_type": "code",
   "execution_count": 452,
   "metadata": {},
   "outputs": [],
   "source": [
    "subfolder = \"/training-RiskFactors-Complete-Set1\""
   ]
  },
  {
   "cell_type": "code",
   "execution_count": 453,
   "metadata": {},
   "outputs": [],
   "source": [
    "rapports = {}\n",
    "with os.scandir(folder_name+subfolder) as entries:\n",
    "    for entry in entries:\n",
    "        if entry.is_file():\n",
    "            split_point = str(entry.name).split('.')\n",
    "            split_tiret = split_point[0].split('-')\n",
    "            id = int(split_tiret[0]+split_tiret[1])\n",
    "            rapports = {**rapports, **getSingleRapport(folder_name+subfolder+'/'+str(entry.name), delimiteurSup=\"<![CDATA[\", delimiteurInf=\"]]>\", pattern=None, id=id)}"
   ]
  },
  {
   "cell_type": "code",
   "execution_count": 454,
   "metadata": {},
   "outputs": [],
   "source": [
    "list_diff = list(set(rapports).difference(set(dict_rapports_2014)))"
   ]
  },
  {
   "cell_type": "code",
   "execution_count": 455,
   "metadata": {},
   "outputs": [],
   "source": [
    "if list_diff != []:\n",
    "    for id in list_diff:\n",
    "        dict_rapports_2014[id] = rapports[id]"
   ]
  },
  {
   "cell_type": "code",
   "execution_count": 456,
   "metadata": {},
   "outputs": [
    {
     "data": {
      "text/plain": [
       "1304"
      ]
     },
     "execution_count": 456,
     "metadata": {},
     "output_type": "execute_result"
    }
   ],
   "source": [
    "len(dict_rapports_2014)"
   ]
  },
  {
   "attachments": {},
   "cell_type": "markdown",
   "metadata": {},
   "source": [
    "### Dossier training-RiskFactors-Complete-Set1-MAE"
   ]
  },
  {
   "cell_type": "code",
   "execution_count": 458,
   "metadata": {},
   "outputs": [],
   "source": [
    "subfolder = \"/training-RiskFactors-Complete-Set1-MAE\""
   ]
  },
  {
   "cell_type": "code",
   "execution_count": 459,
   "metadata": {},
   "outputs": [],
   "source": [
    "rapports = {}\n",
    "with os.scandir(folder_name+subfolder) as entries:\n",
    "    for entry in entries:\n",
    "        if entry.is_file():\n",
    "            split_point = str(entry.name).split('.')\n",
    "            split_tiret = split_point[0].split('-')\n",
    "            id = int(split_tiret[0]+split_tiret[1])\n",
    "            rapports = {**rapports, **getSingleRapport(folder_name+subfolder+'/'+str(entry.name), delimiteurSup=\"<![CDATA[\", delimiteurInf=\"]]>\", pattern=None, id=id)}"
   ]
  },
  {
   "cell_type": "code",
   "execution_count": 460,
   "metadata": {},
   "outputs": [],
   "source": [
    "list_diff = list(set(rapports).difference(set(dict_rapports_2014)))"
   ]
  },
  {
   "cell_type": "code",
   "execution_count": 461,
   "metadata": {},
   "outputs": [],
   "source": [
    "if list_diff != []:\n",
    "    for id in list_diff:\n",
    "        dict_rapports_2014[id] = rapports[id]"
   ]
  },
  {
   "cell_type": "code",
   "execution_count": 462,
   "metadata": {},
   "outputs": [
    {
     "data": {
      "text/plain": [
       "1304"
      ]
     },
     "execution_count": 462,
     "metadata": {},
     "output_type": "execute_result"
    }
   ],
   "source": [
    "len(dict_rapports_2014)"
   ]
  },
  {
   "attachments": {},
   "cell_type": "markdown",
   "metadata": {},
   "source": [
    "### Dossier training-RiskFactors-Complete-Set2-MAE"
   ]
  },
  {
   "cell_type": "code",
   "execution_count": 464,
   "metadata": {},
   "outputs": [],
   "source": [
    "subfolder = \"/training-RiskFactors-Complete-Set2-MAE\""
   ]
  },
  {
   "cell_type": "code",
   "execution_count": 465,
   "metadata": {},
   "outputs": [],
   "source": [
    "rapports = {}\n",
    "with os.scandir(folder_name+subfolder) as entries:\n",
    "    for entry in entries:\n",
    "        if entry.is_file():\n",
    "            split_point = str(entry.name).split('.')\n",
    "            split_tiret = split_point[0].split('-')\n",
    "            id = int(split_tiret[0]+split_tiret[1])\n",
    "            rapports = {**rapports, **getSingleRapport(folder_name+subfolder+'/'+str(entry.name), delimiteurSup=\"<![CDATA[\", delimiteurInf=\"]]>\", pattern=None, id=id)}"
   ]
  },
  {
   "cell_type": "code",
   "execution_count": 466,
   "metadata": {},
   "outputs": [],
   "source": [
    "list_diff = list(set(rapports).difference(set(dict_rapports_2014)))"
   ]
  },
  {
   "cell_type": "code",
   "execution_count": 467,
   "metadata": {},
   "outputs": [],
   "source": [
    "if list_diff != []:\n",
    "    for id in list_diff:\n",
    "        dict_rapports_2014[id] = rapports[id]"
   ]
  },
  {
   "cell_type": "code",
   "execution_count": 468,
   "metadata": {},
   "outputs": [
    {
     "data": {
      "text/plain": [
       "1304"
      ]
     },
     "execution_count": 468,
     "metadata": {},
     "output_type": "execute_result"
    }
   ],
   "source": [
    "len(dict_rapports_2014)"
   ]
  },
  {
   "attachments": {},
   "cell_type": "markdown",
   "metadata": {},
   "source": [
    "### Dossier training-RiskFactors-Gold-Set1"
   ]
  },
  {
   "cell_type": "code",
   "execution_count": 469,
   "metadata": {},
   "outputs": [],
   "source": [
    "subfolder = \"/training-RiskFactors-Gold-Set1\""
   ]
  },
  {
   "cell_type": "code",
   "execution_count": 470,
   "metadata": {},
   "outputs": [],
   "source": [
    "rapports = {}\n",
    "with os.scandir(folder_name+subfolder) as entries:\n",
    "    for entry in entries:\n",
    "        if entry.is_file():\n",
    "            split_point = str(entry.name).split('.')\n",
    "            split_tiret = split_point[0].split('-')\n",
    "            id = int(split_tiret[0]+split_tiret[1])\n",
    "            rapports = {**rapports, **getSingleRapport(folder_name+subfolder+'/'+str(entry.name), delimiteurSup=\"<![CDATA[\", delimiteurInf=\"]]>\", pattern=None, id=id)}"
   ]
  },
  {
   "cell_type": "code",
   "execution_count": 471,
   "metadata": {},
   "outputs": [],
   "source": [
    "list_diff = list(set(rapports).difference(set(dict_rapports_2014)))"
   ]
  },
  {
   "cell_type": "code",
   "execution_count": 472,
   "metadata": {},
   "outputs": [],
   "source": [
    "if list_diff != []:\n",
    "    for id in list_diff:\n",
    "        dict_rapports_2014[id] = rapports[id]"
   ]
  },
  {
   "cell_type": "code",
   "execution_count": 473,
   "metadata": {},
   "outputs": [
    {
     "data": {
      "text/plain": [
       "1304"
      ]
     },
     "execution_count": 473,
     "metadata": {},
     "output_type": "execute_result"
    }
   ],
   "source": [
    "len(dict_rapports_2014)"
   ]
  },
  {
   "attachments": {},
   "cell_type": "markdown",
   "metadata": {},
   "source": [
    "### Dossier training-RiskFactors-Gold-Set2"
   ]
  },
  {
   "cell_type": "code",
   "execution_count": 474,
   "metadata": {},
   "outputs": [],
   "source": [
    "subfolder = \"/training-RiskFactors-Gold-Set2\""
   ]
  },
  {
   "cell_type": "code",
   "execution_count": 475,
   "metadata": {},
   "outputs": [],
   "source": [
    "rapports = {}\n",
    "with os.scandir(folder_name+subfolder) as entries:\n",
    "    for entry in entries:\n",
    "        if entry.is_file():\n",
    "            split_point = str(entry.name).split('.')\n",
    "            split_tiret = split_point[0].split('-')\n",
    "            id = int(split_tiret[0]+split_tiret[1])\n",
    "            rapports = {**rapports, **getSingleRapport(folder_name+subfolder+'/'+str(entry.name), delimiteurSup=\"<![CDATA[\", delimiteurInf=\"]]>\", pattern=None, id=id)}"
   ]
  },
  {
   "cell_type": "code",
   "execution_count": 476,
   "metadata": {},
   "outputs": [],
   "source": [
    "list_diff = list(set(rapports).difference(set(dict_rapports_2014)))"
   ]
  },
  {
   "cell_type": "code",
   "execution_count": 477,
   "metadata": {},
   "outputs": [],
   "source": [
    "if list_diff != []:\n",
    "    for id in list_diff:\n",
    "        dict_rapports_2014[id] = rapports[id]"
   ]
  },
  {
   "cell_type": "code",
   "execution_count": 478,
   "metadata": {},
   "outputs": [
    {
     "data": {
      "text/plain": [
       "1304"
      ]
     },
     "execution_count": 478,
     "metadata": {},
     "output_type": "execute_result"
    }
   ],
   "source": [
    "len(dict_rapports_2014)"
   ]
  },
  {
   "attachments": {},
   "cell_type": "markdown",
   "metadata": {},
   "source": [
    "## Rapports 2018 (Track 1) - Clinical Trial Cohort Selection"
   ]
  },
  {
   "attachments": {},
   "cell_type": "markdown",
   "metadata": {},
   "source": [
    "Les rapports de ce challenge sont un peu plus délicats à extraire car leur format est particulier. \n",
    "Chaque fichier contient x rapports médicaux dans le format XML.\n",
    "- Le début et la fin du fichier contiennt des balises indésirables\n",
    "- Les rapports dans un même fichier sont séprés par la chaine *** (de longueur 100)\n",
    "- L'id est attribué à un groupe de rapports et non pas à un rapport individuel\n",
    "\n",
    "Nous allons donc récupérer l'ensemble des rapports d'un fichier comme nous ferions pour un seul rapport. Une fois que nous aurons extrait tous les ensembles de rapports, nous ferons des split sur la chaine 100*\"*\" pour les éclater en rapports individuels. "
   ]
  },
  {
   "cell_type": "code",
   "execution_count": 300,
   "metadata": {},
   "outputs": [],
   "source": [
    "folder_name = \"2018 (Track 1) - Clinical Trial Cohort Selection\"\n",
    "dict_rapports_2018_1 = {}"
   ]
  },
  {
   "attachments": {},
   "cell_type": "markdown",
   "metadata": {},
   "source": [
    "### Dossier train"
   ]
  },
  {
   "cell_type": "code",
   "execution_count": 301,
   "metadata": {},
   "outputs": [],
   "source": [
    "subfolder = \"/train\""
   ]
  },
  {
   "cell_type": "code",
   "execution_count": 302,
   "metadata": {},
   "outputs": [],
   "source": [
    "rapports = {}\n",
    "with os.scandir(folder_name+subfolder) as entries:\n",
    "    for entry in entries:\n",
    "        if entry.is_file():\n",
    "            split_point = str(entry.name).split('.')\n",
    "            id = int(split_point[0])\n",
    "            rapports = {**rapports, **getSingleRapport(folder_name+subfolder+'/'+str(entry.name), delimiteurSup=\"<![CDATA[\", delimiteurInf=\"]]>\", pattern=None, id=id)}"
   ]
  },
  {
   "cell_type": "code",
   "execution_count": 303,
   "metadata": {},
   "outputs": [],
   "source": [
    "dict_rapports_2018_1 = {**rapports, **dict_rapports_2018_1}"
   ]
  },
  {
   "attachments": {},
   "cell_type": "markdown",
   "metadata": {},
   "source": [
    "### Dossier test_notags"
   ]
  },
  {
   "cell_type": "code",
   "execution_count": 304,
   "metadata": {},
   "outputs": [],
   "source": [
    "subfolder = \"/test_notags\""
   ]
  },
  {
   "cell_type": "code",
   "execution_count": 305,
   "metadata": {},
   "outputs": [],
   "source": [
    "rapports = {}\n",
    "with os.scandir(folder_name+subfolder) as entries:\n",
    "    for entry in entries:\n",
    "        if entry.is_file():\n",
    "            split_point = str(entry.name).split('.')\n",
    "            id = int(split_point[0])\n",
    "            rapports = {**rapports, **getSingleRapport(folder_name+subfolder+'/'+str(entry.name), delimiteurSup=\"<![CDATA[\", delimiteurInf=\"]]>\", pattern=None, id=id)}"
   ]
  },
  {
   "cell_type": "code",
   "execution_count": 306,
   "metadata": {},
   "outputs": [],
   "source": [
    "list_diff = list(set(rapports).difference(set(dict_rapports_2018_1)))"
   ]
  },
  {
   "cell_type": "code",
   "execution_count": 307,
   "metadata": {},
   "outputs": [],
   "source": [
    "if list_diff != []:\n",
    "    for id in list_diff:\n",
    "        dict_rapports_2018_1[id] = rapports[id]"
   ]
  },
  {
   "cell_type": "code",
   "execution_count": 308,
   "metadata": {},
   "outputs": [
    {
     "data": {
      "text/plain": [
       "288"
      ]
     },
     "execution_count": 308,
     "metadata": {},
     "output_type": "execute_result"
    }
   ],
   "source": [
    "len(dict_rapports_2018_1)"
   ]
  },
  {
   "attachments": {},
   "cell_type": "markdown",
   "metadata": {},
   "source": [
    "### n2c2-t1_gold_standard_test_data"
   ]
  },
  {
   "cell_type": "code",
   "execution_count": 309,
   "metadata": {},
   "outputs": [],
   "source": [
    "subfolder = \"/n2c2-t1_gold_standard_test_data\""
   ]
  },
  {
   "cell_type": "code",
   "execution_count": 310,
   "metadata": {},
   "outputs": [],
   "source": [
    "rapports = {}\n",
    "with os.scandir(folder_name+subfolder) as entries:\n",
    "    for entry in entries:\n",
    "        if entry.is_file():\n",
    "            split_point = str(entry.name).split('.')\n",
    "            id = int(split_point[0])\n",
    "            rapports = {**rapports, **getSingleRapport(folder_name+subfolder+'/'+str(entry.name), delimiteurSup=\"<![CDATA[\", delimiteurInf=\"]]>\", pattern=None, id=id)}"
   ]
  },
  {
   "cell_type": "code",
   "execution_count": 311,
   "metadata": {},
   "outputs": [],
   "source": [
    "list_diff = list(set(rapports).difference(set(dict_rapports_2018_1)))"
   ]
  },
  {
   "cell_type": "code",
   "execution_count": 312,
   "metadata": {},
   "outputs": [],
   "source": [
    "if list_diff != []:\n",
    "    for id in list_diff:\n",
    "        dict_rapports_2018_1[id] = rapports[id]"
   ]
  },
  {
   "cell_type": "code",
   "execution_count": 313,
   "metadata": {},
   "outputs": [
    {
     "data": {
      "text/plain": [
       "288"
      ]
     },
     "execution_count": 313,
     "metadata": {},
     "output_type": "execute_result"
    }
   ],
   "source": [
    "len(dict_rapports_2018_1)"
   ]
  },
  {
   "attachments": {},
   "cell_type": "markdown",
   "metadata": {},
   "source": [
    "### Eclatement des rapports"
   ]
  },
  {
   "cell_type": "code",
   "execution_count": 314,
   "metadata": {},
   "outputs": [],
   "source": [
    "list_2018_1 = []"
   ]
  },
  {
   "cell_type": "code",
   "execution_count": 317,
   "metadata": {},
   "outputs": [],
   "source": [
    "for k in dict_rapports_2018_1.keys():\n",
    "    raps = dict_rapports_2018_1[k].split(100*\"*\")\n",
    "    [list_2018_1.append(raps[i]) for i in range(len(raps))]\n",
    "    raps = []"
   ]
  },
  {
   "cell_type": "code",
   "execution_count": 319,
   "metadata": {},
   "outputs": [
    {
     "data": {
      "text/plain": [
       "1555"
      ]
     },
     "execution_count": 319,
     "metadata": {},
     "output_type": "execute_result"
    }
   ],
   "source": [
    "len(list_2018_1)"
   ]
  },
  {
   "attachments": {},
   "cell_type": "markdown",
   "metadata": {},
   "source": [
    "## Rapports 2018 (Track 2) - Adverse Drug Events and Medication Extraction"
   ]
  },
  {
   "cell_type": "code",
   "execution_count": 273,
   "metadata": {},
   "outputs": [],
   "source": [
    "folder_name = \"2018 (Track 2) - Adverse Drug Events and Medication Extraction\"\n",
    "dict_rapports_2018_2 = {}"
   ]
  },
  {
   "attachments": {},
   "cell_type": "markdown",
   "metadata": {},
   "source": [
    "### Dossier training_20180910"
   ]
  },
  {
   "cell_type": "code",
   "execution_count": 274,
   "metadata": {},
   "outputs": [],
   "source": [
    "subfolder = \"/training_20180910\""
   ]
  },
  {
   "cell_type": "code",
   "execution_count": 275,
   "metadata": {},
   "outputs": [],
   "source": [
    "rapports = {}\n",
    "with os.scandir(folder_name+subfolder) as entries:\n",
    "    for entry in entries:\n",
    "        if entry.is_file():\n",
    "            id = -1\n",
    "            split_point = str(entry.name).split('.')\n",
    "            if split_point[1] == 'txt':\n",
    "                id = int(split_point[0])\n",
    "                rapports = {**rapports, **getSingleRapport(folder_name+subfolder+'/'+str(entry.name), delimiteurSup=None, delimiteurInf=\"\", pattern=None, id=id)}"
   ]
  },
  {
   "cell_type": "code",
   "execution_count": 276,
   "metadata": {},
   "outputs": [],
   "source": [
    "dict_rapports_2018_2 = {**rapports, **dict_rapports_2018_2}"
   ]
  },
  {
   "cell_type": "code",
   "execution_count": 277,
   "metadata": {},
   "outputs": [
    {
     "data": {
      "text/plain": [
       "303"
      ]
     },
     "execution_count": 277,
     "metadata": {},
     "output_type": "execute_result"
    }
   ],
   "source": [
    "len(dict_rapports_2018_2)"
   ]
  },
  {
   "attachments": {},
   "cell_type": "markdown",
   "metadata": {},
   "source": [
    "### Dossier test_data_Tasks1&3"
   ]
  },
  {
   "cell_type": "code",
   "execution_count": 278,
   "metadata": {},
   "outputs": [],
   "source": [
    "subfolder = \"/test_data_Tasks1&3\""
   ]
  },
  {
   "cell_type": "code",
   "execution_count": 279,
   "metadata": {},
   "outputs": [],
   "source": [
    "rapports = {}\n",
    "with os.scandir(folder_name+subfolder) as entries:\n",
    "    for entry in entries:\n",
    "        if entry.is_file():\n",
    "            id = -1\n",
    "            split_point = str(entry.name).split('.')\n",
    "            if split_point[1] == 'txt':\n",
    "                id = int(split_point[0])\n",
    "                rapports = {**rapports, **getSingleRapport(folder_name+subfolder+'/'+str(entry.name), delimiteurSup=None, delimiteurInf=\"\", pattern=None, id=id)}"
   ]
  },
  {
   "cell_type": "code",
   "execution_count": 280,
   "metadata": {},
   "outputs": [],
   "source": [
    "list_diff = list(set(rapports).difference(set(dict_rapports_2018_2)))"
   ]
  },
  {
   "cell_type": "code",
   "execution_count": 281,
   "metadata": {},
   "outputs": [],
   "source": [
    "if list_diff != []:\n",
    "    for id in list_diff:\n",
    "        dict_rapports_2018_2[id] = rapports[id]"
   ]
  },
  {
   "cell_type": "code",
   "execution_count": 282,
   "metadata": {},
   "outputs": [
    {
     "data": {
      "text/plain": [
       "505"
      ]
     },
     "execution_count": 282,
     "metadata": {},
     "output_type": "execute_result"
    }
   ],
   "source": [
    "len(dict_rapports_2018_2)"
   ]
  },
  {
   "attachments": {},
   "cell_type": "markdown",
   "metadata": {},
   "source": [
    "### Dossier test_data_Tasks2"
   ]
  },
  {
   "cell_type": "code",
   "execution_count": 283,
   "metadata": {},
   "outputs": [],
   "source": [
    "subfolder = \"/test_data_Task2\""
   ]
  },
  {
   "cell_type": "code",
   "execution_count": 284,
   "metadata": {},
   "outputs": [],
   "source": [
    "rapports = {}\n",
    "with os.scandir(folder_name+subfolder) as entries:\n",
    "    for entry in entries:\n",
    "        if entry.is_file():\n",
    "            id = -1\n",
    "            split_point = str(entry.name).split('.')\n",
    "            if split_point[1] == 'txt':\n",
    "                id = int(split_point[0])\n",
    "                rapports = {**rapports, **getSingleRapport(folder_name+subfolder+'/'+str(entry.name), delimiteurSup=None, delimiteurInf=\"\", pattern=None, id=id)}"
   ]
  },
  {
   "cell_type": "code",
   "execution_count": 285,
   "metadata": {},
   "outputs": [],
   "source": [
    "list_diff = list(set(rapports).difference(set(dict_rapports_2018_2)))"
   ]
  },
  {
   "cell_type": "code",
   "execution_count": 286,
   "metadata": {},
   "outputs": [],
   "source": [
    "if list_diff != []:\n",
    "    for id in list_diff:\n",
    "        dict_rapports_2018_2[id] = rapports[id]"
   ]
  },
  {
   "cell_type": "code",
   "execution_count": 287,
   "metadata": {},
   "outputs": [
    {
     "data": {
      "text/plain": [
       "505"
      ]
     },
     "execution_count": 287,
     "metadata": {},
     "output_type": "execute_result"
    }
   ],
   "source": [
    "len(dict_rapports_2018_2)"
   ]
  },
  {
   "attachments": {},
   "cell_type": "markdown",
   "metadata": {},
   "source": [
    "### Dossier test"
   ]
  },
  {
   "cell_type": "code",
   "execution_count": 288,
   "metadata": {},
   "outputs": [],
   "source": [
    "subfolder = \"/test\""
   ]
  },
  {
   "cell_type": "code",
   "execution_count": 289,
   "metadata": {},
   "outputs": [],
   "source": [
    "rapports = {}\n",
    "with os.scandir(folder_name+subfolder) as entries:\n",
    "    for entry in entries:\n",
    "        if entry.is_file():\n",
    "            id = -1\n",
    "            split_point = str(entry.name).split('.')\n",
    "            if split_point[1] == 'txt':\n",
    "                id = int(split_point[0])\n",
    "                rapports = {**rapports, **getSingleRapport(folder_name+subfolder+'/'+str(entry.name), delimiteurSup=None, delimiteurInf=\"\", pattern=None, id=id)}"
   ]
  },
  {
   "cell_type": "code",
   "execution_count": 290,
   "metadata": {},
   "outputs": [],
   "source": [
    "list_diff = list(set(rapports).difference(set(dict_rapports_2018_2)))"
   ]
  },
  {
   "cell_type": "code",
   "execution_count": 291,
   "metadata": {},
   "outputs": [],
   "source": [
    "if list_diff != []:\n",
    "    for id in list_diff:\n",
    "        dict_rapports_2018_2[id] = rapports[id]"
   ]
  },
  {
   "attachments": {},
   "cell_type": "markdown",
   "metadata": {},
   "source": [
    "### Dossier data_sample"
   ]
  },
  {
   "cell_type": "code",
   "execution_count": 292,
   "metadata": {},
   "outputs": [],
   "source": [
    "subfolder = \"/data_sample\""
   ]
  },
  {
   "cell_type": "code",
   "execution_count": 293,
   "metadata": {},
   "outputs": [],
   "source": [
    "rapports = {}\n",
    "with os.scandir(folder_name+subfolder) as entries:\n",
    "    for entry in entries:\n",
    "        if entry.is_file():\n",
    "            id = -1\n",
    "            split_point = str(entry.name).split('.')\n",
    "            if split_point[1] == 'txt':\n",
    "                id = int(split_point[0])\n",
    "                rapports = {**rapports, **getSingleRapport(folder_name+subfolder+'/'+str(entry.name), delimiteurSup=None, delimiteurInf=\"\", pattern=None, id=id)}"
   ]
  },
  {
   "cell_type": "code",
   "execution_count": 294,
   "metadata": {},
   "outputs": [],
   "source": [
    "list_diff = list(set(rapports).difference(set(dict_rapports_2018_2)))"
   ]
  },
  {
   "cell_type": "code",
   "execution_count": 295,
   "metadata": {},
   "outputs": [],
   "source": [
    "if list_diff != []:\n",
    "    for id in list_diff:\n",
    "        dict_rapports_2018_2[id] = rapports[id]"
   ]
  },
  {
   "cell_type": "code",
   "execution_count": 296,
   "metadata": {},
   "outputs": [
    {
     "data": {
      "text/plain": [
       "505"
      ]
     },
     "execution_count": 296,
     "metadata": {},
     "output_type": "execute_result"
    }
   ],
   "source": [
    "len(dict_rapports_2018_2)"
   ]
  },
  {
   "cell_type": "code",
   "execution_count": 9,
   "metadata": {},
   "outputs": [
    {
     "name": "stdout",
     "output_type": "stream",
     "text": [
      "Taux de similarité : 0.7765145304745156\n"
     ]
    }
   ],
   "source": [
    "doc1 = \"11 SALUT NA BLA\"\n",
    "doc2 = \"& saLut na bla\"\n",
    "\n",
    "vectorizer = TfidfVectorizer()\n",
    "\n",
    "tfidf_vectors = vectorizer.fit_transform([doc1, doc2])\n",
    "\n",
    "similarity = cosine_similarity(tfidf_vectors[0:1], tfidf_vectors)\n",
    "\n",
    "print(\"Taux de similarité :\", similarity[0][1])"
   ]
  },
  {
   "attachments": {},
   "cell_type": "markdown",
   "metadata": {},
   "source": [
    "## Automatisation de l'extraction des rapports"
   ]
  },
  {
   "attachments": {},
   "cell_type": "markdown",
   "metadata": {},
   "source": [
    "### Extraction et transformation en DataFrame"
   ]
  },
  {
   "cell_type": "code",
   "execution_count": 30,
   "metadata": {},
   "outputs": [],
   "source": [
    "from data_extraction import getRapportsAnnee\n",
    "from preprocessing import getTauxSimilarite\n",
    "from preprocessing import removeDuplicateReports"
   ]
  },
  {
   "cell_type": "code",
   "execution_count": 25,
   "metadata": {},
   "outputs": [],
   "source": [
    "with open('documents.json', 'r') as f:\n",
    "    directories = json.loads(f.read())"
   ]
  },
  {
   "cell_type": "code",
   "execution_count": 31,
   "metadata": {},
   "outputs": [
    {
     "name": "stdout",
     "output_type": "stream",
     "text": [
      "Année : 2006\n",
      "Nombre de rapports : 913\n",
      "#################################\n",
      "Année : 2008\n",
      "Nombre de rapports : 1237\n",
      "#################################\n",
      "Année : 2009\n",
      "Nombre de rapports : 1249\n",
      "#################################\n",
      "Année : 2010\n",
      "Nombre de rapports : 693\n",
      "#################################\n",
      "Année : 2011\n",
      "Nombre de rapports : 424\n",
      "#################################\n",
      "Année : 2012\n",
      "Warning : Des fichiers autres que xml ont été trouvés mais ont été ignorés pour l'année 2012.\n",
      "Nombre de rapports : 310\n",
      "#################################\n",
      "Année : 2014\n",
      "Nombre de rapports : 1304\n",
      "#################################\n",
      "Année : 2018-1\n",
      "Nombre de rapports : 970\n",
      "#################################\n",
      "Année : 2018-2\n",
      "Warning : Des fichiers autres que txt ont été trouvés mais ont été ignorés pour l'année 2018-2.\n",
      "Nombre de rapports : 505\n",
      "#################################\n"
     ]
    }
   ],
   "source": [
    "allRapports = {}\n",
    "for annee in list(directories.keys()):\n",
    "    print(f\"Année : {str(annee)}\")\n",
    "    dossiers = [directories[annee][\"metadata\"][\"baseDossier\"]+\"/\"+doss for doss in directories[annee][\"dossiers\"]]\n",
    "    delimSup = directories[annee][\"metadata\"][\"delimSup\"] if directories[annee][\"metadata\"][\"delimSup\"] != \"None\" else None\n",
    "    delimInf = directories[annee][\"metadata\"][\"delimInf\"]\n",
    "    typeRap = directories[annee][\"metadata\"][\"type\"]\n",
    "    ext = directories[annee][\"metadata\"][\"extension\"] if directories[annee][\"metadata\"][\"extension\"] != \"None\" else None\n",
    "    pattern = directories[annee][\"metadata\"][\"pattern\"] if directories[annee][\"metadata\"][\"pattern\"] != \"None\" else None\n",
    "    takeName = True if directories[annee][\"metadata\"][\"takeName\"] == \"True\" else False\n",
    "    rapports_annee = getRapportsAnnee(annee, dossiers, delimSup, delimInf, typeRap, ext, pattern, takeName)\n",
    "    allRapports = {**rapports_annee, **allRapports}\n",
    "    print(f\"Nombre de rapports : {str(len(rapports_annee))}\")\n",
    "    print(\"#################################\")\n",
    "    rapports_annee = None"
   ]
  },
  {
   "cell_type": "code",
   "execution_count": 32,
   "metadata": {},
   "outputs": [
    {
     "name": "stdout",
     "output_type": "stream",
     "text": [
      "Nombre de rapports total : 7605\n"
     ]
    }
   ],
   "source": [
    "print(f\"Nombre de rapports total : {str(len(allRapports))}\")"
   ]
  },
  {
   "cell_type": "code",
   "execution_count": 36,
   "metadata": {},
   "outputs": [],
   "source": [
    "df_rapports = pd.DataFrame(list(allRapports.items()), columns = ['id', 'rapport'])"
   ]
  },
  {
   "cell_type": "code",
   "execution_count": 17,
   "metadata": {},
   "outputs": [
    {
     "data": {
      "text/html": [
       "<div>\n",
       "<style scoped>\n",
       "    .dataframe tbody tr th:only-of-type {\n",
       "        vertical-align: middle;\n",
       "    }\n",
       "\n",
       "    .dataframe tbody tr th {\n",
       "        vertical-align: top;\n",
       "    }\n",
       "\n",
       "    .dataframe thead th {\n",
       "        text-align: right;\n",
       "    }\n",
       "</style>\n",
       "<table border=\"1\" class=\"dataframe\">\n",
       "  <thead>\n",
       "    <tr style=\"text-align: right;\">\n",
       "      <th></th>\n",
       "      <th>id</th>\n",
       "      <th>rapport</th>\n",
       "    </tr>\n",
       "  </thead>\n",
       "  <tbody>\n",
       "    <tr>\n",
       "      <th>0</th>\n",
       "      <td>2018-2_106915</td>\n",
       "      <td>Admission Date:  [**2128-8-21**]              ...</td>\n",
       "    </tr>\n",
       "    <tr>\n",
       "      <th>1</th>\n",
       "      <td>2018-2_104948</td>\n",
       "      <td>Admission Date:  [**2154-12-14**]             ...</td>\n",
       "    </tr>\n",
       "    <tr>\n",
       "      <th>2</th>\n",
       "      <td>2018-2_133235</td>\n",
       "      <td>Admission Date:  [**2119-4-6**]              D...</td>\n",
       "    </tr>\n",
       "    <tr>\n",
       "      <th>3</th>\n",
       "      <td>2018-2_115391</td>\n",
       "      <td>Admission Date:  [**2165-5-4**]              D...</td>\n",
       "    </tr>\n",
       "    <tr>\n",
       "      <th>4</th>\n",
       "      <td>2018-2_109698</td>\n",
       "      <td>Name:  [**Known lastname 447**],[**Known first...</td>\n",
       "    </tr>\n",
       "  </tbody>\n",
       "</table>\n",
       "</div>"
      ],
      "text/plain": [
       "              id                                            rapport\n",
       "0  2018-2_106915  Admission Date:  [**2128-8-21**]              ...\n",
       "1  2018-2_104948  Admission Date:  [**2154-12-14**]             ...\n",
       "2  2018-2_133235  Admission Date:  [**2119-4-6**]              D...\n",
       "3  2018-2_115391  Admission Date:  [**2165-5-4**]              D...\n",
       "4  2018-2_109698  Name:  [**Known lastname 447**],[**Known first..."
      ]
     },
     "execution_count": 17,
     "metadata": {},
     "output_type": "execute_result"
    }
   ],
   "source": [
    "df_rapports.head()"
   ]
  },
  {
   "attachments": {},
   "cell_type": "markdown",
   "metadata": {},
   "source": [
    "# Preprocessing"
   ]
  },
  {
   "cell_type": "code",
   "execution_count": 2,
   "metadata": {},
   "outputs": [],
   "source": [
    "from preprocessing import removeDuplicateReports\n",
    "from preprocessing import removeMultipleSpaces"
   ]
  },
  {
   "attachments": {},
   "cell_type": "markdown",
   "metadata": {},
   "source": [
    "## Suppression des doublons sur la base du texte sans Espacement ni Ponctuation -> Création d'une base commune"
   ]
  },
  {
   "cell_type": "code",
   "execution_count": 37,
   "metadata": {},
   "outputs": [],
   "source": [
    "finalRapports = removeDuplicateReports(df_rapports, 'id', 'rapport', False)"
   ]
  },
  {
   "cell_type": "code",
   "execution_count": 38,
   "metadata": {},
   "outputs": [
    {
     "data": {
      "text/html": [
       "<div>\n",
       "<style scoped>\n",
       "    .dataframe tbody tr th:only-of-type {\n",
       "        vertical-align: middle;\n",
       "    }\n",
       "\n",
       "    .dataframe tbody tr th {\n",
       "        vertical-align: top;\n",
       "    }\n",
       "\n",
       "    .dataframe thead th {\n",
       "        text-align: right;\n",
       "    }\n",
       "</style>\n",
       "<table border=\"1\" class=\"dataframe\">\n",
       "  <thead>\n",
       "    <tr style=\"text-align: right;\">\n",
       "      <th></th>\n",
       "      <th>id</th>\n",
       "      <th>rapport</th>\n",
       "    </tr>\n",
       "  </thead>\n",
       "  <tbody>\n",
       "    <tr>\n",
       "      <th>0</th>\n",
       "      <td>2018-2_122365</td>\n",
       "      <td>Admission Date:  [**2185-5-11**]              ...</td>\n",
       "    </tr>\n",
       "    <tr>\n",
       "      <th>1</th>\n",
       "      <td>2018-2_118491</td>\n",
       "      <td>Admission Date:  [**2106-5-27**]              ...</td>\n",
       "    </tr>\n",
       "    <tr>\n",
       "      <th>2</th>\n",
       "      <td>2018-2_139825</td>\n",
       "      <td>Name:  [**Known lastname **], [**Known firstna...</td>\n",
       "    </tr>\n",
       "    <tr>\n",
       "      <th>3</th>\n",
       "      <td>2018-2_150097</td>\n",
       "      <td>Admission Date:  [**2148-9-19**]              ...</td>\n",
       "    </tr>\n",
       "    <tr>\n",
       "      <th>4</th>\n",
       "      <td>2018-2_164726</td>\n",
       "      <td>Admission Date:  [**2181-7-27**]              ...</td>\n",
       "    </tr>\n",
       "    <tr>\n",
       "      <th>...</th>\n",
       "      <td>...</td>\n",
       "      <td>...</td>\n",
       "    </tr>\n",
       "    <tr>\n",
       "      <th>7567</th>\n",
       "      <td>2006_394</td>\n",
       "      <td>\\n022179622 VH\\n9181256\\n806767\\n873252\\n12/30...</td>\n",
       "    </tr>\n",
       "    <tr>\n",
       "      <th>7569</th>\n",
       "      <td>2006_186</td>\n",
       "      <td>\\n574929904 PUMC\\n6918053\\n206951\\n002765\\n2/5...</td>\n",
       "    </tr>\n",
       "    <tr>\n",
       "      <th>7571</th>\n",
       "      <td>2006_184</td>\n",
       "      <td>\\n011377688 PUMC\\n2456255\\n677328\\n096242\\n5/2...</td>\n",
       "    </tr>\n",
       "    <tr>\n",
       "      <th>7575</th>\n",
       "      <td>2006_258</td>\n",
       "      <td>\\n134182590 WGH\\n8903758\\n644454\\n7494557\\n2/8...</td>\n",
       "    </tr>\n",
       "    <tr>\n",
       "      <th>7576</th>\n",
       "      <td>2006_156</td>\n",
       "      <td>\\n084526097 PUMC\\n1653177\\n248902\\n0864372\\n5/...</td>\n",
       "    </tr>\n",
       "  </tbody>\n",
       "</table>\n",
       "<p>6906 rows × 2 columns</p>\n",
       "</div>"
      ],
      "text/plain": [
       "                 id                                            rapport\n",
       "0     2018-2_122365  Admission Date:  [**2185-5-11**]              ...\n",
       "1     2018-2_118491  Admission Date:  [**2106-5-27**]              ...\n",
       "2     2018-2_139825  Name:  [**Known lastname **], [**Known firstna...\n",
       "3     2018-2_150097  Admission Date:  [**2148-9-19**]              ...\n",
       "4     2018-2_164726  Admission Date:  [**2181-7-27**]              ...\n",
       "...             ...                                                ...\n",
       "7567       2006_394  \\n022179622 VH\\n9181256\\n806767\\n873252\\n12/30...\n",
       "7569       2006_186  \\n574929904 PUMC\\n6918053\\n206951\\n002765\\n2/5...\n",
       "7571       2006_184  \\n011377688 PUMC\\n2456255\\n677328\\n096242\\n5/2...\n",
       "7575       2006_258  \\n134182590 WGH\\n8903758\\n644454\\n7494557\\n2/8...\n",
       "7576       2006_156  \\n084526097 PUMC\\n1653177\\n248902\\n0864372\\n5/...\n",
       "\n",
       "[6906 rows x 2 columns]"
      ]
     },
     "execution_count": 38,
     "metadata": {},
     "output_type": "execute_result"
    }
   ],
   "source": [
    "finalRapports"
   ]
  },
  {
   "cell_type": "code",
   "execution_count": 39,
   "metadata": {},
   "outputs": [],
   "source": [
    "finalRapports.to_csv(\"data_scrapped/0_base_rapports.csv\", index=False, sep=\";\")"
   ]
  },
  {
   "attachments": {},
   "cell_type": "markdown",
   "metadata": {},
   "source": [
    "## Suppression des espaces multiples et tabulations sur la base de données commune"
   ]
  },
  {
   "cell_type": "code",
   "execution_count": 40,
   "metadata": {},
   "outputs": [],
   "source": [
    "reports_data = pd.read_csv('data_scrapped/0_base_rapports.csv', sep=\";\")"
   ]
  },
  {
   "cell_type": "code",
   "execution_count": 41,
   "metadata": {},
   "outputs": [],
   "source": [
    "for k in range(len(list(reports_data['rapport']))):\n",
    "    reports_data['rapport'][k] = removeMultipleSpaces(reports_data['rapport'][k], replace=' ')"
   ]
  },
  {
   "cell_type": "code",
   "execution_count": 42,
   "metadata": {},
   "outputs": [],
   "source": [
    "reports_data.to_csv(\"data_scrapped/1_base_rapports_cleanSpacing.csv\", index=False, sep=\";\")"
   ]
  },
  {
   "cell_type": "code",
   "execution_count": null,
   "metadata": {},
   "outputs": [],
   "source": []
  },
  {
   "attachments": {},
   "cell_type": "markdown",
   "metadata": {},
   "source": [
    "## Création d'un corpus"
   ]
  },
  {
   "cell_type": "code",
   "execution_count": 4,
   "metadata": {},
   "outputs": [],
   "source": [
    "reports_data = pd.read_csv('data_scrapped/1_base_rapports_cleanSpacing.csv', sep=\";\")"
   ]
  },
  {
   "cell_type": "code",
   "execution_count": 5,
   "metadata": {},
   "outputs": [
    {
     "data": {
      "text/html": [
       "<div>\n",
       "<style scoped>\n",
       "    .dataframe tbody tr th:only-of-type {\n",
       "        vertical-align: middle;\n",
       "    }\n",
       "\n",
       "    .dataframe tbody tr th {\n",
       "        vertical-align: top;\n",
       "    }\n",
       "\n",
       "    .dataframe thead th {\n",
       "        text-align: right;\n",
       "    }\n",
       "</style>\n",
       "<table border=\"1\" class=\"dataframe\">\n",
       "  <thead>\n",
       "    <tr style=\"text-align: right;\">\n",
       "      <th></th>\n",
       "      <th>id</th>\n",
       "      <th>rapport</th>\n",
       "    </tr>\n",
       "  </thead>\n",
       "  <tbody>\n",
       "    <tr>\n",
       "      <th>0</th>\n",
       "      <td>2018-2_122365</td>\n",
       "      <td>admission date: [**2185-5-11**] discharge date...</td>\n",
       "    </tr>\n",
       "    <tr>\n",
       "      <th>1</th>\n",
       "      <td>2018-2_118491</td>\n",
       "      <td>admission date: [**2106-5-27**] discharge date...</td>\n",
       "    </tr>\n",
       "    <tr>\n",
       "      <th>2</th>\n",
       "      <td>2018-2_139825</td>\n",
       "      <td>name: [**known lastname **], [**known firstnam...</td>\n",
       "    </tr>\n",
       "    <tr>\n",
       "      <th>3</th>\n",
       "      <td>2018-2_150097</td>\n",
       "      <td>admission date: [**2148-9-19**] discharge date...</td>\n",
       "    </tr>\n",
       "    <tr>\n",
       "      <th>4</th>\n",
       "      <td>2018-2_164726</td>\n",
       "      <td>admission date: [**2181-7-27**] discharge date...</td>\n",
       "    </tr>\n",
       "  </tbody>\n",
       "</table>\n",
       "</div>"
      ],
      "text/plain": [
       "              id                                            rapport\n",
       "0  2018-2_122365  admission date: [**2185-5-11**] discharge date...\n",
       "1  2018-2_118491  admission date: [**2106-5-27**] discharge date...\n",
       "2  2018-2_139825  name: [**known lastname **], [**known firstnam...\n",
       "3  2018-2_150097  admission date: [**2148-9-19**] discharge date...\n",
       "4  2018-2_164726  admission date: [**2181-7-27**] discharge date..."
      ]
     },
     "execution_count": 5,
     "metadata": {},
     "output_type": "execute_result"
    }
   ],
   "source": [
    "reports_data.head()"
   ]
  },
  {
   "cell_type": "code",
   "execution_count": 6,
   "metadata": {},
   "outputs": [],
   "source": [
    "def clean_document(document, stop_words):\n",
    "    doc = nlp(document.lower())\n",
    "    cleaned_doc = [token.lemma_ for token in doc if token.text not in stop_words]\n",
    "    return \" \".join(cleaned_doc)"
   ]
  },
  {
   "cell_type": "code",
   "execution_count": 10,
   "metadata": {},
   "outputs": [],
   "source": [
    "def getVocabFromCorpus(documents):\n",
    "    return list(set([word for sent in documents for word in sent.split(\" \")]))"
   ]
  },
  {
   "cell_type": "code",
   "execution_count": null,
   "metadata": {},
   "outputs": [],
   "source": [
    "#temp = [word for i in reports_data[\"rapport\"].str.split().values.tolist() for word in i]\n",
    "#temp2 =  set([word for word in temp if (word not in punct)])"
   ]
  },
  {
   "cell_type": "code",
   "execution_count": 17,
   "metadata": {},
   "outputs": [],
   "source": [
    "stop_words = list(nlp.Defaults.stop_words)\n",
    "punct = [e for e in string.punctuation if e != '-' and e != '/']\n",
    "stp_punct = set(stop_words + punct)"
   ]
  },
  {
   "cell_type": "code",
   "execution_count": 8,
   "metadata": {},
   "outputs": [],
   "source": [
    "corpus = [clean_document(doc, stp_punct) for doc in reports_data[\"rapport\"].tolist()]"
   ]
  },
  {
   "cell_type": "code",
   "execution_count": null,
   "metadata": {},
   "outputs": [],
   "source": [
    "corpus"
   ]
  },
  {
   "cell_type": "code",
   "execution_count": 10,
   "metadata": {},
   "outputs": [],
   "source": [
    "dict_corpus = {'id': reports_data['id'].tolist(), 'rapport': corpus}\n",
    "df_corpus = pd.DataFrame(dict_corpus)"
   ]
  },
  {
   "cell_type": "code",
   "execution_count": 11,
   "metadata": {},
   "outputs": [
    {
     "data": {
      "text/html": [
       "<div>\n",
       "<style scoped>\n",
       "    .dataframe tbody tr th:only-of-type {\n",
       "        vertical-align: middle;\n",
       "    }\n",
       "\n",
       "    .dataframe tbody tr th {\n",
       "        vertical-align: top;\n",
       "    }\n",
       "\n",
       "    .dataframe thead th {\n",
       "        text-align: right;\n",
       "    }\n",
       "</style>\n",
       "<table border=\"1\" class=\"dataframe\">\n",
       "  <thead>\n",
       "    <tr style=\"text-align: right;\">\n",
       "      <th></th>\n",
       "      <th>id</th>\n",
       "      <th>rapport</th>\n",
       "    </tr>\n",
       "  </thead>\n",
       "  <tbody>\n",
       "    <tr>\n",
       "      <th>0</th>\n",
       "      <td>2018-2_122365</td>\n",
       "      <td>admission date 2185 5 11 discharge date 2185 5...</td>\n",
       "    </tr>\n",
       "    <tr>\n",
       "      <th>1</th>\n",
       "      <td>2018-2_118491</td>\n",
       "      <td>admission date 2106 5 27 discharge date 2106 6...</td>\n",
       "    </tr>\n",
       "    <tr>\n",
       "      <th>2</th>\n",
       "      <td>2018-2_139825</td>\n",
       "      <td>know lastname know firstname unit numeric iden...</td>\n",
       "    </tr>\n",
       "    <tr>\n",
       "      <th>3</th>\n",
       "      <td>2018-2_150097</td>\n",
       "      <td>admission date 2148 9 19 discharge date 2148 1...</td>\n",
       "    </tr>\n",
       "    <tr>\n",
       "      <th>4</th>\n",
       "      <td>2018-2_164726</td>\n",
       "      <td>admission date 2181 7 27 discharge date 2181 8...</td>\n",
       "    </tr>\n",
       "  </tbody>\n",
       "</table>\n",
       "</div>"
      ],
      "text/plain": [
       "              id                                            rapport\n",
       "0  2018-2_122365  admission date 2185 5 11 discharge date 2185 5...\n",
       "1  2018-2_118491  admission date 2106 5 27 discharge date 2106 6...\n",
       "2  2018-2_139825  know lastname know firstname unit numeric iden...\n",
       "3  2018-2_150097  admission date 2148 9 19 discharge date 2148 1...\n",
       "4  2018-2_164726  admission date 2181 7 27 discharge date 2181 8..."
      ]
     },
     "execution_count": 11,
     "metadata": {},
     "output_type": "execute_result"
    }
   ],
   "source": [
    "df_corpus.head()"
   ]
  },
  {
   "cell_type": "code",
   "execution_count": 12,
   "metadata": {},
   "outputs": [],
   "source": [
    "df_corpus.to_csv(\"data_scrapped/2-1_cleaned_corpus_rapports.csv\", index=False, sep=\";\")"
   ]
  },
  {
   "attachments": {},
   "cell_type": "markdown",
   "metadata": {},
   "source": [
    "# Exploration"
   ]
  },
  {
   "attachments": {},
   "cell_type": "markdown",
   "metadata": {},
   "source": [
    "#### On vérifie qu'il n'y a pas de chaines entremêlées dans les id (on check la longueur) :"
   ]
  },
  {
   "cell_type": "code",
   "execution_count": 7,
   "metadata": {},
   "outputs": [],
   "source": [
    "df_corpus = pd.read_csv('data_scrapped/2-1_cleaned_corpus_rapports.csv', sep=\";\")"
   ]
  },
  {
   "cell_type": "code",
   "execution_count": 8,
   "metadata": {},
   "outputs": [
    {
     "data": {
      "text/html": [
       "<div>\n",
       "<style scoped>\n",
       "    .dataframe tbody tr th:only-of-type {\n",
       "        vertical-align: middle;\n",
       "    }\n",
       "\n",
       "    .dataframe tbody tr th {\n",
       "        vertical-align: top;\n",
       "    }\n",
       "\n",
       "    .dataframe thead th {\n",
       "        text-align: right;\n",
       "    }\n",
       "</style>\n",
       "<table border=\"1\" class=\"dataframe\">\n",
       "  <thead>\n",
       "    <tr style=\"text-align: right;\">\n",
       "      <th></th>\n",
       "      <th>id</th>\n",
       "      <th>rapport</th>\n",
       "    </tr>\n",
       "  </thead>\n",
       "  <tbody>\n",
       "    <tr>\n",
       "      <th>0</th>\n",
       "      <td>2018-2_122365</td>\n",
       "      <td>admission date 2185 5 11 discharge date 2185 5...</td>\n",
       "    </tr>\n",
       "    <tr>\n",
       "      <th>1</th>\n",
       "      <td>2018-2_118491</td>\n",
       "      <td>admission date 2106 5 27 discharge date 2106 6...</td>\n",
       "    </tr>\n",
       "    <tr>\n",
       "      <th>2</th>\n",
       "      <td>2018-2_139825</td>\n",
       "      <td>know lastname know firstname unit numeric iden...</td>\n",
       "    </tr>\n",
       "    <tr>\n",
       "      <th>3</th>\n",
       "      <td>2018-2_150097</td>\n",
       "      <td>admission date 2148 9 19 discharge date 2148 1...</td>\n",
       "    </tr>\n",
       "    <tr>\n",
       "      <th>4</th>\n",
       "      <td>2018-2_164726</td>\n",
       "      <td>admission date 2181 7 27 discharge date 2181 8...</td>\n",
       "    </tr>\n",
       "  </tbody>\n",
       "</table>\n",
       "</div>"
      ],
      "text/plain": [
       "              id                                            rapport\n",
       "0  2018-2_122365  admission date 2185 5 11 discharge date 2185 5...\n",
       "1  2018-2_118491  admission date 2106 5 27 discharge date 2106 6...\n",
       "2  2018-2_139825  know lastname know firstname unit numeric iden...\n",
       "3  2018-2_150097  admission date 2148 9 19 discharge date 2148 1...\n",
       "4  2018-2_164726  admission date 2181 7 27 discharge date 2181 8..."
      ]
     },
     "execution_count": 8,
     "metadata": {},
     "output_type": "execute_result"
    }
   ],
   "source": [
    "df_corpus.head()"
   ]
  },
  {
   "cell_type": "code",
   "execution_count": 22,
   "metadata": {},
   "outputs": [],
   "source": [
    "r = list(df_corpus['id'])"
   ]
  },
  {
   "cell_type": "code",
   "execution_count": 23,
   "metadata": {},
   "outputs": [
    {
     "data": {
      "text/plain": [
       "['2010_305757070_ELMVH',\n",
       " '2010_522011500_ELMVH',\n",
       " '2010_931376689_ELMVH',\n",
       " '2010_664046245_ELMVH',\n",
       " '2010_748991871_ELMVH',\n",
       " '2010_830001606_ELMVH',\n",
       " '2010_819380356_ELMVH',\n",
       " '2010_517502848_ELMVH',\n",
       " '2010_020916369_ELMVH',\n",
       " '2010_428878172_ELMVH',\n",
       " '2010_288506174_ELMVH',\n",
       " '2010_263283549_ELMVH']"
      ]
     },
     "execution_count": 23,
     "metadata": {},
     "output_type": "execute_result"
    }
   ],
   "source": [
    "# La chaine la plus longue est de taille de 19, tout est OK\n",
    "[e for e in r if len(e)>19]"
   ]
  },
  {
   "attachments": {},
   "cell_type": "markdown",
   "metadata": {},
   "source": [
    "## Analyse des mots"
   ]
  },
  {
   "cell_type": "code",
   "execution_count": 11,
   "metadata": {},
   "outputs": [],
   "source": [
    "vocab = getVocabFromCorpus(df_corpus['rapport'].tolist())"
   ]
  },
  {
   "cell_type": "code",
   "execution_count": 12,
   "metadata": {},
   "outputs": [
    {
     "data": {
      "text/plain": [
       "113535"
      ]
     },
     "execution_count": 12,
     "metadata": {},
     "output_type": "execute_result"
    }
   ],
   "source": [
    "len(vocab)"
   ]
  },
  {
   "attachments": {},
   "cell_type": "markdown",
   "metadata": {},
   "source": [
    "#### Nombre de mots dans chaque compte rendu"
   ]
  },
  {
   "cell_type": "code",
   "execution_count": 25,
   "metadata": {},
   "outputs": [],
   "source": [
    "df_corpus['longueur'] = df_corpus['rapport'].map(lambda x: len(x.split()))"
   ]
  },
  {
   "cell_type": "code",
   "execution_count": 26,
   "metadata": {},
   "outputs": [
    {
     "data": {
      "text/plain": [
       "count    6906.000000\n",
       "mean      620.596583\n",
       "std       427.855582\n",
       "min         9.000000\n",
       "25%       306.000000\n",
       "50%       543.000000\n",
       "75%       816.000000\n",
       "max      4844.000000\n",
       "Name: longueur, dtype: float64"
      ]
     },
     "execution_count": 26,
     "metadata": {},
     "output_type": "execute_result"
    }
   ],
   "source": [
    "df_corpus['longueur'].describe()"
   ]
  },
  {
   "attachments": {},
   "cell_type": "markdown",
   "metadata": {},
   "source": [
    "La longueur moyenne d'un rapport est de 620 mots. "
   ]
  },
  {
   "attachments": {},
   "cell_type": "markdown",
   "metadata": {},
   "source": [
    "#### Longueur moyenne des mots du vocabulaire"
   ]
  },
  {
   "cell_type": "code",
   "execution_count": 38,
   "metadata": {},
   "outputs": [],
   "source": [
    "avg_word_len = np.mean([len(w) for w in vocab])"
   ]
  },
  {
   "cell_type": "code",
   "execution_count": 39,
   "metadata": {},
   "outputs": [
    {
     "data": {
      "text/plain": [
       "7.291865944422425"
      ]
     },
     "execution_count": 39,
     "metadata": {},
     "output_type": "execute_result"
    }
   ],
   "source": [
    "avg_word_len"
   ]
  },
  {
   "attachments": {},
   "cell_type": "markdown",
   "metadata": {},
   "source": [
    "La longueur moyenne des mots du vocabulaire anglais est de 4.7 caractères. Les mots de jeu de données sont en moyenne plus longs, ce qui logique étant donné qu'il contient des termes médicaux qui sont souvent assez longs. De plus, il contient quelques mots spéciaux comme des dates qui tendent à influer sur la moyenne."
   ]
  },
  {
   "attachments": {},
   "cell_type": "markdown",
   "metadata": {},
   "source": [
    "#### Fréquence de mots dans le corpus"
   ]
  },
  {
   "cell_type": "code",
   "execution_count": 40,
   "metadata": {},
   "outputs": [],
   "source": [
    "most_common = Counter([word for sent in df_corpus['rapport'] for word in sent.split(\" \")]).most_common(10)"
   ]
  },
  {
   "cell_type": "code",
   "execution_count": 45,
   "metadata": {},
   "outputs": [
    {
     "data": {
      "text/plain": [
       "<AxesSubplot: >"
      ]
     },
     "execution_count": 45,
     "metadata": {},
     "output_type": "execute_result"
    },
    {
     "data": {
      "image/png": "[encoded data removed]",
      "text/plain": [
       "<Figure size 640x480 with 1 Axes>"
      ]
     },
     "metadata": {},
     "output_type": "display_data"
    }
   ],
   "source": [
    "words, frequency = [], []\n",
    "for word, count in most_common:\n",
    "    words.append(word)\n",
    "    frequency.append(count)\n",
    "    \n",
    "sns.barplot(x = frequency, y = words)"
   ]
  },
  {
   "attachments": {},
   "cell_type": "markdown",
   "metadata": {},
   "source": [
    "## Analyse des n-grams"
   ]
  },
  {
   "attachments": {},
   "cell_type": "markdown",
   "metadata": {},
   "source": [
    "### Bi-grams"
   ]
  },
  {
   "cell_type": "code",
   "execution_count": 13,
   "metadata": {},
   "outputs": [],
   "source": [
    "BiVectorizer = CountVectorizer(ngram_range = (2, 2))\n",
    "BiCorpus = BiVectorizer.fit_transform(df_corpus['rapport'].tolist())"
   ]
  },
  {
   "cell_type": "code",
   "execution_count": null,
   "metadata": {},
   "outputs": [],
   "source": [
    "BiVectorizer.vocabulary_"
   ]
  },
  {
   "cell_type": "code",
   "execution_count": 15,
   "metadata": {},
   "outputs": [],
   "source": [
    "# Obtenir les indices des éléments non nuls dans la matrice\n",
    "non_zero_indices = BiCorpus.nonzero()"
   ]
  },
  {
   "cell_type": "code",
   "execution_count": 16,
   "metadata": {},
   "outputs": [
    {
     "data": {
      "text/plain": [
       "3558197"
      ]
     },
     "execution_count": 16,
     "metadata": {},
     "output_type": "execute_result"
    }
   ],
   "source": [
    "len(non_zero_indices[1])"
   ]
  },
  {
   "cell_type": "code",
   "execution_count": 38,
   "metadata": {},
   "outputs": [
    {
     "data": {
      "text/plain": [
       "(array([   0,    0,    0, ..., 6905, 6905, 6905], dtype=int32),\n",
       " array([125204, 267361,  50871, ..., 565700,   2206, 467552], dtype=int32))"
      ]
     },
     "execution_count": 38,
     "metadata": {},
     "output_type": "execute_result"
    }
   ],
   "source": [
    "non_zero_indices"
   ]
  },
  {
   "cell_type": "code",
   "execution_count": 42,
   "metadata": {},
   "outputs": [
    {
     "data": {
      "text/plain": [
       "848479"
      ]
     },
     "execution_count": 42,
     "metadata": {},
     "output_type": "execute_result"
    }
   ],
   "source": [
    "len(BiCorpus.getrow(6905).toarray().flatten()[100000])"
   ]
  },
  {
   "cell_type": "code",
   "execution_count": 21,
   "metadata": {},
   "outputs": [],
   "source": [
    "# A revoir pour corriger les fréquences récupérées.\n",
    "countBigrams = {}\n",
    "i=0\n",
    "for doc, word in zip(non_zero_indices[0].tolist(), non_zero_indices[1].tolist()):\n",
    "    if i<5:\n",
    "        # On vérifie si le mot est déjà dans le dictionnaire de fréquences :\n",
    "        if list(BiVectorizer.vocabulary_.keys())[non_zero_indices[1][word]] in countBigrams:\n",
    "            countBigrams[list(BiVectorizer.vocabulary_.keys())[non_zero_indices[1][word]]] += BiCorpus.getrow(non_zero_indices[0][doc]).toarray().flatten()[non_zero_indices[1][word]]\n",
    "        else:\n",
    "            # Si ce n'est pas le cas, on lui affecte juste la valeur contenue dans la matrice BiCorpus à la cellule correspondante.\n",
    "            countBigrams[list(BiVectorizer.vocabulary_.keys())[non_zero_indices[1][word]]] = BiCorpus.getrow(non_zero_indices[0][doc]).toarray().flatten()[non_zero_indices[1][word]]\n",
    "    else:\n",
    "        break\n",
    "    i+=1"
   ]
  },
  {
   "cell_type": "code",
   "execution_count": 22,
   "metadata": {},
   "outputs": [
    {
     "data": {
      "text/plain": [
       "{'markedly diminished': 0,\n",
       " 'health cycle': 0,\n",
       " 'contin try': 0,\n",
       " 'region cystic': 0,\n",
       " 'occasion sit': 0}"
      ]
     },
     "execution_count": 22,
     "metadata": {},
     "output_type": "execute_result"
    }
   ],
   "source": [
    "countBigrams"
   ]
  },
  {
   "cell_type": "code",
   "execution_count": null,
   "metadata": {},
   "outputs": [],
   "source": [
    "# Génère une erreur du fait du remplissage de la mémoire RAM\n",
    "count_values = BiCorpus.toarray().sum(axis=0)"
   ]
  }
 ],
 "metadata": {
  "kernelspec": {
   "display_name": "venvEHR",
   "language": "python",
   "name": "venvehr"
  },
  "language_info": {
   "codemirror_mode": {
    "name": "ipython",
    "version": 3
   },
   "file_extension": ".py",
   "mimetype": "text/x-python",
   "name": "python",
   "nbconvert_exporter": "python",
   "pygments_lexer": "ipython3",
   "version": "3.11.0"
  },
  "orig_nbformat": 4,
  "vscode": {
   "interpreter": {
    "hash": "03156c82a2746d9ba00e863022798778c83b29dcc5d1e558b7bb066218bca19a"
   }
  }
 },
 "nbformat": 4,
 "nbformat_minor": 2
}
