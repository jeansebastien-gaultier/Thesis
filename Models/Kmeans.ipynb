{
 "cells": [
  {
   "cell_type": "code",
   "execution_count": 1,
   "metadata": {},
   "outputs": [],
   "source": [
    "from sklearn.feature_extraction.text import TfidfVectorizer\n",
    "from sklearn.cluster import KMeans\n",
    "from sklearn.metrics import adjusted_rand_score\n",
    "import pandas as pd\n",
    "import csv"
   ]
  },
  {
   "cell_type": "code",
   "execution_count": 2,
   "metadata": {},
   "outputs": [],
   "source": [
    "file = 'Data/2-1_cleaned_corpus_rapports.csv'\n",
    "corpus = pd.read_csv(file, sep=\";\")\n",
    "documents = corpus['rapport'].tolist()"
   ]
  },
  {
   "cell_type": "code",
   "execution_count": 3,
   "metadata": {},
   "outputs": [
    {
     "name": "stdout",
     "output_type": "stream",
     "text": [
      "Top terms per cluster:\n",
      "Cluster 0:\n",
      " discharge\n",
      " 00\n",
      " unsigned\n",
      " preliminary\n",
      " summary\n",
      " delivery\n",
      " postpartum\n",
      " infant\n",
      " patient\n",
      " pm\n",
      "Cluster 1:\n",
      " patient\n",
      " mg\n",
      " day\n",
      " discharge\n",
      " history\n",
      " admission\n",
      " daily\n",
      " blood\n",
      " right\n",
      " 10\n",
      "Cluster 2:\n",
      " po\n",
      " override\n",
      " mg\n",
      " interaction\n",
      " qd\n",
      " order\n",
      " discharge\n",
      " amp\n",
      " potentially\n",
      " pt\n",
      "Cluster 3:\n",
      " patient\n",
      " mg\n",
      " artery\n",
      " coronary\n",
      " history\n",
      " day\n",
      " discharge\n",
      " chest\n",
      " catheterization\n",
      " cardiac\n",
      "Cluster 4:\n",
      " mg\n",
      " po\n",
      " pt\n",
      " qd\n",
      " history\n",
      " 10\n",
      " daily\n",
      " patient\n",
      " pain\n",
      " bid\n",
      "Cluster 5:\n",
      " po\n",
      " mg\n",
      " tablet\n",
      " qd\n",
      " bid\n",
      " pain\n",
      " problem\n",
      " visit\n",
      " 20\n",
      " 10\n",
      "Cluster 6:\n",
      " dl\n",
      " mmol\n",
      " plasma\n",
      " mg\n",
      " cmm\n",
      " th\n",
      " stat\n",
      " absolute\n",
      " po\n",
      " 11\n",
      "Cluster 7:\n",
      " patient\n",
      " history\n",
      " pain\n",
      " right\n",
      " mg\n",
      " discharge\n",
      " review\n",
      " normal\n",
      " day\n",
      " blood\n",
      "Cluster 8:\n",
      " tablet\n",
      " sig\n",
      " mg\n",
      " po\n",
      " daily\n",
      " day\n",
      " disp\n",
      " discharge\n",
      " capsule\n",
      " blood\n",
      "\n",
      "\n",
      "Prediction\n"
     ]
    }
   ],
   "source": [
    "vectorizer = TfidfVectorizer(stop_words='english')\n",
    "X = vectorizer.fit_transform(documents)\n",
    "\n",
    "true_k = 9\n",
    "model = KMeans(n_clusters=true_k, init='k-means++', max_iter=100, n_init=1)\n",
    "model.fit(X)\n",
    "\n",
    "print(\"Top terms per cluster:\")\n",
    "order_centroids = model.cluster_centers_.argsort()[:, ::-1]\n",
    "terms = vectorizer.get_feature_names_out()\n",
    "for i in range(true_k):\n",
    "    print(\"Cluster %d:\" % i),\n",
    "    for ind in order_centroids[i, :10]:\n",
    "        print(' %s' % terms[ind]),\n",
    "    print\n",
    "\n",
    "print(\"\\n\")\n",
    "print(\"Prediction\")"
   ]
  },
  {
   "cell_type": "code",
   "execution_count": 8,
   "metadata": {},
   "outputs": [
    {
     "name": "stdout",
     "output_type": "stream",
     "text": [
      "[5]\n",
      "[1]\n"
     ]
    }
   ],
   "source": [
    "Y = vectorizer.transform([\"labor need surgeon for infant\"])\n",
    "prediction = model.predict(Y)\n",
    "print(prediction)\n",
    "\n",
    "Y = vectorizer.transform([\"heart sickness pain attack\"])\n",
    "prediction = model.predict(Y)\n",
    "print(prediction)"
   ]
  },
  {
   "cell_type": "code",
   "execution_count": null,
   "metadata": {},
   "outputs": [],
   "source": []
  }
 ],
 "metadata": {
  "kernelspec": {
   "display_name": "SogLab_venv",
   "language": "python",
   "name": "python3"
  },
  "language_info": {
   "codemirror_mode": {
    "name": "ipython",
    "version": 3
   },
   "file_extension": ".py",
   "mimetype": "text/x-python",
   "name": "python",
   "nbconvert_exporter": "python",
   "pygments_lexer": "ipython3",
   "version": "3.8.11"
  },
  "orig_nbformat": 4,
  "vscode": {
   "interpreter": {
    "hash": "e094d850592d944b38bb8613998c40358239c031dd4b8b0f43e97425e6f0245d"
   }
  }
 },
 "nbformat": 4,
 "nbformat_minor": 2
}
