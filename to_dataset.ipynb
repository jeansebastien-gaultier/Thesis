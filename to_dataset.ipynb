{
 "cells": [
  {
   "cell_type": "markdown",
   "id": "5166ebbc-4ea4-45ac-8d3f-8180b95ff6d8",
   "metadata": {},
   "source": [
    "# Transform the Downloaded DATASET\n",
    "\n",
    "Take the dataset from the N2C2 Challenges and transform them into a coherent dataset"
   ]
  },
  {
   "cell_type": "code",
   "execution_count": 70,
   "id": "4b7cb257-6a64-4bb8-9f05-40206b1250bb",
   "metadata": {},
   "outputs": [],
   "source": [
    "import os\n",
    "import sys\n",
    "import pandas as pd"
   ]
  },
  {
   "cell_type": "code",
   "execution_count": 71,
   "id": "79a57a9d-d93a-41b4-bf41-4267ec9c37be",
   "metadata": {},
   "outputs": [],
   "source": [
    "root = 'DataSet (Medecine)/2010 - Relations'\n",
    "ls = []\n",
    "dict_of_str = {}\n",
    "dup = []"
   ]
  },
  {
   "cell_type": "code",
   "execution_count": 72,
   "id": "b078ce56-abfd-463c-9b1a-d0ff717afac4",
   "metadata": {},
   "outputs": [],
   "source": [
    "#    if file.endwith(.txt):\n",
    "def txt_to_dataset(file) -> list:\n",
    "    '''\n",
    "    INPUT:\n",
    "    file: a file that needs to be read\n",
    "    \n",
    "    OUTPUT:\n",
    "    lines: the string of the EHR\n",
    "    \n",
    "    Return the string version of the EHR from the .txt file\n",
    "    '''\n",
    "    \n",
    "    with open(file, encoding='utf-8-sig') as f:\n",
    "        lines = f.readlines()\n",
    "    lines = ' '.join(lines)\n",
    "    lines = lines.replace('\\n', '')\n",
    "    return lines"
   ]
  },
  {
   "cell_type": "code",
   "execution_count": 73,
   "id": "78cec073-1bb4-4d1b-a60f-57ad21cc902a",
   "metadata": {},
   "outputs": [],
   "source": [
    "for path, subdirs, files in os.walk(root):\n",
    "    for name in files:\n",
    "        file = os.path.join(path, name)\n",
    "        if file.endswith('.txt'):\n",
    "            ls.append(file)"
   ]
  },
  {
   "cell_type": "code",
   "execution_count": 74,
   "id": "1296b35b-1077-425b-bfdd-ddbcc8cc6740",
   "metadata": {},
   "outputs": [],
   "source": [
    "for file in ls:\n",
    "    dup.append(txt_to_dataset(file))\n",
    "    dict_of_str[file] = txt_to_dataset(file)"
   ]
  },
  {
   "cell_type": "code",
   "execution_count": 76,
   "id": "95bb962d-981f-4d6f-9e68-4a88d1f77afa",
   "metadata": {},
   "outputs": [
    {
     "data": {
      "text/plain": [
       "(692, 693)"
      ]
     },
     "execution_count": 76,
     "metadata": {},
     "output_type": "execute_result"
    }
   ],
   "source": [
    "len(set(dup)), len(dict_of_str)"
   ]
  },
  {
   "cell_type": "code",
   "execution_count": 66,
   "id": "d9b7ee4d-f5d2-4b9f-8efa-68300c24ccd8",
   "metadata": {},
   "outputs": [
    {
     "data": {
      "text/html": [
       "<div>\n",
       "<style scoped>\n",
       "    .dataframe tbody tr th:only-of-type {\n",
       "        vertical-align: middle;\n",
       "    }\n",
       "\n",
       "    .dataframe tbody tr th {\n",
       "        vertical-align: top;\n",
       "    }\n",
       "\n",
       "    .dataframe thead th {\n",
       "        text-align: right;\n",
       "    }\n",
       "</style>\n",
       "<table border=\"1\" class=\"dataframe\">\n",
       "  <thead>\n",
       "    <tr style=\"text-align: right;\">\n",
       "      <th></th>\n",
       "      <th>0</th>\n",
       "    </tr>\n",
       "  </thead>\n",
       "  <tbody>\n",
       "    <tr>\n",
       "      <th>DataSet (Medecine)/2010 - Relations/concept_assertion_relation_training_data/partners/unannotated/558603822.txt</th>\n",
       "      <td>558603822 GH 38690340 9/16/2004 12:00:00 AM SA...</td>\n",
       "    </tr>\n",
       "    <tr>\n",
       "      <th>DataSet (Medecine)/2010 - Relations/concept_assertion_relation_training_data/partners/unannotated/172897359.txt</th>\n",
       "      <td>172897359 FIH 8244699 319757 99267 7/13/1998 1...</td>\n",
       "    </tr>\n",
       "    <tr>\n",
       "      <th>DataSet (Medecine)/2010 - Relations/concept_assertion_relation_training_data/partners/unannotated/463067067.txt</th>\n",
       "      <td>463067067 FIH 7339944 31403/p8v6 363828 1/6/19...</td>\n",
       "    </tr>\n",
       "    <tr>\n",
       "      <th>DataSet (Medecine)/2010 - Relations/concept_assertion_relation_training_data/partners/unannotated/625739584.txt</th>\n",
       "      <td>625739584 PUOMC 5838116 794008 768876 12/9/200...</td>\n",
       "    </tr>\n",
       "    <tr>\n",
       "      <th>DataSet (Medecine)/2010 - Relations/concept_assertion_relation_training_data/partners/unannotated/305265793_e.txt</th>\n",
       "      <td>305265793_e FIH 2833679 10014/2h81 570010 8/4/...</td>\n",
       "    </tr>\n",
       "    <tr>\n",
       "      <th>...</th>\n",
       "      <td>...</td>\n",
       "    </tr>\n",
       "    <tr>\n",
       "      <th>DataSet (Medecine)/2010 - Relations/test_data/0053.txt</th>\n",
       "      <td>Admission Date : 2014-05-08 Discharge Date : 2...</td>\n",
       "    </tr>\n",
       "    <tr>\n",
       "      <th>DataSet (Medecine)/2010 - Relations/test_data/0437.txt</th>\n",
       "      <td>768768524 PRGH 91287406 057469 6/19/1998 12:00...</td>\n",
       "    </tr>\n",
       "    <tr>\n",
       "      <th>DataSet (Medecine)/2010 - Relations/test_data/0257.txt</th>\n",
       "      <td>648746074 CTMC 84164942 960919 9/7/1992 12:00:...</td>\n",
       "    </tr>\n",
       "    <tr>\n",
       "      <th>DataSet (Medecine)/2010 - Relations/test_data/0282.txt</th>\n",
       "      <td>395715290 PUOMC 2681723 64704/9r71 946667 4/6/...</td>\n",
       "    </tr>\n",
       "    <tr>\n",
       "      <th>DataSet (Medecine)/2010 - Relations/test_data/0149.txt</th>\n",
       "      <td>Admission Date : 2019-03-29 Discharge Date : 2...</td>\n",
       "    </tr>\n",
       "  </tbody>\n",
       "</table>\n",
       "<p>693 rows × 1 columns</p>\n",
       "</div>"
      ],
      "text/plain": [
       "                                                                                                    0\n",
       "DataSet (Medecine)/2010 - Relations/concept_ass...  558603822 GH 38690340 9/16/2004 12:00:00 AM SA...\n",
       "DataSet (Medecine)/2010 - Relations/concept_ass...  172897359 FIH 8244699 319757 99267 7/13/1998 1...\n",
       "DataSet (Medecine)/2010 - Relations/concept_ass...  463067067 FIH 7339944 31403/p8v6 363828 1/6/19...\n",
       "DataSet (Medecine)/2010 - Relations/concept_ass...  625739584 PUOMC 5838116 794008 768876 12/9/200...\n",
       "DataSet (Medecine)/2010 - Relations/concept_ass...  305265793_e FIH 2833679 10014/2h81 570010 8/4/...\n",
       "...                                                                                               ...\n",
       "DataSet (Medecine)/2010 - Relations/test_data/0...  Admission Date : 2014-05-08 Discharge Date : 2...\n",
       "DataSet (Medecine)/2010 - Relations/test_data/0...  768768524 PRGH 91287406 057469 6/19/1998 12:00...\n",
       "DataSet (Medecine)/2010 - Relations/test_data/0...  648746074 CTMC 84164942 960919 9/7/1992 12:00:...\n",
       "DataSet (Medecine)/2010 - Relations/test_data/0...  395715290 PUOMC 2681723 64704/9r71 946667 4/6/...\n",
       "DataSet (Medecine)/2010 - Relations/test_data/0...  Admission Date : 2019-03-29 Discharge Date : 2...\n",
       "\n",
       "[693 rows x 1 columns]"
      ]
     },
     "execution_count": 66,
     "metadata": {},
     "output_type": "execute_result"
    }
   ],
   "source": [
    "pd.DataFrame.from_dict(dict_of_str, orient='index')"
   ]
  },
  {
   "cell_type": "code",
   "execution_count": null,
   "id": "f1e22d34-0787-493d-8aea-a2b6c7d2d7b9",
   "metadata": {},
   "outputs": [],
   "source": []
  }
 ],
 "metadata": {
  "kernelspec": {
   "display_name": "JS_venv_data_science_1",
   "language": "python",
   "name": "js_venv_data_science_1"
  },
  "language_info": {
   "codemirror_mode": {
    "name": "ipython",
    "version": 3
   },
   "file_extension": ".py",
   "mimetype": "text/x-python",
   "name": "python",
   "nbconvert_exporter": "python",
   "pygments_lexer": "ipython3",
   "version": "3.8.11"
  }
 },
 "nbformat": 4,
 "nbformat_minor": 5
}
