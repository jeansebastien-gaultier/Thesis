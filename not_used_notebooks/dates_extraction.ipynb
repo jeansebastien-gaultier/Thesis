{
 "cells": [
  {
   "cell_type": "markdown",
   "id": "f014a0fe-927a-42b3-9f1e-b7f39d0be675",
   "metadata": {},
   "source": [
    "# Extraction of Admission and Discharge Dates\n",
    "\n",
    "Each year the EHR are build a little different, therefore I will go through each of the years one by one and extracting the features that interest me. To start, I will be working on only extracting the dates."
   ]
  },
  {
   "cell_type": "code",
   "execution_count": 7,
   "id": "460c15af-e561-47a3-96b2-0c759357df5f",
   "metadata": {},
   "outputs": [],
   "source": [
    "import functions\n",
    "import os\n",
    "import pandas as pd\n",
    "from xml.dom import minidom\n",
    "import datetime"
   ]
  },
  {
   "cell_type": "markdown",
   "id": "2edfe8dd-f810-4675-af40-f3cc403d2129",
   "metadata": {
    "tags": []
   },
   "source": [
    "## 2006 - COMPLICATED"
   ]
  },
  {
   "cell_type": "markdown",
   "id": "bcaa8308-ae2b-48cf-ab2f-3f4af2ce1623",
   "metadata": {},
   "source": [
    "#### Get DF"
   ]
  },
  {
   "cell_type": "code",
   "execution_count": 8,
   "id": "6aee012e-26aa-4e8e-ad24-c3e6c4e0ae45",
   "metadata": {},
   "outputs": [],
   "source": [
    "root_06 = \"Data/2006\"\n",
    "list_of_txt_06 = functions.search_for_files(root_06, \".xml\")\n",
    "\n",
    "EHR_06 = {}\n",
    "for item in list_of_txt_06:\n",
    "    file = minidom.parse(item)\n",
    "    text = file.getElementsByTagName(\"TEXT\")\n",
    "    ID = file.getElementsByTagName(\"RECORD\")\n",
    "    for txt, idx in zip(text, ID):\n",
    "        ls = []\n",
    "        for element in txt.childNodes:\n",
    "            if type(element).attributes == None:\n",
    "                ls.append(element.data)\n",
    "            else:\n",
    "                ls.append(element.firstChild.data)\n",
    "        EHR_06[f'06_{int(idx.attributes[\"ID\"].value)}'] = \"\".join(ls)\n",
    "        \n",
    "df_06 = pd.DataFrame.from_dict(EHR_06, orient=\"index\").sort_index()\n",
    "#df_06"
   ]
  },
  {
   "cell_type": "markdown",
   "id": "7fde075d-3fb4-463d-ab63-4f592a789007",
   "metadata": {},
   "source": [
    "#### Get features"
   ]
  },
  {
   "cell_type": "code",
   "execution_count": 9,
   "id": "0bc36fed-c476-427a-a3fd-9a25a6ab860e",
   "metadata": {
    "tags": []
   },
   "outputs": [],
   "source": [
    "# Get a dataframe with multiple different features\n",
    "\n",
    "EHR_imp_06 = {}\n",
    "\n",
    "\n",
    "for k, txt in EHR_06.items():\n",
    "    EHR_imp_06[k] = {\n",
    "        \"text\": txt,\n",
    "        \"Admission Date\": None,\n",
    "        \"Discharge Date\": None,\n",
    "    }\n",
    "    if 'Admission Date' in txt:\n",
    "        DD = txt.split('Admission Date')[1].split('\\n')\n",
    "        #print(k, DD[1])\n",
    "        EHR_imp_06[k][\"Admission Date\"] = DD[1].strip()\n",
    "    if 'ADMISSION DATE' in txt:\n",
    "        DD = txt.split('ADMISSION DATE')[1].split('\\n')\n",
    "        #print(k, DD[1])\n",
    "        EHR_imp_06[k][\"Admission Date\"] = DD[1].strip()\n",
    "    if 'Discharge Date' in txt:\n",
    "        DD = txt.split('Discharge Date')[1].split('\\n')\n",
    "        EHR_imp_06[k][\"Discharge Date\"] = DD[1].strip()\n",
    "    if 'DISCHARGE DATE' in txt:\n",
    "        DD = txt.split('DISCHARGE DATE')[1].split('\\n')\n",
    "        EHR_imp_06[k][\"Discharge Date\"] = DD[1].strip()\n",
    "        #EHR_imp_08[k][\"Admission Date\"] = important_info[9].split(\" \")[3]\n",
    "        #EHR_imp_08[k][\"Discharge Date\"] = DD if DD != \"\" else None\n",
    "    \n",
    "df_06_imp = pd.DataFrame.from_dict(EHR_imp_06, orient=\"index\")\n",
    "#df_06_imp"
   ]
  },
  {
   "cell_type": "markdown",
   "id": "616634a3-1de1-4572-a769-1f155bf10a6e",
   "metadata": {},
   "source": [
    "#### Additional statistical info"
   ]
  },
  {
   "cell_type": "code",
   "execution_count": 10,
   "id": "747e08cb-45b1-4ea2-9817-b13eb84a4766",
   "metadata": {},
   "outputs": [],
   "source": [
    "# Extra safety use regular expression check\n",
    "Admin_dt = []\n",
    "Disc_dt = []\n",
    "for date in df_06_imp[\"Admission Date\"]:\n",
    "    try:\n",
    "        a = datetime.datetime.strptime(date, \"%m/%d/%Y\")\n",
    "    except:\n",
    "        try:\n",
    "            a = datetime.datetime.strptime(date, \"%m-%d-%y\")\n",
    "        except:\n",
    "            try:\n",
    "                a = datetime.datetime.strptime(date, \"%m/%d/%Y\")\n",
    "            except:\n",
    "                Admin_dt.append(None)\n",
    "            else:\n",
    "                Admin_dt.append(datetime.date(a.year, a.month, a.day))\n",
    "        else:\n",
    "            Admin_dt.append(datetime.date(a.year, a.month, a.day))\n",
    "    else:\n",
    "        Admin_dt.append(datetime.date(a.year, a.month, a.day))\n",
    "\n",
    "for date in df_06_imp[\"Discharge Date\"]:\n",
    "    try:\n",
    "        a = datetime.datetime.strptime(date, \"%m/%d/%Y\")\n",
    "    except:\n",
    "        try:\n",
    "            a = datetime.datetime.strptime(date, \"%m-%d-%y\")\n",
    "        except:\n",
    "            try:\n",
    "                a = datetime.datetime.strptime(date, \"%m/%d/%Y\")\n",
    "            except:\n",
    "                Disc_dt.append(None)\n",
    "            else:\n",
    "                Disc_dt.append(datetime.date(a.year, a.month, a.day))\n",
    "        else:\n",
    "            Disc_dt.append(datetime.date(a.year, a.month, a.day))\n",
    "    else:\n",
    "        Disc_dt.append(datetime.date(a.year, a.month, a.day))\n",
    "\n",
    "df_06_imp[\"Admission Date\"] = Admin_dt\n",
    "df_06_imp[\"Discharge Date\"] = Disc_dt\n",
    "df_06_imp[\"Time in Hosp\"] = [\n",
    "    dt - at if dt != None and at != None else None for dt, at in zip(Disc_dt, Admin_dt)\n",
    "]"
   ]
  },
  {
   "cell_type": "code",
   "execution_count": 11,
   "id": "bdfbdcbb-94f2-422d-8bab-b8105a921b38",
   "metadata": {},
   "outputs": [
    {
     "name": "stdout",
     "output_type": "stream",
     "text": [
      "The percentage of Admission dates is: 59.14567360350493 and the percentage of Discharge dates is: 57.28368017524644\n"
     ]
    }
   ],
   "source": [
    "date_in_06 = (\n",
    "    (df_06_imp.shape[0] - df_06_imp[\"Admission Date\"].isna().sum())\n",
    "    * 100\n",
    "    / df_06_imp.shape[0]\n",
    ")\n",
    "date_out_06 = (\n",
    "    (df_06_imp.shape[0] - df_06_imp[\"Discharge Date\"].isna().sum())\n",
    "    * 100\n",
    "    / df_06_imp.shape[0]\n",
    ")\n",
    "print(\n",
    "    f\"The percentage of Admission dates is: {date_in_06} and the percentage of Discharge dates is: {date_out_06}\"\n",
    ")"
   ]
  },
  {
   "cell_type": "markdown",
   "id": "bb6d675c-3085-4041-8b92-3ad57e2216b3",
   "metadata": {
    "tags": []
   },
   "source": [
    "## 2008\n",
    "\n",
    "The files are built the same with written: \"Admission Date: %%/%%/%%%%\" for each date"
   ]
  },
  {
   "cell_type": "markdown",
   "id": "9e1fbf0e-9f7f-42ee-a4a5-30923aa51e56",
   "metadata": {},
   "source": [
    "#### Get DF"
   ]
  },
  {
   "cell_type": "code",
   "execution_count": 12,
   "id": "cd9f2f39-92a9-4772-996e-156e901d6564",
   "metadata": {},
   "outputs": [],
   "source": [
    "# Obtain DF for that year (from previous notebook)\n",
    "root_08 = \"Data/2008\"\n",
    "list_of_txt_08 = functions.search_for_files(root_08, \".xml\")\n",
    "\n",
    "EHR_08 = {}\n",
    "\n",
    "for item in list_of_txt_08:\n",
    "    file = minidom.parse(item)\n",
    "    text = file.getElementsByTagName(\"text\")\n",
    "    ID = file.getElementsByTagName(\"doc\")\n",
    "    for txt, idx in zip(text, ID):\n",
    "        # print(idx.attributes['id'].value,)\n",
    "        EHR_08[f\"08_{idx.attributes['id'].value}\"] = txt.firstChild.data\n",
    "\n",
    "df_08 = pd.DataFrame.from_dict(EHR_08, orient=\"index\").sort_index()\n",
    "# df_08"
   ]
  },
  {
   "cell_type": "markdown",
   "id": "46176335-1b10-4c26-b2c4-0e7b7168e41a",
   "metadata": {},
   "source": [
    "#### Obtain additional info"
   ]
  },
  {
   "cell_type": "code",
   "execution_count": 13,
   "id": "34dae12a-92d3-4f74-8b1f-bdc996194bfb",
   "metadata": {},
   "outputs": [],
   "source": [
    "# Get a dataframe with multiple different features\n",
    "\n",
    "EHR_imp_08 = {}\n",
    "\n",
    "for k, txt in EHR_08.items():\n",
    "    EHR_imp_08[k] = {\n",
    "        \"text\": None,\n",
    "        \"ID_1\": None,\n",
    "        \"Hospital\": None,\n",
    "        \"ID_2\": None,\n",
    "        \"blank\": None,\n",
    "        \"ID_3\": None,\n",
    "        \"Date in/out?\": None,\n",
    "        \"Discharge Summary\": None,\n",
    "        \"S/U\": None,\n",
    "        \"DIS\": None,\n",
    "        \"Admission Date\": None,\n",
    "        \"Report Status\": None,\n",
    "        \"Discharge Date\": None,\n",
    "    }\n",
    "    important_info = txt.split(\"\\n\")[1].split(\"|\")\n",
    "    DD = txt.split(\"Discharge Date:\")[1].split(\"\\n\")[0]\n",
    "    if len(important_info) == 10:\n",
    "        EHR_imp_08[k][\"text\"] = txt\n",
    "        EHR_imp_08[k][\"ID_1\"] = important_info[0]\n",
    "        EHR_imp_08[k][\"Hospital\"] = important_info[1]\n",
    "        EHR_imp_08[k][\"ID_2\"] = important_info[2]\n",
    "        EHR_imp_08[k][\"blank\"] = important_info[3]\n",
    "        EHR_imp_08[k][\"ID_3\"] = important_info[4]\n",
    "        EHR_imp_08[k][\"Date in/out?\"] = important_info[5]\n",
    "        EHR_imp_08[k][\"Discharge Summary\"] = important_info[6]\n",
    "        EHR_imp_08[k][\"S/U\"] = important_info[7]\n",
    "        EHR_imp_08[k][\"DIS\"] = important_info[8]\n",
    "        EHR_imp_08[k][\"Admission Date\"] = important_info[9].split(\" \")[3]\n",
    "        # dmy = important_info[9].split(' ')[3].split('/')\n",
    "        # EHR_imp_08[k]['Admission DateTime'] = datetime(year = int(dmy[2]), month = int(dmy[0]), day = int(dmy[1])) if len(dmy) == 3 and (dmy[0] != '2' and dmy[1] != '29') else None\n",
    "        EHR_imp_08[k][\"Report Status\"] = (\n",
    "            important_info[9].split(\" \")[6]\n",
    "            if len(important_info[9].split(\" \")) == 7\n",
    "            else None\n",
    "        )\n",
    "        EHR_imp_08[k][\"Discharge Date\"] = DD if DD != \"\" else None\n",
    "\n",
    "df_08_imp = pd.DataFrame.from_dict(EHR_imp_08, orient=\"index\")\n",
    "# df_08_imp"
   ]
  },
  {
   "cell_type": "markdown",
   "id": "7b2181f8-38e0-4517-b2c1-5298c2b703b7",
   "metadata": {},
   "source": [
    "#### Stats about this dataframe"
   ]
  },
  {
   "cell_type": "code",
   "execution_count": 14,
   "id": "29fae4a4-c897-499d-8da1-4ad603143fa3",
   "metadata": {},
   "outputs": [],
   "source": [
    "# Extra safety use regular expression check\n",
    "Admin_dt = []\n",
    "Disc_dt = []\n",
    "for date in df_08_imp[\"Admission Date\"]:\n",
    "    try:\n",
    "        a = datetime.datetime.strptime(date, \"%m/%d/%Y\")\n",
    "    except:\n",
    "        Admin_dt.append(None)\n",
    "    else:\n",
    "        Admin_dt.append(datetime.date(a.year, a.month, a.day))\n",
    "\n",
    "for date in df_08_imp[\"Discharge Date\"]:\n",
    "    try:\n",
    "        a = datetime.datetime.strptime(date, \" %m/%d/%Y\")\n",
    "    except:\n",
    "        Disc_dt.append(None)\n",
    "    else:\n",
    "        Disc_dt.append(datetime.date(a.year, a.month, a.day))\n",
    "\n",
    "df_08_imp[\"Admission Date\"] = Admin_dt\n",
    "df_08_imp[\"Discharge Date\"] = Disc_dt\n",
    "# df_08_imp[\"Time in Hosp\"] = [\n",
    "#    dt - at if dt != None and at != None else None for dt, at in zip(Disc_dt, Admin_dt)\n",
    "# ]\n",
    "# df_08_imp[\"Discharge Summary\"] = df_08_imp[\"Discharge Summary\"].str.lower()"
   ]
  },
  {
   "cell_type": "code",
   "execution_count": 15,
   "id": "d1bbb4ff-c516-4d49-be30-035cee81773f",
   "metadata": {},
   "outputs": [],
   "source": [
    "# TRY TO GET A DICTIONNARY WHERE WE ASSOCIATE A STATUS TO AN AMOUNT OF TIME IN THE HOSPITAL\n",
    "# DS = {}\n",
    "# for _, row in df_08_imp.iterrows():\n",
    "#     if row['Discharge Summary'] not in DS:\n",
    "#         DS[row['Discharge Summary']] = [row['Time in Hosp']]\n",
    "#     else:\n",
    "#         DS[row['Discharge Summary']].append(row['Time in Hosp'])"
   ]
  },
  {
   "cell_type": "code",
   "execution_count": 16,
   "id": "842699c5-fc0e-4888-ad20-a9d3821300cf",
   "metadata": {},
   "outputs": [
    {
     "name": "stdout",
     "output_type": "stream",
     "text": [
      "The percentage of Admission dates is: 99.02991107518189 and the percentage of Discharge dates is: 93.85610347615199\n"
     ]
    }
   ],
   "source": [
    "date_in_08 = (\n",
    "    (df_08_imp.shape[0] - df_08_imp[\"Admission Date\"].isna().sum())\n",
    "    * 100\n",
    "    / df_08_imp.shape[0]\n",
    ")\n",
    "date_out_08 = (\n",
    "    (df_08_imp.shape[0] - df_08_imp[\"Discharge Date\"].isna().sum())\n",
    "    * 100\n",
    "    / df_08_imp.shape[0]\n",
    ")\n",
    "print(\n",
    "    f\"The percentage of Admission dates is: {date_in_08} and the percentage of Discharge dates is: {date_out_08}\"\n",
    ")"
   ]
  },
  {
   "cell_type": "markdown",
   "id": "cd206417-bd98-4a63-960e-0977c1363a33",
   "metadata": {
    "tags": []
   },
   "source": [
    "## 2009"
   ]
  },
  {
   "cell_type": "markdown",
   "id": "c050227e-677c-4944-8715-066ac0197b27",
   "metadata": {},
   "source": [
    "#### Get DF"
   ]
  },
  {
   "cell_type": "code",
   "execution_count": 17,
   "id": "92219573-95a5-4fe5-bf55-a4a84c054f43",
   "metadata": {},
   "outputs": [],
   "source": [
    "# Get all the files\n",
    "root_09_bis = \"Data/2009_Bis\"\n",
    "list_of_txt_09_bis = functions.search_for_files(root_09_bis, \".txt\")\n",
    "\n",
    "# Get their record ID and put the in a dictionnary\n",
    "EHR_09_bis = {}\n",
    "\n",
    "for file in list_of_txt_09_bis:\n",
    "    with open(file, encoding=\"utf-8-sig\") as f:\n",
    "        lines = f.readlines()\n",
    "    ID = lines[0].split(\" \")[1][1:-1]\n",
    "    EHR_09_bis[f\"09_{ID}\"] = \"\".join(lines)\n",
    "\n",
    "df_09_bis = pd.DataFrame.from_dict(EHR_09_bis, orient=\"index\").sort_index()\n",
    "# df_09_bis"
   ]
  },
  {
   "cell_type": "markdown",
   "id": "8eacef63-4ddb-485b-8380-f46084977ae1",
   "metadata": {},
   "source": [
    "#### Get Features"
   ]
  },
  {
   "cell_type": "code",
   "execution_count": 18,
   "id": "8a7b6015-b405-4a28-9f40-290f91e10ebc",
   "metadata": {},
   "outputs": [],
   "source": [
    "EHR_imp_09 = {}\n",
    "\n",
    "for k, txt in EHR_09_bis.items():\n",
    "    EHR_imp_09[k] = {\n",
    "        \"text\": None,\n",
    "        \"ID_1\": None,\n",
    "        \"Hospital\": None,\n",
    "        \"ID_2\": None,\n",
    "        \"blank\": None,\n",
    "        \"ID_3\": None,\n",
    "        \"Date in/out?\": None,\n",
    "        \"Discharge Summary\": None,\n",
    "        \"S/U\": None,\n",
    "        \"DIS\": None,\n",
    "        \"Admission Date\": None,\n",
    "        \"Report Status\": None,\n",
    "        \"Discharge Date\": None,\n",
    "    }\n",
    "    important_info = txt.split(\"\\n\")\n",
    "    clean_info = [x for x in important_info if x != \"\"]\n",
    "    important_info = clean_info[1].split(\"|\")\n",
    "    DD = (\n",
    "        clean_info[2].split(\"Discharge Date:\")[1]\n",
    "        if len(clean_info[2].split(\"Discharge Date:\")) == 2\n",
    "        else None\n",
    "    )\n",
    "    if len(important_info) == 10:\n",
    "        EHR_imp_09[k][\"text\"] = txt\n",
    "        EHR_imp_09[k][\"ID_1\"] = important_info[0]\n",
    "        EHR_imp_09[k][\"Hospital\"] = important_info[1]\n",
    "        EHR_imp_09[k][\"ID_2\"] = important_info[2]\n",
    "        EHR_imp_09[k][\"blank\"] = important_info[3]\n",
    "        EHR_imp_09[k][\"ID_3\"] = important_info[4]\n",
    "        EHR_imp_09[k][\"Date in/out?\"] = important_info[5]\n",
    "        EHR_imp_09[k][\"Discharge Summary\"] = important_info[6]\n",
    "        EHR_imp_09[k][\"S/U\"] = important_info[7]\n",
    "        EHR_imp_09[k][\"DIS\"] = important_info[8]\n",
    "        EHR_imp_09[k][\"Admission Date\"] = important_info[9].split(\" \")[3]\n",
    "        # dmy = important_info[9].split(' ')[3].split('/')\n",
    "        # EHR_imp_09[k]['Admission DateTime'] = datetime(year = int(dmy[2]), month = int(dmy[0]), day = int(dmy[1])) if len(dmy) == 3 and (dmy[0] != '2' and dmy[1] != '29') else None\n",
    "        EHR_imp_09[k][\"Report Status\"] = (\n",
    "            important_info[9].split(\" \")[6]\n",
    "            if len(important_info[9].split(\" \")) == 7\n",
    "            else None\n",
    "        )\n",
    "        EHR_imp_09[k][\"Discharge Date\"] = DD if DD != \"\" else None\n",
    "\n",
    "df_09_imp = pd.DataFrame.from_dict(EHR_imp_09, orient=\"index\")\n",
    "# df_09_imp"
   ]
  },
  {
   "cell_type": "markdown",
   "id": "55577491-69a8-4ef3-93b4-152ea03b7157",
   "metadata": {},
   "source": [
    "#### Additional Info"
   ]
  },
  {
   "cell_type": "code",
   "execution_count": 19,
   "id": "7a600e0c-a648-405c-9ef8-1ad407dbfadc",
   "metadata": {},
   "outputs": [],
   "source": [
    "# Extra safety use regular expression check\n",
    "Admin_dt = []\n",
    "Disc_dt = []\n",
    "for date in df_09_imp[\"Admission Date\"]:\n",
    "    try:\n",
    "        a = datetime.datetime.strptime(date, \"%m/%d/%Y\")\n",
    "    except:\n",
    "        Admin_dt.append(None)\n",
    "    else:\n",
    "        Admin_dt.append(datetime.date(a.year, a.month, a.day))\n",
    "\n",
    "for date in df_09_imp[\"Discharge Date\"]:\n",
    "    try:\n",
    "        a = datetime.datetime.strptime(date, \" %m/%d/%Y\")\n",
    "    except:\n",
    "        Disc_dt.append(None)\n",
    "    else:\n",
    "        Disc_dt.append(datetime.date(a.year, a.month, a.day))\n",
    "\n",
    "df_09_imp[\"Admission Date\"] = Admin_dt\n",
    "df_09_imp[\"Discharge Date\"] = Disc_dt\n",
    "df_09_imp[\"Time in Hosp\"] = [\n",
    "    dt - at if dt != None and at != None else None for dt, at in zip(Disc_dt, Admin_dt)\n",
    "]\n",
    "df_09_imp[\"Discharge Summary\"] = df_09_imp[\"Discharge Summary\"].str.lower()"
   ]
  },
  {
   "cell_type": "code",
   "execution_count": 20,
   "id": "6226596f-97f7-4669-bc38-a4e0ff8c8dfe",
   "metadata": {},
   "outputs": [
    {
     "name": "stdout",
     "output_type": "stream",
     "text": [
      "The percentage of Admission dates is: 89.03122497998399 and the percentage of Discharge dates is: 84.14731785428343\n"
     ]
    }
   ],
   "source": [
    "date_in_09 = (\n",
    "    (df_09_imp.shape[0] - df_09_imp[\"Admission Date\"].isna().sum())\n",
    "    * 100\n",
    "    / df_09_imp.shape[0]\n",
    ")\n",
    "date_out_09 = (\n",
    "    (df_09_imp.shape[0] - df_09_imp[\"Discharge Date\"].isna().sum())\n",
    "    * 100\n",
    "    / df_09_imp.shape[0]\n",
    ")\n",
    "print(\n",
    "    f\"The percentage of Admission dates is: {date_in_09} and the percentage of Discharge dates is: {date_out_09}\"\n",
    ")"
   ]
  },
  {
   "cell_type": "markdown",
   "id": "1982aa10-1211-47b6-9d57-7bc657dad448",
   "metadata": {
    "tags": []
   },
   "source": [
    "## 2010"
   ]
  },
  {
   "cell_type": "markdown",
   "id": "dec56d44-9049-4158-87f8-cfb2da3fb32b",
   "metadata": {},
   "source": [
    "#### Get DF"
   ]
  },
  {
   "cell_type": "code",
   "execution_count": 21,
   "id": "e00519c4-ae1d-4a95-8c97-5a0833c1037c",
   "metadata": {},
   "outputs": [],
   "source": [
    "# Get all the files\n",
    "root_10 = \"Data/2010\"\n",
    "list_of_txt_10 = functions.search_for_files(root_10, \".txt\")\n",
    "\n",
    "# Put it into a dictionnary and get the ID as the name of the file\n",
    "EHR_10 = {}\n",
    "\n",
    "for file in list_of_txt_10:\n",
    "    with open(file, encoding=\"utf-8-sig\") as f:\n",
    "        lines = f.readlines()\n",
    "    ID = file.split(\"/\")[-1][:-4]\n",
    "    EHR_10[f\"10_{ID}\"] = \"\".join(lines)\n",
    "\n",
    "df_10 = pd.DataFrame.from_dict(EHR_10, orient=\"index\")\n",
    "# df_10"
   ]
  },
  {
   "cell_type": "markdown",
   "id": "5504c557-9133-4fcd-90b2-f44c5aecfbac",
   "metadata": {},
   "source": [
    "#### Get features"
   ]
  },
  {
   "cell_type": "code",
   "execution_count": 22,
   "id": "9b8d053a-f34e-4504-b7c2-b9615c2dd8fd",
   "metadata": {},
   "outputs": [],
   "source": [
    "# Get a dataframe with multiple different features\n",
    "\n",
    "EHR_imp_10 = {}\n",
    "\n",
    "\n",
    "for k, txt in EHR_10.items():\n",
    "    EHR_imp_10[k] = {\n",
    "        \"text\": txt,\n",
    "        \"Admission Date\": None,\n",
    "        \"Discharge Date\": None,\n",
    "    }\n",
    "    if 'Admission Date' in txt:\n",
    "        DD = txt.split('Admission Date')[1].split('\\n')\n",
    "        EHR_imp_10[k][\"Admission Date\"] = DD[1].strip()\n",
    "    if 'ADMISSION DATE' in txt:\n",
    "        DD = txt.split('ADMISSION DATE')[1].split('\\n')\n",
    "        EHR_imp_10[k][\"Admission Date\"] = DD[1].strip()\n",
    "    if 'Discharge Date' in txt:\n",
    "        DD = txt.split('Discharge Date')[1].split('\\n')\n",
    "        #print(DD[1])\n",
    "        EHR_imp_10[k][\"Discharge Date\"] = DD[1].strip()\n",
    "    if 'DISCHARGE DATE' in txt:\n",
    "        DD = txt.split('DISCHARGE DATE')[1].split('\\n')\n",
    "        EHR_imp_10[k][\"Discharge Date\"] = DD[1].strip()\n",
    "        #EHR_imp_08[k][\"Admission Date\"] = important_info[9].split(\" \")[3]\n",
    "        #EHR_imp_08[k][\"Discharge Date\"] = DD if DD != \"\" else None\n",
    "    \n",
    "df_10_imp = pd.DataFrame.from_dict(EHR_imp_10, orient=\"index\")\n",
    "#df_06_imp"
   ]
  },
  {
   "cell_type": "markdown",
   "id": "70b31b1b-2892-4f98-8409-85124e121ccd",
   "metadata": {},
   "source": [
    "#### Get additional data"
   ]
  },
  {
   "cell_type": "code",
   "execution_count": 23,
   "id": "fc630074-da0e-4a18-99af-2363b4c43d37",
   "metadata": {},
   "outputs": [],
   "source": [
    "# Extra safety use regular expression check\n",
    "Admin_dt = []\n",
    "Disc_dt = []\n",
    "for date in df_10_imp[\"Admission Date\"]:\n",
    "    try:\n",
    "        a = datetime.datetime.strptime(date, \"%m/%d/%Y\")\n",
    "    except:\n",
    "        try:\n",
    "            a = datetime.datetime.strptime(date, \"%m-%d-%y\")\n",
    "        except:\n",
    "            try:\n",
    "                a = datetime.datetime.strptime(date, \"%m/%d/%Y\")\n",
    "            except:\n",
    "                Admin_dt.append(None)\n",
    "            else:\n",
    "                Admin_dt.append(datetime.date(a.year, a.month, a.day))\n",
    "        else:\n",
    "            Admin_dt.append(datetime.date(a.year, a.month, a.day))\n",
    "    else:\n",
    "        Admin_dt.append(datetime.date(a.year, a.month, a.day))\n",
    "\n",
    "for date in df_10_imp[\"Discharge Date\"]:\n",
    "    try:\n",
    "        a = datetime.datetime.strptime(date, \"%m/%d/%Y\")\n",
    "    except:\n",
    "        try:\n",
    "            a = datetime.datetime.strptime(date, \"%m-%d-%y\")\n",
    "        except:\n",
    "            try:\n",
    "                a = datetime.datetime.strptime(date, \"%m/%d/%Y\")\n",
    "            except:\n",
    "                Disc_dt.append(None)\n",
    "            else:\n",
    "                Disc_dt.append(datetime.date(a.year, a.month, a.day))\n",
    "        else:\n",
    "            Disc_dt.append(datetime.date(a.year, a.month, a.day))\n",
    "    else:\n",
    "        Disc_dt.append(datetime.date(a.year, a.month, a.day))\n",
    "\n",
    "df_10_imp[\"Admission Date\"] = Admin_dt\n",
    "df_10_imp[\"Discharge Date\"] = Disc_dt\n",
    "df_10_imp[\"Time in Hosp\"] = [\n",
    "    dt - at if dt != None and at != None else None for dt, at in zip(Disc_dt, Admin_dt)\n",
    "]"
   ]
  },
  {
   "cell_type": "code",
   "execution_count": 24,
   "id": "d3baa128-42fb-4e65-82b1-c99f0b9263d7",
   "metadata": {},
   "outputs": [
    {
     "name": "stdout",
     "output_type": "stream",
     "text": [
      "The percentage of Admission dates is: 46.753246753246756 and the percentage of Discharge dates is: 44.58874458874459\n"
     ]
    }
   ],
   "source": [
    "date_in_10 = (\n",
    "    (df_10_imp.shape[0] - df_10_imp[\"Admission Date\"].isna().sum())\n",
    "    * 100\n",
    "    / df_10_imp.shape[0]\n",
    ")\n",
    "date_out_10 = (\n",
    "    (df_10_imp.shape[0] - df_10_imp[\"Discharge Date\"].isna().sum())\n",
    "    * 100\n",
    "    / df_10_imp.shape[0]\n",
    ")\n",
    "print(\n",
    "    f\"The percentage of Admission dates is: {date_in_10} and the percentage of Discharge dates is: {date_out_10}\"\n",
    ")"
   ]
  },
  {
   "cell_type": "markdown",
   "id": "86776cb7-4ae0-4c40-9fb1-14a1d7b3b7fd",
   "metadata": {
    "tags": []
   },
   "source": [
    "## 2011\n",
    "\n",
    "Extraction of dates"
   ]
  },
  {
   "cell_type": "markdown",
   "id": "22f5571a-c201-452a-aecf-b604670c0d3d",
   "metadata": {},
   "source": [
    "#### Get DF"
   ]
  },
  {
   "cell_type": "code",
   "execution_count": 25,
   "id": "1572def9-d430-4875-a545-812e74f70c7d",
   "metadata": {},
   "outputs": [],
   "source": [
    "# Get all the files\n",
    "root_11 = \"Data/2011\"\n",
    "list_of_txt_11 = functions.search_for_files(root_11, \".txt\")\n",
    "\n",
    "EHR_11 = {}\n",
    "\n",
    "for file in list_of_txt_11:\n",
    "    with open(file, encoding=\"utf-8-sig\") as f:\n",
    "        lines = f.readlines()\n",
    "    ID = file.split(\"/\")[-1].split(\"-\")[-1][:-4]\n",
    "    EHR_11[f\"11_{ID}\"] = \"\".join(lines)\n",
    "\n",
    "df_11 = pd.DataFrame.from_dict(EHR_11, orient=\"index\").sort_index()\n",
    "# df_11"
   ]
  },
  {
   "cell_type": "markdown",
   "id": "c2ea79d4-2386-465d-b8c0-82ef038d3f02",
   "metadata": {},
   "source": [
    "#### Get features"
   ]
  },
  {
   "cell_type": "code",
   "execution_count": 26,
   "id": "ea36e64e-7526-4d70-8350-2a7148a16125",
   "metadata": {},
   "outputs": [],
   "source": [
    "# EHR_11_imp = {}\n",
    "\n",
    "# for k, txt in EHR_11.items():\n",
    "#     EHR_11_imp[k] = {'text':None, 'Admission Date': None, 'Discharge Date': None, 'Date of Birth': None, 'Sex': None, 'Service': None}\n",
    "#     important_info = txt.split('\\n')\n",
    "#     EHR_11_imp[k]['text'] = txt\n",
    "#     EHR_11_imp[k]['Admission Date'] = important_info[1]\n",
    "#     EHR_11_imp[k]['Discharge Date'] = important_info[3]\n",
    "#     EHR_11_imp[k]['Date of Birth'] = important_info[5]\n",
    "#     EHR_11_imp[k]['Sex'] = important_info[7]\n",
    "#     EHR_11_imp[k]['Service'] = important_info[9]\n",
    "\n",
    "# df_11_imp = pd.DataFrame.from_dict(EHR_11_imp, orient=\"index\")\n",
    "# df_11_imp"
   ]
  },
  {
   "cell_type": "code",
   "execution_count": 27,
   "id": "f107ff89-62a9-4a8d-afb8-6655a3163ee2",
   "metadata": {},
   "outputs": [],
   "source": [
    "EHR_11_imp = {}\n",
    "for k, txt in EHR_11.items():\n",
    "    EHR_11_imp[k] = {\"text\": txt, \"Admission Date\": None, \"Discharge Date\": None}\n",
    "    if \"Admission Date :\" in txt:\n",
    "        AD = txt.split(\"Admission Date :\")[1].split(\"\\n\")[1]\n",
    "        EHR_11_imp[k][\"Admission Date\"] = AD\n",
    "    elif \"ADMISSION DATE :\" in txt:\n",
    "        AD_1 = txt.split(\"ADMISSION DATE :\")[1].split(\"\\n\")[1]\n",
    "        EHR_11_imp[k][\"Admission Date\"] = AD_1\n",
    "    if \"Discharge Date :\" in txt:\n",
    "        AD = txt.split(\"Discharge Date :\")[1].split(\"\\n\")[1]\n",
    "        EHR_11_imp[k][\"Discharge Date\"] = AD\n",
    "    elif \"DISCHARGE DATE :\" in txt:\n",
    "        AD_1 = txt.split(\"DISCHARGE DATE :\")[1].split(\"\\n\")[1]\n",
    "        EHR_11_imp[k][\"Discharge Date\"] = AD_1\n",
    "\n",
    "df_11_imp = pd.DataFrame.from_dict(EHR_11_imp, orient=\"index\")\n",
    "# df_11_imp['Discharge Date']"
   ]
  },
  {
   "cell_type": "markdown",
   "id": "23c6731b-2c3c-4bd9-bea1-3c1fc8bc3452",
   "metadata": {},
   "source": [
    "#### Get additional Data"
   ]
  },
  {
   "cell_type": "code",
   "execution_count": 28,
   "id": "07f364c9-930f-4588-b18a-c3325ccb038e",
   "metadata": {},
   "outputs": [],
   "source": [
    "# Extra safety use regular expression check\n",
    "Admin_dt = []\n",
    "Disc_dt = []\n",
    "for date in df_11_imp[\"Admission Date\"]:\n",
    "    try:\n",
    "        a = datetime.datetime.strptime(date, \"%m/%d/%Y\")\n",
    "    except:\n",
    "        try:\n",
    "            a = datetime.datetime.strptime(date, \"%m-%d-%y\")\n",
    "        except:\n",
    "            try:\n",
    "                a = datetime.datetime.strptime(date, \"%Y-%m-%d\")\n",
    "            except:\n",
    "                Admin_dt.append(None)\n",
    "            else:\n",
    "                Admin_dt.append(datetime.date(a.year, a.month, a.day))\n",
    "        else:\n",
    "            Admin_dt.append(datetime.date(a.year, a.month, a.day))\n",
    "    else:\n",
    "        Admin_dt.append(datetime.date(a.year, a.month, a.day))\n",
    "\n",
    "for date in df_11_imp[\"Discharge Date\"]:\n",
    "    try:\n",
    "        a = datetime.datetime.strptime(date, \"%m/%d/%Y\")\n",
    "    except:\n",
    "        try:\n",
    "            a = datetime.datetime.strptime(date, \"%m-%d-%y\")\n",
    "        except:\n",
    "            try:\n",
    "                a = datetime.datetime.strptime(date, \"%Y-%m-%d\")\n",
    "            except:\n",
    "                Disc_dt.append(None)\n",
    "            else:\n",
    "                Disc_dt.append(datetime.date(a.year, a.month, a.day))\n",
    "        else:\n",
    "            Disc_dt.append(datetime.date(a.year, a.month, a.day))\n",
    "    else:\n",
    "        Disc_dt.append(datetime.date(a.year, a.month, a.day))\n",
    "\n",
    "df_11_imp[\"Admission Date\"] = Admin_dt\n",
    "df_11_imp[\"Discharge Date\"] = Disc_dt\n",
    "df_11_imp[\"Time in Hosp\"] = [\n",
    "    dt - at if dt != None and at != None else None for dt, at in zip(Disc_dt, Admin_dt)\n",
    "]\n",
    "# df_11_imp['Discharge Summary'] = df_11_imp['Discharge Summary'].str.lower()"
   ]
  },
  {
   "cell_type": "code",
   "execution_count": 29,
   "id": "fd501eb9-0822-423d-bf55-cd0bfa22caf7",
   "metadata": {},
   "outputs": [
    {
     "name": "stdout",
     "output_type": "stream",
     "text": [
      "The percentage of Admission dates is: 76.88679245283019 and the percentage of Discharge dates is: 74.76415094339623\n"
     ]
    }
   ],
   "source": [
    "date_in_11 = (\n",
    "    (df_11_imp.shape[0] - df_11_imp[\"Admission Date\"].isna().sum())\n",
    "    * 100\n",
    "    / df_11_imp.shape[0]\n",
    ")\n",
    "date_out_11 = (\n",
    "    (df_11_imp.shape[0] - df_11_imp[\"Discharge Date\"].isna().sum())\n",
    "    * 100\n",
    "    / df_11_imp.shape[0]\n",
    ")\n",
    "print(\n",
    "    f\"The percentage of Admission dates is: {date_in_11} and the percentage of Discharge dates is: {date_out_11}\"\n",
    ")"
   ]
  },
  {
   "cell_type": "markdown",
   "id": "3690d70a-93c8-4ce1-971a-60cf84870f76",
   "metadata": {
    "tags": []
   },
   "source": [
    "## 2012"
   ]
  },
  {
   "cell_type": "markdown",
   "id": "1fd83637-084b-4f5f-8c45-9871196cf38c",
   "metadata": {},
   "source": [
    "#### Get DF"
   ]
  },
  {
   "cell_type": "code",
   "execution_count": 30,
   "id": "d6a1531b-1c3e-401f-b2e7-ffb21b7c528c",
   "metadata": {},
   "outputs": [],
   "source": [
    "# Get all the files\n",
    "root_12 = \"Data/2012\"\n",
    "list_of_txt_12 = functions.search_for_files(root_12, \".txt\")\n",
    "\n",
    "EHR_12 = {}\n",
    "\n",
    "for file in list_of_txt_12:\n",
    "    with open(file, encoding=\"utf-8-sig\") as f:\n",
    "        lines = f.readlines()\n",
    "    ID = file.split(\"/\")[-1].split(\".\")[0]\n",
    "    EHR_12[f\"12_{ID}\"] = \"\".join(lines)\n",
    "\n",
    "df_12 = pd.DataFrame.from_dict(EHR_12, orient=\"index\").sort_index()\n",
    "# df_12"
   ]
  },
  {
   "cell_type": "markdown",
   "id": "432299a9-dbd7-49a2-a38f-4d94905f1be4",
   "metadata": {},
   "source": [
    "#### Get Features"
   ]
  },
  {
   "cell_type": "code",
   "execution_count": 31,
   "id": "1d9580b5-7625-483b-9df5-72cdb5b5277d",
   "metadata": {},
   "outputs": [],
   "source": [
    "EHR_12_imp = {}\n",
    "for k, txt in EHR_12.items():\n",
    "    EHR_12_imp[k] = {\"text\": txt, \"Admission Date\": None, \"Discharge Date\": None}\n",
    "    if \"Admission Date :\" in txt:\n",
    "        AD = txt.split(\"Admission Date :\")[1].split(\"\\n\")[1]\n",
    "        EHR_12_imp[k][\"Admission Date\"] = AD\n",
    "    elif \"ADMISSION DATE :\" in txt:\n",
    "        AD_1 = txt.split(\"ADMISSION DATE :\")[1].split(\"\\n\")[1]\n",
    "        EHR_12_imp[k][\"Admission Date\"] = AD_1\n",
    "    if \"Discharge Date :\" in txt:\n",
    "        AD = txt.split(\"Discharge Date :\")[1].split(\"\\n\")[1]\n",
    "        EHR_12_imp[k][\"Discharge Date\"] = AD\n",
    "    elif \"DISCHARGE DATE :\" in txt:\n",
    "        AD_1 = txt.split(\"DISCHARGE DATE :\")[1].split(\"\\n\")[1]\n",
    "        EHR_12_imp[k][\"Discharge Date\"] = AD_1\n",
    "\n",
    "df_12_imp = pd.DataFrame.from_dict(EHR_12_imp, orient=\"index\")\n",
    "# df_12_imp['Admission Date']"
   ]
  },
  {
   "cell_type": "markdown",
   "id": "4b0e38cf-ffd1-4e73-ad84-7babbe82cce3",
   "metadata": {},
   "source": [
    "#### Get additional data"
   ]
  },
  {
   "cell_type": "code",
   "execution_count": 32,
   "id": "54a056fe-37b8-44cb-867c-dd7428cec139",
   "metadata": {},
   "outputs": [],
   "source": [
    "# Extra safety use regular expression check\n",
    "Admin_dt = []\n",
    "Disc_dt = []\n",
    "for date in df_12_imp[\"Admission Date\"]:\n",
    "    try:\n",
    "        a = datetime.datetime.strptime(date, \"%m/%d/%Y\")\n",
    "    except:\n",
    "        try:\n",
    "            a = datetime.datetime.strptime(date, \"%m-%d-%y\")\n",
    "        except:\n",
    "            try:\n",
    "                a = datetime.datetime.strptime(date, \"%Y-%m-%d\")\n",
    "            except:\n",
    "                Admin_dt.append(None)\n",
    "            else:\n",
    "                Admin_dt.append(datetime.date(a.year, a.month, a.day))\n",
    "        else:\n",
    "            Admin_dt.append(datetime.date(a.year, a.month, a.day))\n",
    "    else:\n",
    "        Admin_dt.append(datetime.date(a.year, a.month, a.day))\n",
    "\n",
    "for date in df_12_imp[\"Discharge Date\"]:\n",
    "    try:\n",
    "        a = datetime.datetime.strptime(date, \"%m/%d/%Y\")\n",
    "    except:\n",
    "        try:\n",
    "            a = datetime.datetime.strptime(date, \"%m-%d-%y\")\n",
    "        except:\n",
    "            try:\n",
    "                a = datetime.datetime.strptime(date, \"%Y-%m-%d\")\n",
    "            except:\n",
    "                Disc_dt.append(None)\n",
    "            else:\n",
    "                Disc_dt.append(datetime.date(a.year, a.month, a.day))\n",
    "        else:\n",
    "            Disc_dt.append(datetime.date(a.year, a.month, a.day))\n",
    "    else:\n",
    "        Disc_dt.append(datetime.date(a.year, a.month, a.day))\n",
    "\n",
    "df_12_imp[\"Admission Date\"] = Admin_dt\n",
    "df_12_imp[\"Discharge Date\"] = Disc_dt\n",
    "df_12_imp[\"Time in Hosp\"] = [\n",
    "    dt - at if dt != None and at != None else None for dt, at in zip(Disc_dt, Admin_dt)\n",
    "]\n",
    "# df_11_imp['Discharge Summary'] = df_11_imp['Discharge Summary'].str.lower()"
   ]
  },
  {
   "cell_type": "code",
   "execution_count": 33,
   "id": "73483b15-8a9a-401f-acd8-f00d13f7659a",
   "metadata": {},
   "outputs": [
    {
     "name": "stdout",
     "output_type": "stream",
     "text": [
      "The percentage of Admission dates is: 86.12903225806451 and the percentage of Discharge dates is: 83.87096774193549\n"
     ]
    }
   ],
   "source": [
    "date_in_12 = (\n",
    "    (df_12_imp.shape[0] - df_12_imp[\"Admission Date\"].isna().sum())\n",
    "    * 100\n",
    "    / df_12_imp.shape[0]\n",
    ")\n",
    "date_out_12 = (\n",
    "    (df_12_imp.shape[0] - df_12_imp[\"Discharge Date\"].isna().sum())\n",
    "    * 100\n",
    "    / df_12_imp.shape[0]\n",
    ")\n",
    "print(\n",
    "    f\"The percentage of Admission dates is: {date_in_12} and the percentage of Discharge dates is: {date_out_12}\"\n",
    ")"
   ]
  },
  {
   "cell_type": "markdown",
   "id": "f7f59645-a741-4d0b-8d32-84b9e3a8012a",
   "metadata": {
    "tags": []
   },
   "source": [
    "## 2014"
   ]
  },
  {
   "cell_type": "markdown",
   "id": "38f4598c-e633-4722-93a9-1c6942af6d69",
   "metadata": {},
   "source": [
    "#### Get DF"
   ]
  },
  {
   "cell_type": "code",
   "execution_count": 34,
   "id": "9bd08d1d-93f3-4d0e-9ea3-b66a569d3308",
   "metadata": {},
   "outputs": [],
   "source": [
    "# Get all the files\n",
    "root_14 = \"Data/2014\"\n",
    "list_of_txt_14 = functions.search_for_files(root_14, \".xml\")\n",
    "\n",
    "EHR_14 = {}\n",
    "\n",
    "for item in list_of_txt_14:\n",
    "    file = minidom.parse(item)\n",
    "    text = file.getElementsByTagName(\"TEXT\")\n",
    "    for txt in text:\n",
    "        ID = item.split(\"/\")[-1][:-4]\n",
    "        EHR_14[f\"14_{ID}\"] = txt.firstChild.data\n",
    "\n",
    "df_14 = pd.DataFrame.from_dict(EHR_14, orient=\"index\").sort_index()\n",
    "# df_14"
   ]
  },
  {
   "cell_type": "markdown",
   "id": "769e7e61-8862-4898-b440-90d252c6c5ee",
   "metadata": {},
   "source": [
    "#### Get features"
   ]
  },
  {
   "cell_type": "code",
   "execution_count": 35,
   "id": "0c810361-4c07-47eb-9984-8a378ba657ba",
   "metadata": {},
   "outputs": [],
   "source": [
    "EHR_14_imp = {}\n",
    "for k, txt in EHR_14.items():\n",
    "    EHR_14_imp[k] = {\"text\": txt, \"Admission Date\": None, \"Discharge Date\": None}\n",
    "    if \"Record date:\" in txt:\n",
    "        AD = txt.split(\"Record date: \")[1].split(\"\\n\")[0]\n",
    "        EHR_14_imp[k][\"Admission Date\"] = AD\n",
    "\n",
    "df_14_imp = pd.DataFrame.from_dict(EHR_14_imp, orient=\"index\")\n",
    "# df_14_imp"
   ]
  },
  {
   "cell_type": "markdown",
   "id": "2d7bfe70-2f0a-4292-8ef0-3df9953dd5ea",
   "metadata": {},
   "source": [
    "#### Get additional stats"
   ]
  },
  {
   "cell_type": "code",
   "execution_count": 36,
   "id": "97bddbe0-df87-446b-8cb5-9073590e4750",
   "metadata": {},
   "outputs": [],
   "source": [
    "Admin_dt = []\n",
    "for date in df_14_imp[\"Admission Date\"]:\n",
    "    try:\n",
    "        a = datetime.datetime.strptime(date, \"%Y-%m-%d\")\n",
    "    except:\n",
    "        Admin_dt.append(None)\n",
    "    else:\n",
    "        Admin_dt.append(datetime.date(a.year, a.month, a.day))\n",
    "\n",
    "df_14_imp[\"Admission Date\"] = Admin_dt"
   ]
  },
  {
   "cell_type": "code",
   "execution_count": 37,
   "id": "24563562-8a47-4b63-b183-91e3a52df068",
   "metadata": {},
   "outputs": [
    {
     "name": "stdout",
     "output_type": "stream",
     "text": [
      "The percentage of Admission dates is: 99.76993865030674\n"
     ]
    }
   ],
   "source": [
    "date_in_14 = (\n",
    "    (df_14_imp.shape[0] - df_14_imp[\"Admission Date\"].isna().sum())\n",
    "    * 100\n",
    "    / df_14_imp.shape[0]\n",
    ")\n",
    "# date_out_14 = (\n",
    "#     (df_14_imp.shape[0] - df_14_imp[\"Discharge Date\"].isna().sum())\n",
    "#     * 100\n",
    "#     / df_14_imp.shape[0]\n",
    "# )\n",
    "print(f\"The percentage of Admission dates is: {date_in_14}\")"
   ]
  },
  {
   "cell_type": "markdown",
   "id": "d3443a59-177e-4cc8-908c-f558e2a32362",
   "metadata": {
    "tags": []
   },
   "source": [
    "## 2018_1"
   ]
  },
  {
   "cell_type": "markdown",
   "id": "fba2538f-95b8-4d73-bc9c-4c246ac6219d",
   "metadata": {},
   "source": [
    "#### Get DF"
   ]
  },
  {
   "cell_type": "code",
   "execution_count": 38,
   "id": "e1cec5fa-cb85-4a3d-b625-938b2da8dafe",
   "metadata": {},
   "outputs": [],
   "source": [
    "# Get all the files\n",
    "root_18_1 = \"Data/2018_1\"\n",
    "list_of_txt_18_1 = functions.search_for_files(root_18_1, \".xml\")\n",
    "\n",
    "EHR_18_1 = {}\n",
    "\n",
    "for files in list_of_txt_18_1:\n",
    "    i=0\n",
    "    fls = []\n",
    "    file = minidom.parse(files)\n",
    "    text = file.getElementsByTagName(\"TEXT\")\n",
    "    for txt in text:\n",
    "        lg_text = txt.firstChild.data\n",
    "        lg_text = lg_text.split(\"Record date\")\n",
    "        for item in lg_text:\n",
    "            ID = files.split(\"/\")[-1][:-4]\n",
    "            EHR_18_1[f\"18_1_{ID}_{i}\"] = \"Record date\" + item\n",
    "\n",
    "df_18_1 = pd.DataFrame.from_dict(EHR_18_1, orient=\"index\").sort_index()\n",
    "# df_18_1"
   ]
  },
  {
   "cell_type": "markdown",
   "id": "11b4280b-b91f-407f-af3d-6c9e3567cfae",
   "metadata": {
    "tags": []
   },
   "source": [
    "#### Get features"
   ]
  },
  {
   "cell_type": "code",
   "execution_count": 39,
   "id": "95d41bf5-363e-4c8d-bb81-2d3361f2c40b",
   "metadata": {},
   "outputs": [],
   "source": [
    "EHR_18_1_imp = {}\n",
    "for k, txt in EHR_18_1.items():\n",
    "    EHR_18_1_imp[k] = {\"text\": txt, \"Admission Date\": None, \"Discharge Date\": None}\n",
    "    if \"Record date:\" in txt:\n",
    "        AD = txt.split(\"Record date: \")[1].split(\"\\n\")[0]\n",
    "        EHR_18_1_imp[k][\"Admission Date\"] = AD\n",
    "\n",
    "df_18_1_imp = pd.DataFrame.from_dict(EHR_18_1_imp, orient=\"index\")\n",
    "# df_18_1_imp"
   ]
  },
  {
   "cell_type": "markdown",
   "id": "29a30e09-6d8b-4e4d-bf76-f9393a94f21d",
   "metadata": {
    "tags": []
   },
   "source": [
    "#### Get additional stats"
   ]
  },
  {
   "cell_type": "code",
   "execution_count": 40,
   "id": "f0a960ce-53ad-4e68-b165-20489b27a3b3",
   "metadata": {},
   "outputs": [],
   "source": [
    "Admin_dt = []\n",
    "for date in df_18_1_imp[\"Admission Date\"]:\n",
    "    try:\n",
    "        a = datetime.datetime.strptime(date, \"%Y-%m-%d\")\n",
    "    except:\n",
    "        Admin_dt.append(None)\n",
    "    else:\n",
    "        Admin_dt.append(datetime.date(a.year, a.month, a.day))\n",
    "\n",
    "df_18_1_imp[\"Admission Date\"] = Admin_dt"
   ]
  },
  {
   "cell_type": "code",
   "execution_count": 41,
   "id": "0d704148-c38d-4fab-9152-fd4a6a292ea3",
   "metadata": {},
   "outputs": [
    {
     "name": "stdout",
     "output_type": "stream",
     "text": [
      "The percentage of Admission dates is: 100.0\n"
     ]
    }
   ],
   "source": [
    "date_in_18_1 = (\n",
    "    (df_18_1_imp.shape[0] - df_18_1_imp[\"Admission Date\"].isna().sum())\n",
    "    * 100\n",
    "    / df_18_1_imp.shape[0]\n",
    ")\n",
    "# date_out_14 = (\n",
    "#     (df_14_imp.shape[0] - df_14_imp[\"Discharge Date\"].isna().sum())\n",
    "#     * 100\n",
    "#     / df_14_imp.shape[0]\n",
    "# )\n",
    "print(f\"The percentage of Admission dates is: {date_in_18_1}\")"
   ]
  },
  {
   "cell_type": "markdown",
   "id": "b62c262f-0cf9-4417-9764-9e8980954749",
   "metadata": {
    "tags": []
   },
   "source": [
    "## 2018_2"
   ]
  },
  {
   "cell_type": "markdown",
   "id": "ab98ffa3-47d5-4b00-8025-6d3b4d73f7a0",
   "metadata": {},
   "source": [
    "#### Get DF"
   ]
  },
  {
   "cell_type": "code",
   "execution_count": 42,
   "id": "d6dffd30-b1f6-47a3-a191-cd45c2681d84",
   "metadata": {},
   "outputs": [],
   "source": [
    "# Get all the files\n",
    "root_18_2 = \"Data/2018_2\"\n",
    "list_of_txt_18_2 = functions.search_for_files(root_18_2, \".txt\")\n",
    "\n",
    "EHR_18_2 = {}\n",
    "\n",
    "for file in list_of_txt_18_2:\n",
    "    with open(file, encoding=\"utf-8-sig\") as f:\n",
    "        lines = f.readlines()\n",
    "    ID = file.split(\"/\")[-1][:-4]\n",
    "    EHR_18_2[f\"18_2_{ID}\"] = \"\".join(lines)\n",
    "\n",
    "df_18_2 = pd.DataFrame.from_dict(EHR_18_2, orient=\"index\").sort_index()\n",
    "# df_18_2"
   ]
  },
  {
   "cell_type": "markdown",
   "id": "e6e2a6ca-95e8-4fab-9bce-786fe0b62d55",
   "metadata": {},
   "source": [
    "#### Get features"
   ]
  },
  {
   "cell_type": "code",
   "execution_count": 43,
   "id": "bfb7b6da-0665-4ff4-b6e5-05d9e220702a",
   "metadata": {
    "tags": []
   },
   "outputs": [],
   "source": [
    "EHR_18_2_imp = {}\n",
    "i = 0\n",
    "for k, txt in EHR_18_2.items():\n",
    "    EHR_18_2_imp[k] = {\n",
    "        \"text\": txt,\n",
    "        \"Admission Date\": None,\n",
    "        \"Discharge Date\": None,\n",
    "        \"Date of Birth\": None,\n",
    "        \"Sex\": None,\n",
    "    }\n",
    "    important_info = txt.split(\"Service\")[0]\n",
    "    AD = important_info.split(\"**\")[1]\n",
    "    DD = important_info.split(\"**\")[3] if len(important_info.split(\"**\")) >= 4 else None\n",
    "    DOB = (\n",
    "        important_info.split(\"**\")[5] if len(important_info.split(\"**\")) >= 6 else None\n",
    "    )\n",
    "    Sex = (\n",
    "        important_info.split(\"Sex:\")[1].split(\"\\n\")[0].strip()\n",
    "        if \"Sex\" in important_info\n",
    "        else None\n",
    "    )\n",
    "    EHR_18_2_imp[k][\"Admission Date\"] = AD\n",
    "    EHR_18_2_imp[k][\"Discharge Date\"] = DD\n",
    "    EHR_18_2_imp[k][\"Date of Birth\"] = DOB\n",
    "    EHR_18_2_imp[k][\"Sex\"] = Sex\n",
    "\n",
    "df_18_2_imp = pd.DataFrame.from_dict(EHR_18_2_imp, orient=\"index\")\n",
    "# df_18_2_imp"
   ]
  },
  {
   "cell_type": "markdown",
   "id": "37bfec55-7699-490d-8d69-d568d1a64aed",
   "metadata": {},
   "source": [
    "#### Get additional stats"
   ]
  },
  {
   "cell_type": "code",
   "execution_count": 44,
   "id": "f4cef636-f0fe-448e-8e25-04b327c5b1c6",
   "metadata": {},
   "outputs": [],
   "source": [
    "# Extra safety use regular expression check\n",
    "Admin_dt = []\n",
    "Disc_dt = []\n",
    "for date in df_18_2_imp[\"Admission Date\"]:\n",
    "    try:\n",
    "        a = datetime.datetime.strptime(date, \"%Y-%m-%d\")\n",
    "    except:\n",
    "        Admin_dt.append(None)\n",
    "    else:\n",
    "        Admin_dt.append(datetime.date(a.year, a.month, a.day))\n",
    "\n",
    "for date in df_18_2_imp[\"Discharge Date\"]:\n",
    "    try:\n",
    "        a = datetime.datetime.strptime(date, \"%Y-%m-%d\")\n",
    "    except:\n",
    "        Disc_dt.append(None)\n",
    "    else:\n",
    "        Disc_dt.append(datetime.date(a.year, a.month, a.day))\n",
    "\n",
    "df_18_2_imp[\"Admission Date\"] = Admin_dt\n",
    "df_18_2_imp[\"Discharge Date\"] = Disc_dt\n",
    "df_18_2_imp[\"Time in Hosp\"] = [\n",
    "    dt - at if dt != None and at != None else None for dt, at in zip(Disc_dt, Admin_dt)\n",
    "]"
   ]
  },
  {
   "cell_type": "code",
   "execution_count": 45,
   "id": "e061978f-ad4d-41bc-9c80-4f163b8ccfa0",
   "metadata": {},
   "outputs": [
    {
     "name": "stdout",
     "output_type": "stream",
     "text": [
      "The percentage of Admission dates is: 95.04950495049505 and the percentage of Discharge dates is: 95.24752475247524\n"
     ]
    }
   ],
   "source": [
    "date_in_18_2 = (\n",
    "    (df_18_2_imp.shape[0] - df_18_2_imp[\"Admission Date\"].isna().sum())\n",
    "    * 100\n",
    "    / df_18_2_imp.shape[0]\n",
    ")\n",
    "date_out_18_2 = (\n",
    "    (df_18_2_imp.shape[0] - df_18_2_imp[\"Discharge Date\"].isna().sum())\n",
    "    * 100\n",
    "    / df_18_2_imp.shape[0]\n",
    ")\n",
    "print(\n",
    "    f\"The percentage of Admission dates is: {date_in_18_2} and the percentage of Discharge dates is: {date_out_18_2}\"\n",
    ")"
   ]
  },
  {
   "cell_type": "markdown",
   "id": "b81174e1-5856-4d5f-a4b5-a98969de5798",
   "metadata": {},
   "source": [
    "## Complete"
   ]
  },
  {
   "cell_type": "code",
   "execution_count": 46,
   "id": "1923c60c-22a6-467b-8316-bf533d7b1fb5",
   "metadata": {},
   "outputs": [],
   "source": [
    "df_ls = [\n",
    "    df_06_imp,\n",
    "    df_08_imp,\n",
    "    df_09_imp,\n",
    "    df_10_imp,\n",
    "    df_11_imp,\n",
    "    df_12_imp,\n",
    "    df_14_imp,\n",
    "    df_18_1_imp,\n",
    "    df_18_2_imp,\n",
    "]\n",
    "df = pd.concat(df_ls)\n",
    "# df"
   ]
  },
  {
   "cell_type": "code",
   "execution_count": 47,
   "id": "4ab77984-2646-4c40-847f-9351597ab923",
   "metadata": {},
   "outputs": [
    {
     "name": "stdout",
     "output_type": "stream",
     "text": [
      "In the corpus there are 5869 of occurences of \"Admission Dates\" and 4108 of occurences of \"Discharge Date\" for a total of 6923 EHR, thus there are 84.77538639318215 and 59.33843709374548\n"
     ]
    }
   ],
   "source": [
    "tot_date_in = 0\n",
    "tot_date_out = 0\n",
    "\n",
    "for _, row in df.iterrows():\n",
    "    if isinstance(row[\"Admission Date\"], datetime.date):\n",
    "        tot_date_in += 1\n",
    "    if isinstance(row[\"Discharge Date\"], datetime.date):\n",
    "        tot_date_out += 1\n",
    "\n",
    "pct_in = tot_date_in * 100 / df.shape[0]\n",
    "pct_out = tot_date_out * 100 / df.shape[0]\n",
    "\n",
    "print(\n",
    "    f'In the corpus there are {tot_date_in} of occurences of \"Admission Dates\" and {tot_date_out} of occurences of \"Discharge Date\" for a total of {df.shape[0]} EHR, thus there are {pct_in} and {pct_out}'\n",
    ")"
   ]
  }
 ],
 "metadata": {
  "kernelspec": {
   "display_name": "JS_venv_data_science_1",
   "language": "python",
   "name": "js_venv_data_science_1"
  },
  "language_info": {
   "codemirror_mode": {
    "name": "ipython",
    "version": 3
   },
   "file_extension": ".py",
   "mimetype": "text/x-python",
   "name": "python",
   "nbconvert_exporter": "python",
   "pygments_lexer": "ipython3",
   "version": "3.8.11"
  }
 },
 "nbformat": 4,
 "nbformat_minor": 5
}
