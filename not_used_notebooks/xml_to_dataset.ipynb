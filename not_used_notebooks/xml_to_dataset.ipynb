{
 "cells": [
  {
   "cell_type": "markdown",
   "id": "8f9c1d4a-6a5b-42df-bcdd-424f65d53b4c",
   "metadata": {},
   "source": [
    "# Transform the downloaded DATA\n",
    "\n",
    "The goal of this notebook will be to take all the TEXT annotations from the xml files and put them in a DataFrame\n",
    "\n",
    "(Further tests will focus on finding how to use the annotations)"
   ]
  },
  {
   "cell_type": "code",
   "execution_count": 1,
   "id": "c6a3a52a-76c4-479a-91f1-2a40985420b4",
   "metadata": {},
   "outputs": [],
   "source": [
    "from xml.dom import minidom\n",
    "import os\n",
    "import pandas as pd"
   ]
  },
  {
   "cell_type": "code",
   "execution_count": 2,
   "id": "b30ec2ed-a9df-4c1a-bc24-ac1b26da485a",
   "metadata": {},
   "outputs": [],
   "source": [
    "def search_for_files(root):\n",
    "    \"\"\"\n",
    "    For all the files that end in .xml in the DataSet (Medecine) folder are put into one list\n",
    "    \"\"\"\n",
    "    ls = []\n",
    "    for path, subdirs, files in os.walk(root):\n",
    "        for name in files:\n",
    "            file = os.path.join(path, name)\n",
    "            if file.endswith(\".xml\"):\n",
    "                ls.append(file)\n",
    "    return ls"
   ]
  },
  {
   "cell_type": "code",
   "execution_count": 3,
   "id": "90405e1f-22a9-4d5b-9381-7eacd7c18e96",
   "metadata": {},
   "outputs": [],
   "source": [
    "def clean_list(ls):\n",
    "    \"\"\"\n",
    "    Get rid of all the \\n or \\t in the file\n",
    "    \"\"\"\n",
    "    final = []\n",
    "    for item in ls:\n",
    "        item = item.replace('\\n', ' ')\n",
    "        item = item.replace('\\t', ' ')\n",
    "        final.append(item)\n",
    "    return final"
   ]
  },
  {
   "cell_type": "markdown",
   "id": "bc00ea9e-68e7-43c5-a111-f9558ec2f285",
   "metadata": {},
   "source": [
    "## Specific for 2014"
   ]
  },
  {
   "cell_type": "code",
   "execution_count": 4,
   "id": "c827041f-6b0a-4c0e-8fd4-93c00857b653",
   "metadata": {},
   "outputs": [],
   "source": [
    "def make_dict(ls):\n",
    "    \"\"\"\n",
    "    OPen an xml file, parse it so that I only get the TEXT part and then put those texts parts into a dictionnary\n",
    "    \"\"\"\n",
    "    dict_of_str = {}\n",
    "    for item in ls:\n",
    "        fls = []\n",
    "        file = minidom.parse(item)\n",
    "        text = file.getElementsByTagName(\"TEXT\")\n",
    "        for elem in text:\n",
    "            fls.append(elem.firstChild.data)\n",
    "        dict_of_str[item] = clean_list(fls)[0]\n",
    "    return dict_of_str"
   ]
  },
  {
   "cell_type": "code",
   "execution_count": 5,
   "id": "7fab1aea-ee3f-4b40-86aa-427823b52b28",
   "metadata": {},
   "outputs": [],
   "source": [
    "df_2014 = pd.DataFrame.from_dict(make_dict(search_for_files('DataSet (Medecine)/2014 - Heart Disease')), orient = 'index')"
   ]
  },
  {
   "cell_type": "code",
   "execution_count": 6,
   "id": "d61f5036-13e2-4612-a45a-11a8f2468f8d",
   "metadata": {},
   "outputs": [],
   "source": [
    "#df_2014"
   ]
  },
  {
   "cell_type": "markdown",
   "id": "50370595-ec1f-4459-bbf1-3ed987d7a2fb",
   "metadata": {},
   "source": [
    "## Specific for 2018"
   ]
  },
  {
   "cell_type": "code",
   "execution_count": 7,
   "id": "e8aac1c4-e218-4a8a-b46a-e4ae9011e331",
   "metadata": {},
   "outputs": [],
   "source": [
    "def split_file(ls):\n",
    "    \"\"\"\n",
    "    \n",
    "    \"\"\"\n",
    "    dict_to_str = {}\n",
    "    for files in ls:\n",
    "        fls = []\n",
    "        file = minidom.parse(files)\n",
    "        text = file.getElementsByTagName(\"TEXT\")\n",
    "        for elem in text:\n",
    "            fls.append(elem.firstChild.data)\n",
    "        fls = clean_list(fls)\n",
    "        fls = fls[0].split('Record date')\n",
    "        fls = fls[1:]\n",
    "        ffls = []\n",
    "        for item in fls:\n",
    "            item = 'Record date' + item\n",
    "            ffls.append(item)\n",
    "        i=0\n",
    "        for item in ffls:\n",
    "            dict_to_str[files + f'_{i}'] = item\n",
    "            i+=1\n",
    "    return dict_to_str"
   ]
  },
  {
   "cell_type": "code",
   "execution_count": 8,
   "id": "9f18623a-2525-4237-a051-e64e693837aa",
   "metadata": {},
   "outputs": [],
   "source": [
    "df_2018_Clinical = pd.DataFrame.from_dict(split_file(search_for_files('DataSet (Medecine)/2018 - Clinical')), orient = 'index')"
   ]
  },
  {
   "cell_type": "code",
   "execution_count": 9,
   "id": "cc4ad4d8-cdc9-44d8-8d32-7d40de599ad6",
   "metadata": {},
   "outputs": [
    {
     "data": {
      "text/html": [
       "<div>\n",
       "<style scoped>\n",
       "    .dataframe tbody tr th:only-of-type {\n",
       "        vertical-align: middle;\n",
       "    }\n",
       "\n",
       "    .dataframe tbody tr th {\n",
       "        vertical-align: top;\n",
       "    }\n",
       "\n",
       "    .dataframe thead th {\n",
       "        text-align: right;\n",
       "    }\n",
       "</style>\n",
       "<table border=\"1\" class=\"dataframe\">\n",
       "  <thead>\n",
       "    <tr style=\"text-align: right;\">\n",
       "      <th></th>\n",
       "      <th>0</th>\n",
       "    </tr>\n",
       "  </thead>\n",
       "  <tbody>\n",
       "    <tr>\n",
       "      <th>DataSet (Medecine)/2018 - Clinical/170.xml_0</th>\n",
       "      <td>Record date: 2146-11-02  S: 1. c/o congestion,...</td>\n",
       "    </tr>\n",
       "    <tr>\n",
       "      <th>DataSet (Medecine)/2018 - Clinical/170.xml_1</th>\n",
       "      <td>Record date: 2147-05-03  S:  66 yo man comes t...</td>\n",
       "    </tr>\n",
       "    <tr>\n",
       "      <th>DataSet (Medecine)/2018 - Clinical/170.xml_2</th>\n",
       "      <td>Record date: 2149-01-11    MS III Admission No...</td>\n",
       "    </tr>\n",
       "    <tr>\n",
       "      <th>DataSet (Medecine)/2018 - Clinical/170.xml_3</th>\n",
       "      <td>Record date: 2149-03-18     CARDIOLOGY      BE...</td>\n",
       "    </tr>\n",
       "    <tr>\n",
       "      <th>DataSet (Medecine)/2018 - Clinical/170.xml_4</th>\n",
       "      <td>Record date: 2150-09-28  Urology  Admission No...</td>\n",
       "    </tr>\n",
       "    <tr>\n",
       "      <th>...</th>\n",
       "      <td>...</td>\n",
       "    </tr>\n",
       "    <tr>\n",
       "      <th>DataSet (Medecine)/2018 - Clinical/227.xml_0</th>\n",
       "      <td>Record date: 2161-08-09  Patient Name: LE, WIL...</td>\n",
       "    </tr>\n",
       "    <tr>\n",
       "      <th>DataSet (Medecine)/2018 - Clinical/227.xml_1</th>\n",
       "      <td>Record date: 2162-01-22      INTERNAL MEDICINE...</td>\n",
       "    </tr>\n",
       "    <tr>\n",
       "      <th>DataSet (Medecine)/2018 - Clinical/227.xml_2</th>\n",
       "      <td>Record date: 2163-02-25                    Feb...</td>\n",
       "    </tr>\n",
       "    <tr>\n",
       "      <th>DataSet (Medecine)/2018 - Clinical/227.xml_3</th>\n",
       "      <td>Record date: 2164-03-10      INTERNAL MEDICINE...</td>\n",
       "    </tr>\n",
       "    <tr>\n",
       "      <th>DataSet (Medecine)/2018 - Clinical/227.xml_4</th>\n",
       "      <td>Record date: 2164-08-24       CARDIOLOGY      ...</td>\n",
       "    </tr>\n",
       "  </tbody>\n",
       "</table>\n",
       "<p>1264 rows × 1 columns</p>\n",
       "</div>"
      ],
      "text/plain": [
       "                                                                                              0\n",
       "DataSet (Medecine)/2018 - Clinical/170.xml_0  Record date: 2146-11-02  S: 1. c/o congestion,...\n",
       "DataSet (Medecine)/2018 - Clinical/170.xml_1  Record date: 2147-05-03  S:  66 yo man comes t...\n",
       "DataSet (Medecine)/2018 - Clinical/170.xml_2  Record date: 2149-01-11    MS III Admission No...\n",
       "DataSet (Medecine)/2018 - Clinical/170.xml_3  Record date: 2149-03-18     CARDIOLOGY      BE...\n",
       "DataSet (Medecine)/2018 - Clinical/170.xml_4  Record date: 2150-09-28  Urology  Admission No...\n",
       "...                                                                                         ...\n",
       "DataSet (Medecine)/2018 - Clinical/227.xml_0  Record date: 2161-08-09  Patient Name: LE, WIL...\n",
       "DataSet (Medecine)/2018 - Clinical/227.xml_1  Record date: 2162-01-22      INTERNAL MEDICINE...\n",
       "DataSet (Medecine)/2018 - Clinical/227.xml_2  Record date: 2163-02-25                    Feb...\n",
       "DataSet (Medecine)/2018 - Clinical/227.xml_3  Record date: 2164-03-10      INTERNAL MEDICINE...\n",
       "DataSet (Medecine)/2018 - Clinical/227.xml_4  Record date: 2164-08-24       CARDIOLOGY      ...\n",
       "\n",
       "[1264 rows x 1 columns]"
      ]
     },
     "execution_count": 9,
     "metadata": {},
     "output_type": "execute_result"
    }
   ],
   "source": [
    "df_2018_Clinical"
   ]
  },
  {
   "cell_type": "markdown",
   "id": "3435e1b4-282a-4ab6-8129-4498ca66759c",
   "metadata": {},
   "source": [
    "## Specific for 2006 and 2006"
   ]
  },
  {
   "cell_type": "code",
   "execution_count": null,
   "id": "0b89fd5e-f10d-4c9b-9a19-5c70f5f31518",
   "metadata": {},
   "outputs": [],
   "source": []
  }
 ],
 "metadata": {
  "kernelspec": {
   "display_name": "JS_venv_data_science_1",
   "language": "python",
   "name": "js_venv_data_science_1"
  },
  "language_info": {
   "codemirror_mode": {
    "name": "ipython",
    "version": 3
   },
   "file_extension": ".py",
   "mimetype": "text/x-python",
   "name": "python",
   "nbconvert_exporter": "python",
   "pygments_lexer": "ipython3",
   "version": "3.8.11"
  }
 },
 "nbformat": 4,
 "nbformat_minor": 5
}
