{
 "cells": [
  {
   "cell_type": "code",
   "execution_count": 95,
   "id": "b62a6eeb-dfc5-4ad7-8a32-0572389508a8",
   "metadata": {},
   "outputs": [],
   "source": [
    "import re\n",
    "import os\n",
    "from xml.dom import minidom\n",
    "import functions"
   ]
  },
  {
   "cell_type": "code",
   "execution_count": 24,
   "id": "bb07c1f5-8dc3-4f00-b9ce-d5d6d90e64f1",
   "metadata": {},
   "outputs": [],
   "source": [
    "string = 'Record date and the some Record of else other'"
   ]
  },
  {
   "cell_type": "code",
   "execution_count": 44,
   "id": "ef306b4a-7f08-4bb8-b5c6-ecdc539bc381",
   "metadata": {},
   "outputs": [],
   "source": [
    "a = re.split(r'(Record)', string)\n",
    "results = list(filter(None, a))"
   ]
  },
  {
   "cell_type": "code",
   "execution_count": 9,
   "id": "e02d8caf-e257-40bf-8e4a-622b1d0ca0e2",
   "metadata": {},
   "outputs": [],
   "source": [
    "keyword = 'Record'"
   ]
  },
  {
   "cell_type": "code",
   "execution_count": 20,
   "id": "dccb7cf8-2116-4da9-b039-5f91dbdad86d",
   "metadata": {},
   "outputs": [
    {
     "data": {
      "text/plain": [
       "['Record and the some Record of else other']"
      ]
     },
     "execution_count": 20,
     "metadata": {},
     "output_type": "execute_result"
    }
   ],
   "source": [
    "re.split(rf'({keyword})', string)"
   ]
  },
  {
   "cell_type": "code",
   "execution_count": 19,
   "id": "17f54703-8db6-4f05-99e6-1cac16e73501",
   "metadata": {},
   "outputs": [
    {
     "data": {
      "text/plain": [
       "['', ' and the some ', ' of else other']"
      ]
     },
     "execution_count": 19,
     "metadata": {},
     "output_type": "execute_result"
    }
   ],
   "source": [
    "string.split(r'Record')"
   ]
  },
  {
   "cell_type": "code",
   "execution_count": 45,
   "id": "5584c452-86cb-49af-927f-eb06316026e8",
   "metadata": {},
   "outputs": [
    {
     "name": "stdout",
     "output_type": "stream",
     "text": [
      "[[' date and the some '], [' of else other']]\n"
     ]
    }
   ],
   "source": [
    "\n",
    "from itertools import groupby\n",
    "#a = ['this', 'is', 'a', 'cat', '.', 'hello', '.', 'she', 'is', 'nice', '.']\n",
    "result = [list(g) for k,g in groupby(results,lambda x:x=='Record') if not k]\n",
    "print (result)"
   ]
  },
  {
   "cell_type": "code",
   "execution_count": 46,
   "id": "abc9285a-2a2a-47ca-aa7d-417ab8fb61a1",
   "metadata": {},
   "outputs": [
    {
     "data": {
      "text/plain": [
       "[['Record date and the some '], ['Record of else other']]"
      ]
     },
     "execution_count": 46,
     "metadata": {},
     "output_type": "execute_result"
    }
   ],
   "source": [
    "for ele in result:\n",
    "    ele[0] = 'Record' + ele[0]\n",
    "result"
   ]
  },
  {
   "cell_type": "code",
   "execution_count": 84,
   "id": "0638ec86-0689-4164-b19b-df167c99bd81",
   "metadata": {},
   "outputs": [],
   "source": [
    "def xml_file(file, tag, flag = 'ind') -> str or list:\n",
    "    \"\"\"\n",
    "    For xml files that have individual EHR\n",
    "    \"\"\"\n",
    "    file = minidom.parse(file)\n",
    "    text = file.getElementsByTagName(tag)\n",
    "    final = []\n",
    "    for txt in text:\n",
    "        ls = []\n",
    "        for element in txt.childNodes:\n",
    "            if type(element).attributes == None:\n",
    "                ls.append(element.data)\n",
    "            else:\n",
    "                ls.append(element.firstChild.data)\n",
    "        final.append(''.join(ls))\n",
    "    if flag =='ind':\n",
    "        return final[0]\n",
    "    else:\n",
    "        return final"
   ]
  },
  {
   "cell_type": "code",
   "execution_count": 86,
   "id": "2fabaea8-a4b7-4a95-9355-0ef1cd512b49",
   "metadata": {},
   "outputs": [
    {
     "data": {
      "text/plain": [
       "[\"\\n\\n\\nRecord date: 2067-05-03\\n\\nNarrative History\\n\\n   55 yo woman who presents for f/u \\n\\n   \\n\\n   Seen in Cardiac rehab locally last week and BP 170/80.  They called us and we increased her HCTZ to 25 mg from 12.5 mg.  States her BP's were fine there since - 130-140/70-80.\\n\\n   \\n\\n   \\n\\n   Saw Dr Oakley 4/5/67 - she was happy with results of ETT at Clarkfield.  To f/u 7/67.  No CP's since last admit.\\n\\n   \\n\\n   Back to work and starting to walk.  No wt loss and discouraged by this, but just starting to exercise.\\n\\n   \\n\\n   No smoking for 3 months now!\\n\\n   \\n\\n   Still with hotflashes, wakes her up at night.\\n\\nProblems\\n\\n      FH breast cancer   37 yo s \\n\\n\\n\\n      FH myocardial infarction   mother died 66 yo \\n\\n\\n\\n      Hypertension\\n\\n\\n\\n      Uterine fibroids   u/s 2062 \\n\\n\\n\\n      Smoking\\n\\n\\n\\n      hyperlipidemia   CRF mild chol, cigs, HTN, Fhx and known hx CAD in pt. \\n\\n\\n\\n      borderline diabetes mellitus   4/63 125 , follow hgbaic \\n\\n\\n\\n      VPB   2065 - ETT showed freq PVC \\n\\n\\n\\n      coronary artery disease   s/p ant SEMI + stent LAD 2/67, Dr Oakley \\n\\n\\n\\n      thyroid nodule   2065, hot, follow TSH. \\n\\nMedications\\n\\n      NORVASC (AMLODIPINE)     5MG  1 Tablet(s) PO QD  \\n\\n\\n\\n      PLAVIX (CLOPIDOGREL)   75 MG     PO QD  \\n\\n\\n\\n      ATENOLOL     50MG  1 Tablet(s) PO QD  \\n\\n\\n\\n      ASA (ACETYLSALICYLIC ACID)     325MG  1 Tablet(s) PO QD  \\n\\n\\n\\n      ZESTRIL (LISINOPRIL)     40MG  1 Tablet(s) PO QD   \\n\\n\\n\\n      LIPITOR (ATORVASTATIN)     10MG  1 Tablet(s) PO QD  \\n\\n\\n\\n      HCTZ (HYDROCHLOROTHIAZIDE)     25MG  1 Tablet(s) PO QD   \\n\\n\\n\\n      NITROGLYCERIN 1/150 (0.4 MG)   1 TAB     SL x1  PRN prn CP \\n\\nAllergies\\n\\n      CECLOR (CEFACLOR)   Rash   \\n\\nVital Signs\\n\\n      BLOOD PRESSURE-SITTING   150/70 \\n\\n         repeat 145/80   HR 60 reg  WT  202 lbs\\n\\nPhysical Exam\\n\\n   Looks well.  Lungs clear,  CVS  RRRs1s2, Ext - no edema\\t\\n\\nAssessment and Plan\\n\\n   1. H/M - Pe next appt in few months.  Overdue for mammo - will need to stress this.\\n\\n   2.  CAD - cont with cardiac rehab, exercise, Dr Oakley, but doing well.\\n\\n   3.  BP - better on increased HCTZ.  Check labs next visit, good K recently and on ACEI.\\n\\n   4.  Cigs - great!\\n\\n   5. Hot flashes - doesn't want to try any other meds - will try to put up with it.\\n\\n   6. Hot thyroid nodule - recheck TSH next visit.\\n\\n   7. Borderline glc - ok hgba1c 3/67.\\n\\n   8.  Chol - ok, fasting on next visit.\\n\\n   \\n\\n   \\n\\n\\n\\n\\n\\n\"]"
      ]
     },
     "execution_count": 86,
     "metadata": {},
     "output_type": "execute_result"
    }
   ],
   "source": [
    "#xml_file('Data/2014/2014_training-PHI-Gold-Set1/training-PHI-Gold-Set1/220-01.xml', 'TEXT', 'multi')"
   ]
  },
  {
   "cell_type": "code",
   "execution_count": 91,
   "id": "5c6b4d08-9490-456c-a004-d6bdc8008b20",
   "metadata": {},
   "outputs": [],
   "source": [
    "def multi_xml_file(file, tag):\n",
    "    \"\"\"\n",
    "    For xml files that have multiple EHR\n",
    "    \"\"\"\n",
    "    file = minidom.parse(file)\n",
    "    text = file.getElementsByTagName(tag)\n",
    "    # for txt in text:\n",
    "    #     ls.append(txt.firstChild.data)\n",
    "    final = []\n",
    "    for txt in text:\n",
    "        ls = []\n",
    "        for element in txt.childNodes:\n",
    "            if type(element).attributes == None:\n",
    "                ls.append(element.data)\n",
    "            else:\n",
    "                ls.append(element.firstChild.data)\n",
    "        final.append(''.join(ls))\n",
    "    return final\n",
    "    "
   ]
  },
  {
   "cell_type": "code",
   "execution_count": 92,
   "id": "cd685768-2799-4823-8daf-fa389cb1b381",
   "metadata": {},
   "outputs": [],
   "source": [
    "#xml_file('Data/2008/obesity_patient_records_training.xml', 'text', 'multi')"
   ]
  },
  {
   "cell_type": "code",
   "execution_count": 81,
   "id": "c0171d45-ff19-4044-9d7f-69ddef4e4004",
   "metadata": {},
   "outputs": [],
   "source": [
    "def multi_txt_files(file, keyword) -> list:\n",
    "    \"\"\"\n",
    "    For text files with multiple\n",
    "    \"\"\"\n",
    "    with open(file, encoding=\"utf-8-sig\") as f:\n",
    "        lines = ''.join(f.readlines())\n",
    "    lines = list(filter(None,re.split(rf'{keyword}', lines)))\n",
    "    lines = [list(g) for k,g in groupby(lines,lambda x:x=='Record') if not k]\n",
    "    lines = [keyword + ele for ele in lines]\n",
    "    return lines"
   ]
  },
  {
   "cell_type": "code",
   "execution_count": 93,
   "id": "546a93f7-bbe8-46f6-80cd-7d19ec16129b",
   "metadata": {},
   "outputs": [],
   "source": [
    "def xml_file(file,tag, flag = 'ind') -> str or list:\n",
    "    \"\"\"\n",
    "    For xml files that have individual EHR\n",
    "    \"\"\"\n",
    "    file = minidom.parse(file)\n",
    "    text = file.getElementsByTagName(tag)\n",
    "    final = []\n",
    "    for txt in text:\n",
    "        ls = []\n",
    "        for element in txt.childNodes:\n",
    "            if type(element).attributes == None:\n",
    "                ls.append(element.data)\n",
    "            else:\n",
    "                ls.append(element.firstChild.data)\n",
    "        final.append(''.join(ls))\n",
    "    if flag =='ind':\n",
    "        return final[0]\n",
    "    else:\n",
    "        return final"
   ]
  },
  {
   "cell_type": "code",
   "execution_count": 96,
   "id": "018e2c46-028d-4198-b1e6-4cb243872019",
   "metadata": {},
   "outputs": [
    {
     "name": "stdout",
     "output_type": "stream",
     "text": [
      "6628\n",
      "6628\n"
     ]
    }
   ],
   "source": [
    "root = \"Data\"\n",
    "\n",
    "ls = functions.search_for_files(root, \".xml\")\n",
    "print(len(ls))\n",
    "ALL = {}\n",
    "ID = 0\n",
    "for file in ls:\n",
    "    # ID = file.split(\"/\")[2][:-4]\n",
    "    ID+=1\n",
    "    with open(file, encoding=\"utf-8-sig\") as f:\n",
    "        txt = \"\".join(f.readlines())\n",
    "    txt = txt.replace(\"\\n\", \"\")\n",
    "    txt = txt.lower()\n",
    "    txt = txt.strip()\n",
    "    txt = txt.replace(\"*\", \"\")\n",
    "    txt = txt.replace(\"[ report_end ]\", \"\")\n",
    "    ALL[ID] = txt\n",
    "\n",
    "ALL = dict(sorted(ALL.items()))\n",
    "ALL_c = ALL.copy()\n",
    "# len(ALL_c)\n",
    "print(len(ALL))"
   ]
  },
  {
   "cell_type": "code",
   "execution_count": null,
   "id": "0d868a36-e870-4508-b039-c5dc7f5ae7d8",
   "metadata": {},
   "outputs": [],
   "source": []
  }
 ],
 "metadata": {
  "kernelspec": {
   "display_name": "JS_venv_data_science_1",
   "language": "python",
   "name": "js_venv_data_science_1"
  },
  "language_info": {
   "codemirror_mode": {
    "name": "ipython",
    "version": 3
   },
   "file_extension": ".py",
   "mimetype": "text/x-python",
   "name": "python",
   "nbconvert_exporter": "python",
   "pygments_lexer": "ipython3",
   "version": "3.8.11"
  }
 },
 "nbformat": 4,
 "nbformat_minor": 5
}
