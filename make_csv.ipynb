{
 "cells": [
  {
   "attachments": {},
   "cell_type": "markdown",
   "metadata": {},
   "source": [
    "# Make CSV (thank you Lounes)"
   ]
  },
  {
   "cell_type": "code",
   "execution_count": 1,
   "metadata": {},
   "outputs": [],
   "source": [
    "import re\n",
    "import os\n",
    "import psutil\n",
    "import numpy as np\n",
    "import pandas as pd\n",
    "import random\n",
    "from itertools import combinations\n",
    "from itertools import islice\n",
    "import string\n",
    "from sklearn.feature_extraction.text import TfidfVectorizer\n",
    "from sklearn.metrics.pairwise import cosine_similarity\n",
    "import json\n",
    "import importlib\n",
    "from collections import Counter\n",
    "import spacy\n",
    "import seaborn as sns\n",
    "from sklearn.feature_extraction.text import CountVectorizer\n",
    "from scipy.sparse import csr_matrix"
   ]
  },
  {
   "cell_type": "code",
   "execution_count": 2,
   "metadata": {},
   "outputs": [],
   "source": [
    "import HeXplore.preprocessing\n",
    "from HeXplore.data_extraction import *"
   ]
  },
  {
   "cell_type": "code",
   "execution_count": 3,
   "metadata": {},
   "outputs": [],
   "source": [
    "nlp = spacy.load(\"en_core_web_md\")"
   ]
  },
  {
   "attachments": {},
   "cell_type": "markdown",
   "metadata": {},
   "source": [
    "## Rapports par annees"
   ]
  },
  {
   "cell_type": "code",
   "execution_count": 4,
   "metadata": {},
   "outputs": [],
   "source": [
    "with open('documents_JS.json', 'r') as f:\n",
    "    directories = json.loads(f.read())"
   ]
  },
  {
   "attachments": {},
   "cell_type": "markdown",
   "metadata": {},
   "source": [
    "### 2006"
   ]
  },
  {
   "cell_type": "code",
   "execution_count": 5,
   "metadata": {},
   "outputs": [
    {
     "data": {
      "text/plain": [
       "913"
      ]
     },
     "execution_count": 5,
     "metadata": {},
     "output_type": "execute_result"
    }
   ],
   "source": [
    "dossiers = [directories[\"2006\"][\"metadata\"][\"baseDossier\"]+\"/\"+doss for doss in directories[\"2006\"][\"dossiers\"]]\n",
    "delimSup = directories[\"2006\"][\"metadata\"][\"delimSup\"] if directories[\"2006\"][\"metadata\"][\"delimSup\"] != \"None\" else None\n",
    "delimInf = directories[\"2006\"][\"metadata\"][\"delimInf\"]\n",
    "typeRap = directories[\"2006\"][\"metadata\"][\"type\"]\n",
    "ext = directories[\"2006\"][\"metadata\"][\"extension\"] if directories[\"2006\"][\"metadata\"][\"extension\"] != \"None\" else None\n",
    "pattern = directories[\"2006\"][\"metadata\"][\"pattern\"] if directories[\"2006\"][\"metadata\"][\"pattern\"] != \"None\" else None\n",
    "takeName = True if directories[\"2006\"][\"metadata\"][\"takeName\"] == \"True\" else False\n",
    "dict_rapports_2006 = getRapportsAnnee(\"2006\", dossiers, delimSup, delimInf, typeRap, ext, pattern, takeName)\n",
    "len(dict_rapports_2006)"
   ]
  },
  {
   "attachments": {},
   "cell_type": "markdown",
   "metadata": {},
   "source": [
    "### 2008"
   ]
  },
  {
   "cell_type": "code",
   "execution_count": 6,
   "metadata": {},
   "outputs": [
    {
     "data": {
      "text/plain": [
       "1237"
      ]
     },
     "execution_count": 6,
     "metadata": {},
     "output_type": "execute_result"
    }
   ],
   "source": [
    "dossiers = [directories[\"2008\"][\"metadata\"][\"baseDossier\"]+\"/\"+doss for doss in directories[\"2008\"][\"dossiers\"]]\n",
    "delimSup = directories[\"2008\"][\"metadata\"][\"delimSup\"] if directories[\"2008\"][\"metadata\"][\"delimSup\"] != \"None\" else None\n",
    "delimInf = directories[\"2008\"][\"metadata\"][\"delimInf\"]\n",
    "typeRap = directories[\"2008\"][\"metadata\"][\"type\"]\n",
    "ext = directories[\"2008\"][\"metadata\"][\"extension\"] if directories[\"2008\"][\"metadata\"][\"extension\"] != \"None\" else None\n",
    "pattern = directories[\"2008\"][\"metadata\"][\"pattern\"] if directories[\"2008\"][\"metadata\"][\"pattern\"] != \"None\" else None\n",
    "takeName = True if directories[\"2008\"][\"metadata\"][\"takeName\"] == \"True\" else False\n",
    "dict_rapports_2008 = getRapportsAnnee(\"2008\", dossiers, delimSup, delimInf, typeRap, ext, pattern, takeName)\n",
    "len(dict_rapports_2008)"
   ]
  },
  {
   "attachments": {},
   "cell_type": "markdown",
   "metadata": {},
   "source": [
    "### 2009"
   ]
  },
  {
   "cell_type": "code",
   "execution_count": 7,
   "metadata": {},
   "outputs": [
    {
     "data": {
      "text/plain": [
       "1249"
      ]
     },
     "execution_count": 7,
     "metadata": {},
     "output_type": "execute_result"
    }
   ],
   "source": [
    "dossiers = [directories[\"2009\"][\"metadata\"][\"baseDossier\"]+\"/\"+doss for doss in directories[\"2009\"][\"dossiers\"]]\n",
    "delimSup = directories[\"2009\"][\"metadata\"][\"delimSup\"] if directories[\"2009\"][\"metadata\"][\"delimSup\"] != \"None\" else None\n",
    "delimInf = directories[\"2009\"][\"metadata\"][\"delimInf\"]\n",
    "typeRap = directories[\"2009\"][\"metadata\"][\"type\"]\n",
    "ext = directories[\"2009\"][\"metadata\"][\"extension\"] if directories[\"2009\"][\"metadata\"][\"extension\"] != \"None\" else None\n",
    "pattern = directories[\"2009\"][\"metadata\"][\"pattern\"] if directories[\"2009\"][\"metadata\"][\"pattern\"] != \"None\" else None\n",
    "takeName = True if directories[\"2009\"][\"metadata\"][\"takeName\"] == \"True\" else False\n",
    "dict_rapports_2009 = getRapportsAnnee(\"2009\", dossiers, delimSup, delimInf, typeRap, ext, pattern, takeName)\n",
    "len(dict_rapports_2009)"
   ]
  },
  {
   "attachments": {},
   "cell_type": "markdown",
   "metadata": {},
   "source": [
    "### 2010"
   ]
  },
  {
   "cell_type": "code",
   "execution_count": 8,
   "metadata": {},
   "outputs": [
    {
     "data": {
      "text/plain": [
       "693"
      ]
     },
     "execution_count": 8,
     "metadata": {},
     "output_type": "execute_result"
    }
   ],
   "source": [
    "dossiers = [directories[\"2010\"][\"metadata\"][\"baseDossier\"]+\"/\"+doss for doss in directories[\"2010\"][\"dossiers\"]]\n",
    "delimSup = directories[\"2010\"][\"metadata\"][\"delimSup\"] if directories[\"2010\"][\"metadata\"][\"delimSup\"] != \"None\" else None\n",
    "delimInf = directories[\"2010\"][\"metadata\"][\"delimInf\"]\n",
    "typeRap = directories[\"2010\"][\"metadata\"][\"type\"]\n",
    "ext = directories[\"2010\"][\"metadata\"][\"extension\"] if directories[\"2010\"][\"metadata\"][\"extension\"] != \"None\" else None\n",
    "pattern = directories[\"2010\"][\"metadata\"][\"pattern\"] if directories[\"2010\"][\"metadata\"][\"pattern\"] != \"None\" else None\n",
    "takeName = True if directories[\"2010\"][\"metadata\"][\"takeName\"] == \"True\" else False\n",
    "dict_rapports_2010 = getRapportsAnnee(\"2010\", dossiers, delimSup, delimInf, typeRap, ext, pattern, takeName)\n",
    "len(dict_rapports_2010)"
   ]
  },
  {
   "attachments": {},
   "cell_type": "markdown",
   "metadata": {},
   "source": [
    "### 2011"
   ]
  },
  {
   "cell_type": "code",
   "execution_count": 9,
   "metadata": {},
   "outputs": [
    {
     "data": {
      "text/plain": [
       "424"
      ]
     },
     "execution_count": 9,
     "metadata": {},
     "output_type": "execute_result"
    }
   ],
   "source": [
    "dossiers = [directories[\"2011\"][\"metadata\"][\"baseDossier\"]+\"/\"+doss for doss in directories[\"2011\"][\"dossiers\"]]\n",
    "delimSup = directories[\"2011\"][\"metadata\"][\"delimSup\"] if directories[\"2011\"][\"metadata\"][\"delimSup\"] != \"None\" else None\n",
    "delimInf = directories[\"2011\"][\"metadata\"][\"delimInf\"]\n",
    "typeRap = directories[\"2011\"][\"metadata\"][\"type\"]\n",
    "ext = directories[\"2011\"][\"metadata\"][\"extension\"] if directories[\"2011\"][\"metadata\"][\"extension\"] != \"None\" else None\n",
    "pattern = directories[\"2011\"][\"metadata\"][\"pattern\"] if directories[\"2011\"][\"metadata\"][\"pattern\"] != \"None\" else None\n",
    "takeName = True if directories[\"2011\"][\"metadata\"][\"takeName\"] == \"True\" else False\n",
    "dict_rapports_2011 = getRapportsAnnee(\"2011\", dossiers, delimSup, delimInf, typeRap, ext, pattern, takeName)\n",
    "len(dict_rapports_2011)"
   ]
  },
  {
   "attachments": {},
   "cell_type": "markdown",
   "metadata": {},
   "source": [
    "### 2012"
   ]
  },
  {
   "cell_type": "code",
   "execution_count": 10,
   "metadata": {},
   "outputs": [
    {
     "name": "stdout",
     "output_type": "stream",
     "text": [
      "Warning : Des fichiers autres que xml ont été trouvés mais ont été ignorés pour l'année 2012.\n"
     ]
    },
    {
     "data": {
      "text/plain": [
       "310"
      ]
     },
     "execution_count": 10,
     "metadata": {},
     "output_type": "execute_result"
    }
   ],
   "source": [
    "dossiers = [directories[\"2012\"][\"metadata\"][\"baseDossier\"]+\"/\"+doss for doss in directories[\"2012\"][\"dossiers\"]]\n",
    "delimSup = directories[\"2012\"][\"metadata\"][\"delimSup\"] if directories[\"2012\"][\"metadata\"][\"delimSup\"] != \"None\" else None\n",
    "delimInf = directories[\"2012\"][\"metadata\"][\"delimInf\"]\n",
    "typeRap = directories[\"2012\"][\"metadata\"][\"type\"]\n",
    "ext = directories[\"2012\"][\"metadata\"][\"extension\"] if directories[\"2012\"][\"metadata\"][\"extension\"] != \"None\" else None\n",
    "pattern = directories[\"2012\"][\"metadata\"][\"pattern\"] if directories[\"2012\"][\"metadata\"][\"pattern\"] != \"None\" else None\n",
    "takeName = True if directories[\"2012\"][\"metadata\"][\"takeName\"] == \"True\" else False\n",
    "dict_rapports_2012 = getRapportsAnnee(\"2012\", dossiers, delimSup, delimInf, typeRap, ext, pattern, takeName)\n",
    "len(dict_rapports_2012)"
   ]
  },
  {
   "attachments": {},
   "cell_type": "markdown",
   "metadata": {},
   "source": [
    "### 2014"
   ]
  },
  {
   "cell_type": "code",
   "execution_count": 11,
   "metadata": {},
   "outputs": [
    {
     "data": {
      "text/plain": [
       "1304"
      ]
     },
     "execution_count": 11,
     "metadata": {},
     "output_type": "execute_result"
    }
   ],
   "source": [
    "dossiers = [directories[\"2014\"][\"metadata\"][\"baseDossier\"]+\"/\"+doss for doss in directories[\"2014\"][\"dossiers\"]]\n",
    "delimSup = directories[\"2014\"][\"metadata\"][\"delimSup\"] if directories[\"2014\"][\"metadata\"][\"delimSup\"] != \"None\" else None\n",
    "delimInf = directories[\"2014\"][\"metadata\"][\"delimInf\"]\n",
    "typeRap = directories[\"2014\"][\"metadata\"][\"type\"]\n",
    "ext = directories[\"2014\"][\"metadata\"][\"extension\"] if directories[\"2014\"][\"metadata\"][\"extension\"] != \"None\" else None\n",
    "pattern = directories[\"2014\"][\"metadata\"][\"pattern\"] if directories[\"2014\"][\"metadata\"][\"pattern\"] != \"None\" else None\n",
    "takeName = True if directories[\"2014\"][\"metadata\"][\"takeName\"] == \"True\" else False\n",
    "dict_rapports_2014 = getRapportsAnnee(\"2014\", dossiers, delimSup, delimInf, typeRap, ext, pattern, takeName)\n",
    "len(dict_rapports_2014)"
   ]
  },
  {
   "attachments": {},
   "cell_type": "markdown",
   "metadata": {},
   "source": [
    "### 2018_1"
   ]
  },
  {
   "cell_type": "code",
   "execution_count": 12,
   "metadata": {},
   "outputs": [
    {
     "data": {
      "text/plain": [
       "1258"
      ]
     },
     "execution_count": 12,
     "metadata": {},
     "output_type": "execute_result"
    }
   ],
   "source": [
    "dossiers = [directories[\"2018-1\"][\"metadata\"][\"baseDossier\"]+\"/\"+doss for doss in directories[\"2018-1\"][\"dossiers\"]]\n",
    "delimSup = directories[\"2018-1\"][\"metadata\"][\"delimSup\"] if directories[\"2018-1\"][\"metadata\"][\"delimSup\"] != \"None\" else None\n",
    "delimInf = directories[\"2018-1\"][\"metadata\"][\"delimInf\"]\n",
    "typeRap = directories[\"2018-1\"][\"metadata\"][\"type\"]\n",
    "ext = directories[\"2018-1\"][\"metadata\"][\"extension\"] if directories[\"2018-1\"][\"metadata\"][\"extension\"] != \"None\" else None\n",
    "pattern = directories[\"2018-1\"][\"metadata\"][\"pattern\"] if directories[\"2018-1\"][\"metadata\"][\"pattern\"] != \"None\" else None\n",
    "takeName = True if directories[\"2018-1\"][\"metadata\"][\"takeName\"] == \"True\" else False\n",
    "dict_rapports_2018_1 = getRapportsAnnee(\"2018-1\", dossiers, delimSup, delimInf, typeRap, ext, pattern, takeName)\n",
    "len(dict_rapports_2018_1)"
   ]
  },
  {
   "attachments": {},
   "cell_type": "markdown",
   "metadata": {},
   "source": [
    "### 2018_2"
   ]
  },
  {
   "cell_type": "code",
   "execution_count": 13,
   "metadata": {},
   "outputs": [
    {
     "data": {
      "text/plain": [
       "505"
      ]
     },
     "execution_count": 13,
     "metadata": {},
     "output_type": "execute_result"
    }
   ],
   "source": [
    "dossiers = [directories[\"2018-2\"][\"metadata\"][\"baseDossier\"]+\"/\"+doss for doss in directories[\"2018-2\"][\"dossiers\"]]\n",
    "delimSup = directories[\"2018-2\"][\"metadata\"][\"delimSup\"] if directories[\"2018-2\"][\"metadata\"][\"delimSup\"] != \"None\" else None\n",
    "delimInf = directories[\"2018-2\"][\"metadata\"][\"delimInf\"]\n",
    "typeRap = directories[\"2018-2\"][\"metadata\"][\"type\"]\n",
    "ext = directories[\"2018-2\"][\"metadata\"][\"extension\"] if directories[\"2018-2\"][\"metadata\"][\"extension\"] != \"None\" else None\n",
    "pattern = directories[\"2018-2\"][\"metadata\"][\"pattern\"] if directories[\"2018-2\"][\"metadata\"][\"pattern\"] != \"None\" else None\n",
    "takeName = True if directories[\"2018-2\"][\"metadata\"][\"takeName\"] == \"True\" else False\n",
    "dict_rapports_2018_2 = getRapportsAnnee(\"2018-2\", dossiers, delimSup, delimInf, typeRap, ext, pattern, takeName)\n",
    "len(dict_rapports_2018_2)"
   ]
  },
  {
   "attachments": {},
   "cell_type": "markdown",
   "metadata": {},
   "source": [
    "### All DATA"
   ]
  },
  {
   "cell_type": "code",
   "execution_count": 14,
   "metadata": {},
   "outputs": [],
   "source": [
    "allRapports = [\n",
    "    dict_rapports_2006,\n",
    "    dict_rapports_2008,\n",
    "    dict_rapports_2009, \n",
    "    dict_rapports_2010,\n",
    "    dict_rapports_2011,\n",
    "    dict_rapports_2012,\n",
    "    dict_rapports_2014,\n",
    "    dict_rapports_2018_1,\n",
    "    dict_rapports_2018_2\n",
    "]"
   ]
  },
  {
   "cell_type": "code",
   "execution_count": 17,
   "metadata": {},
   "outputs": [],
   "source": [
    "allRapports = list(dict_rapports_2006.items())\n",
    "#print(len(list(dict_rapports_2006.items())))\n",
    "allRapports = allRapports + (list(dict_rapports_2008.items()))\n",
    "#print(len(list(dict_rapports_2008.items())), len(allRapports))\n",
    "allRapports = allRapports + (list(dict_rapports_2009.items()))\n",
    "#print(len(list(dict_rapports_2009.items())), len(allRapports))\n",
    "allRapports = allRapports + (list(dict_rapports_2010.items()))\n",
    "#print(len(list(dict_rapports_2010.items())), len(allRapports))\n",
    "allRapports = allRapports + (list(dict_rapports_2011.items()))\n",
    "#print(len(list(dict_rapports_2011.items())), len(allRapports))\n",
    "allRapports = allRapports + (list(dict_rapports_2012.items()))\n",
    "#print(len(list(dict_rapports_2012.items())), len(allRapports))\n",
    "allRapports = allRapports + (list(dict_rapports_2014.items()))\n",
    "#print(len(list(dict_rapports_2014.items())), len(allRapports))\n",
    "allRapports = allRapports + (list(dict_rapports_2018_1.items()))\n",
    "#print(len(list(dict_rapports_2018_1.items())), len(allRapports))\n",
    "allRapports = allRapports + (list(dict_rapports_2018_2.items()))\n",
    "#print(len(list(dict_rapports_2018_2.items())), len(allRapports))"
   ]
  },
  {
   "cell_type": "code",
   "execution_count": 18,
   "metadata": {},
   "outputs": [],
   "source": [
    "df_rapports = pd.DataFrame(allRapports, columns = ['id', 'rapport'])"
   ]
  },
  {
   "cell_type": "code",
   "execution_count": 19,
   "metadata": {},
   "outputs": [
    {
     "data": {
      "text/html": [
       "<div>\n",
       "<style scoped>\n",
       "    .dataframe tbody tr th:only-of-type {\n",
       "        vertical-align: middle;\n",
       "    }\n",
       "\n",
       "    .dataframe tbody tr th {\n",
       "        vertical-align: top;\n",
       "    }\n",
       "\n",
       "    .dataframe thead th {\n",
       "        text-align: right;\n",
       "    }\n",
       "</style>\n",
       "<table border=\"1\" class=\"dataframe\">\n",
       "  <thead>\n",
       "    <tr style=\"text-align: right;\">\n",
       "      <th></th>\n",
       "      <th>id</th>\n",
       "      <th>rapport</th>\n",
       "    </tr>\n",
       "  </thead>\n",
       "  <tbody>\n",
       "    <tr>\n",
       "      <th>0</th>\n",
       "      <td>2006_558</td>\n",
       "      <td>\\n649953363\\nFIH\\n8723483\\n705831\\n403158\\n8/6...</td>\n",
       "    </tr>\n",
       "    <tr>\n",
       "      <th>1</th>\n",
       "      <td>2006_428</td>\n",
       "      <td>\\n822496704 RWH\\n8043836\\n912882\\n436240\\n11/2...</td>\n",
       "    </tr>\n",
       "    <tr>\n",
       "      <th>2</th>\n",
       "      <td>2006_529</td>\n",
       "      <td>\\n305265793\\nFIH\\n2833679\\n61793/5e2q\\n901693\\...</td>\n",
       "    </tr>\n",
       "    <tr>\n",
       "      <th>3</th>\n",
       "      <td>2006_453</td>\n",
       "      <td>\\n702813059 ELMVH\\n28544442\\n4453606\\n4/7/2006...</td>\n",
       "    </tr>\n",
       "    <tr>\n",
       "      <th>4</th>\n",
       "      <td>2006_446</td>\n",
       "      <td>\\n305784498 RWH\\n1085561\\n893637\\n605351\\n7/8/...</td>\n",
       "    </tr>\n",
       "    <tr>\n",
       "      <th>...</th>\n",
       "      <td>...</td>\n",
       "      <td>...</td>\n",
       "    </tr>\n",
       "    <tr>\n",
       "      <th>7888</th>\n",
       "      <td>2018-2_107872</td>\n",
       "      <td>Admission Date:  [**2195-10-28**]             ...</td>\n",
       "    </tr>\n",
       "    <tr>\n",
       "      <th>7889</th>\n",
       "      <td>2018-2_101215</td>\n",
       "      <td>Admission Date:  [**2142-8-14**]              ...</td>\n",
       "    </tr>\n",
       "    <tr>\n",
       "      <th>7890</th>\n",
       "      <td>2018-2_109566</td>\n",
       "      <td>Admission Date:  [**2148-7-1**]              D...</td>\n",
       "    </tr>\n",
       "    <tr>\n",
       "      <th>7891</th>\n",
       "      <td>2018-2_105106</td>\n",
       "      <td>Admission Date:  [**2159-4-21**]              ...</td>\n",
       "    </tr>\n",
       "    <tr>\n",
       "      <th>7892</th>\n",
       "      <td>2018-2_147292</td>\n",
       "      <td>Admission Date:  [**2197-8-23**]              ...</td>\n",
       "    </tr>\n",
       "  </tbody>\n",
       "</table>\n",
       "<p>7893 rows × 2 columns</p>\n",
       "</div>"
      ],
      "text/plain": [
       "                 id                                            rapport\n",
       "0          2006_558  \\n649953363\\nFIH\\n8723483\\n705831\\n403158\\n8/6...\n",
       "1          2006_428  \\n822496704 RWH\\n8043836\\n912882\\n436240\\n11/2...\n",
       "2          2006_529  \\n305265793\\nFIH\\n2833679\\n61793/5e2q\\n901693\\...\n",
       "3          2006_453  \\n702813059 ELMVH\\n28544442\\n4453606\\n4/7/2006...\n",
       "4          2006_446  \\n305784498 RWH\\n1085561\\n893637\\n605351\\n7/8/...\n",
       "...             ...                                                ...\n",
       "7888  2018-2_107872  Admission Date:  [**2195-10-28**]             ...\n",
       "7889  2018-2_101215  Admission Date:  [**2142-8-14**]              ...\n",
       "7890  2018-2_109566  Admission Date:  [**2148-7-1**]              D...\n",
       "7891  2018-2_105106  Admission Date:  [**2159-4-21**]              ...\n",
       "7892  2018-2_147292  Admission Date:  [**2197-8-23**]              ...\n",
       "\n",
       "[7893 rows x 2 columns]"
      ]
     },
     "execution_count": 19,
     "metadata": {},
     "output_type": "execute_result"
    }
   ],
   "source": [
    "df_rapports"
   ]
  },
  {
   "attachments": {},
   "cell_type": "markdown",
   "metadata": {},
   "source": [
    "## Preprocessing"
   ]
  },
  {
   "cell_type": "code",
   "execution_count": 18,
   "metadata": {},
   "outputs": [],
   "source": [
    "from HeXplore.preprocessing import removeDuplicateReports\n",
    "from HeXplore.preprocessing import removeMultipleSpaces"
   ]
  },
  {
   "cell_type": "code",
   "execution_count": 19,
   "metadata": {},
   "outputs": [],
   "source": [
    "finalRapports = removeDuplicateReports(df_rapports, 'id', 'rapport', False)"
   ]
  },
  {
   "cell_type": "code",
   "execution_count": 20,
   "metadata": {},
   "outputs": [
    {
     "data": {
      "text/html": [
       "<div>\n",
       "<style scoped>\n",
       "    .dataframe tbody tr th:only-of-type {\n",
       "        vertical-align: middle;\n",
       "    }\n",
       "\n",
       "    .dataframe tbody tr th {\n",
       "        vertical-align: top;\n",
       "    }\n",
       "\n",
       "    .dataframe thead th {\n",
       "        text-align: right;\n",
       "    }\n",
       "</style>\n",
       "<table border=\"1\" class=\"dataframe\">\n",
       "  <thead>\n",
       "    <tr style=\"text-align: right;\">\n",
       "      <th></th>\n",
       "      <th>id</th>\n",
       "      <th>rapport</th>\n",
       "    </tr>\n",
       "  </thead>\n",
       "  <tbody>\n",
       "    <tr>\n",
       "      <th>0</th>\n",
       "      <td>2006_627</td>\n",
       "      <td>\\n425093222\\nPRGH\\n74052207\\n446315\\n3/14/1998...</td>\n",
       "    </tr>\n",
       "    <tr>\n",
       "      <th>1</th>\n",
       "      <td>2006_220</td>\n",
       "      <td>\\n656225945 YC\\n76593195\\n2774375\\n01/19/2003 ...</td>\n",
       "    </tr>\n",
       "    <tr>\n",
       "      <th>2</th>\n",
       "      <td>2006_540</td>\n",
       "      <td>\\n356529973\\nFIH\\n2102647\\n14892/3n8v\\n481088\\...</td>\n",
       "    </tr>\n",
       "    <tr>\n",
       "      <th>3</th>\n",
       "      <td>2006_486</td>\n",
       "      <td>\\n677168937 RWH\\n9049156\\n280494\\n763694\\n11/0...</td>\n",
       "    </tr>\n",
       "    <tr>\n",
       "      <th>4</th>\n",
       "      <td>2006_535</td>\n",
       "      <td>\\n405728860\\nFIH\\n7150860\\n05849/1xpu\\n994032\\...</td>\n",
       "    </tr>\n",
       "    <tr>\n",
       "      <th>...</th>\n",
       "      <td>...</td>\n",
       "      <td>...</td>\n",
       "    </tr>\n",
       "    <tr>\n",
       "      <th>7888</th>\n",
       "      <td>2018-2_182040</td>\n",
       "      <td>Name:  [**Known lastname **],[**Known firstnam...</td>\n",
       "    </tr>\n",
       "    <tr>\n",
       "      <th>7889</th>\n",
       "      <td>2018-2_176106</td>\n",
       "      <td>Name:  [**Known lastname 2170**], [**Known fir...</td>\n",
       "    </tr>\n",
       "    <tr>\n",
       "      <th>7890</th>\n",
       "      <td>2018-2_130153</td>\n",
       "      <td>Name:  [**Known lastname 6066**], [**Known fir...</td>\n",
       "    </tr>\n",
       "    <tr>\n",
       "      <th>7891</th>\n",
       "      <td>2018-2_109527</td>\n",
       "      <td>Admission Date:  [**2183-8-31**]              ...</td>\n",
       "    </tr>\n",
       "    <tr>\n",
       "      <th>7892</th>\n",
       "      <td>2018-2_193517</td>\n",
       "      <td>Admission Date:  [**2137-2-21**]              ...</td>\n",
       "    </tr>\n",
       "  </tbody>\n",
       "</table>\n",
       "<p>6906 rows × 2 columns</p>\n",
       "</div>"
      ],
      "text/plain": [
       "                 id                                            rapport\n",
       "0          2006_627  \\n425093222\\nPRGH\\n74052207\\n446315\\n3/14/1998...\n",
       "1          2006_220  \\n656225945 YC\\n76593195\\n2774375\\n01/19/2003 ...\n",
       "2          2006_540  \\n356529973\\nFIH\\n2102647\\n14892/3n8v\\n481088\\...\n",
       "3          2006_486  \\n677168937 RWH\\n9049156\\n280494\\n763694\\n11/0...\n",
       "4          2006_535  \\n405728860\\nFIH\\n7150860\\n05849/1xpu\\n994032\\...\n",
       "...             ...                                                ...\n",
       "7888  2018-2_182040  Name:  [**Known lastname **],[**Known firstnam...\n",
       "7889  2018-2_176106  Name:  [**Known lastname 2170**], [**Known fir...\n",
       "7890  2018-2_130153  Name:  [**Known lastname 6066**], [**Known fir...\n",
       "7891  2018-2_109527  Admission Date:  [**2183-8-31**]              ...\n",
       "7892  2018-2_193517  Admission Date:  [**2137-2-21**]              ...\n",
       "\n",
       "[6906 rows x 2 columns]"
      ]
     },
     "execution_count": 20,
     "metadata": {},
     "output_type": "execute_result"
    }
   ],
   "source": [
    "finalRapports"
   ]
  },
  {
   "attachments": {},
   "cell_type": "markdown",
   "metadata": {},
   "source": [
    "#### Rapports in CSV"
   ]
  },
  {
   "cell_type": "code",
   "execution_count": 21,
   "metadata": {},
   "outputs": [],
   "source": [
    "finalRapports.to_csv(\"Data/0_base_rapports.csv\", index=False, sep=\";\")"
   ]
  },
  {
   "cell_type": "code",
   "execution_count": 22,
   "metadata": {},
   "outputs": [],
   "source": [
    "reports_data = pd.read_csv('Data/0_base_rapports.csv', sep=\";\")"
   ]
  },
  {
   "attachments": {},
   "cell_type": "markdown",
   "metadata": {},
   "source": [
    "#### Rapports single spacing"
   ]
  },
  {
   "cell_type": "code",
   "execution_count": 23,
   "metadata": {},
   "outputs": [],
   "source": [
    "for k in range(len(list(reports_data['rapport']))):\n",
    "    reports_data['rapport'][k] = removeMultipleSpaces(reports_data['rapport'][k], replace=' ')"
   ]
  },
  {
   "cell_type": "code",
   "execution_count": 24,
   "metadata": {},
   "outputs": [],
   "source": [
    "reports_data.to_csv(\"Data/1_base_rapports_cleanSpacing.csv\", index=False, sep=\";\")"
   ]
  },
  {
   "cell_type": "code",
   "execution_count": 25,
   "metadata": {},
   "outputs": [],
   "source": [
    "reports_data = pd.read_csv('Data/1_base_rapports_cleanSpacing.csv', sep=\";\")"
   ]
  },
  {
   "attachments": {},
   "cell_type": "markdown",
   "metadata": {},
   "source": [
    "#### Rapports remove stop_words, punctuation"
   ]
  },
  {
   "cell_type": "code",
   "execution_count": 26,
   "metadata": {},
   "outputs": [],
   "source": [
    "def clean_document(document, stop_words):\n",
    "    doc = nlp(document.lower())\n",
    "    cleaned_doc = [token.lemma_ for token in doc if token.text not in stop_words]\n",
    "    return \" \".join(cleaned_doc)"
   ]
  },
  {
   "cell_type": "code",
   "execution_count": 27,
   "metadata": {},
   "outputs": [],
   "source": [
    "def getVocabFromCorpus(documents):\n",
    "    return list(set([word for sent in documents for word in sent.split(\" \")]))"
   ]
  },
  {
   "cell_type": "code",
   "execution_count": 28,
   "metadata": {},
   "outputs": [],
   "source": [
    "stop_words = list(nlp.Defaults.stop_words)"
   ]
  },
  {
   "cell_type": "code",
   "execution_count": 29,
   "metadata": {},
   "outputs": [],
   "source": [
    "#stop_words"
   ]
  },
  {
   "cell_type": "code",
   "execution_count": 30,
   "metadata": {},
   "outputs": [],
   "source": [
    "punct = [e for e in string.punctuation if e != '-' and e != '/']\n",
    "#punct"
   ]
  },
  {
   "cell_type": "code",
   "execution_count": 31,
   "metadata": {},
   "outputs": [],
   "source": [
    "stp_punct = set(stop_words + punct)"
   ]
  },
  {
   "cell_type": "code",
   "execution_count": 32,
   "metadata": {},
   "outputs": [],
   "source": [
    "corpus = [clean_document(doc, stp_punct) for doc in reports_data[\"rapport\"].tolist()]"
   ]
  },
  {
   "cell_type": "code",
   "execution_count": 33,
   "metadata": {},
   "outputs": [],
   "source": [
    "dict_corpus = {'id': reports_data['id'].tolist(), 'rapport': corpus}\n",
    "df_corpus = pd.DataFrame(dict_corpus)"
   ]
  },
  {
   "cell_type": "code",
   "execution_count": 34,
   "metadata": {},
   "outputs": [
    {
     "data": {
      "text/html": [
       "<div>\n",
       "<style scoped>\n",
       "    .dataframe tbody tr th:only-of-type {\n",
       "        vertical-align: middle;\n",
       "    }\n",
       "\n",
       "    .dataframe tbody tr th {\n",
       "        vertical-align: top;\n",
       "    }\n",
       "\n",
       "    .dataframe thead th {\n",
       "        text-align: right;\n",
       "    }\n",
       "</style>\n",
       "<table border=\"1\" class=\"dataframe\">\n",
       "  <thead>\n",
       "    <tr style=\"text-align: right;\">\n",
       "      <th></th>\n",
       "      <th>id</th>\n",
       "      <th>rapport</th>\n",
       "    </tr>\n",
       "  </thead>\n",
       "  <tbody>\n",
       "    <tr>\n",
       "      <th>0</th>\n",
       "      <td>2006_627</td>\n",
       "      <td>425093222 prgh 74052207 446315 3/14/1998 12:00...</td>\n",
       "    </tr>\n",
       "    <tr>\n",
       "      <th>1</th>\n",
       "      <td>2006_220</td>\n",
       "      <td>656225945 yc 76593195 2774375 01/19/2003 12:00...</td>\n",
       "    </tr>\n",
       "    <tr>\n",
       "      <th>2</th>\n",
       "      <td>2006_540</td>\n",
       "      <td>356529973 fih 2102647 14892/3n8v 481088 7/9/19...</td>\n",
       "    </tr>\n",
       "    <tr>\n",
       "      <th>3</th>\n",
       "      <td>2006_486</td>\n",
       "      <td>677168937 rwh 9049156 280494 763694 11/05/2001...</td>\n",
       "    </tr>\n",
       "    <tr>\n",
       "      <th>4</th>\n",
       "      <td>2006_535</td>\n",
       "      <td>405728860 fih 7150860 05849/1xpu 994032 1/3/19...</td>\n",
       "    </tr>\n",
       "  </tbody>\n",
       "</table>\n",
       "</div>"
      ],
      "text/plain": [
       "         id                                            rapport\n",
       "0  2006_627  425093222 prgh 74052207 446315 3/14/1998 12:00...\n",
       "1  2006_220  656225945 yc 76593195 2774375 01/19/2003 12:00...\n",
       "2  2006_540  356529973 fih 2102647 14892/3n8v 481088 7/9/19...\n",
       "3  2006_486  677168937 rwh 9049156 280494 763694 11/05/2001...\n",
       "4  2006_535  405728860 fih 7150860 05849/1xpu 994032 1/3/19..."
      ]
     },
     "execution_count": 34,
     "metadata": {},
     "output_type": "execute_result"
    }
   ],
   "source": [
    "df_corpus.head()"
   ]
  },
  {
   "cell_type": "code",
   "execution_count": 37,
   "metadata": {},
   "outputs": [],
   "source": [
    "df_corpus.to_csv(\"Data/2-1_cleaned_corpus_rapports.csv\", index=False, sep=\";\")"
   ]
  },
  {
   "cell_type": "code",
   "execution_count": null,
   "metadata": {},
   "outputs": [],
   "source": []
  }
 ],
 "metadata": {
  "kernelspec": {
   "display_name": "SogLab_venv",
   "language": "python",
   "name": "python3"
  },
  "language_info": {
   "codemirror_mode": {
    "name": "ipython",
    "version": 3
   },
   "file_extension": ".py",
   "mimetype": "text/x-python",
   "name": "python",
   "nbconvert_exporter": "python",
   "pygments_lexer": "ipython3",
   "version": "3.8.11"
  },
  "orig_nbformat": 4,
  "vscode": {
   "interpreter": {
    "hash": "e094d850592d944b38bb8613998c40358239c031dd4b8b0f43e97425e6f0245d"
   }
  }
 },
 "nbformat": 4,
 "nbformat_minor": 2
}
