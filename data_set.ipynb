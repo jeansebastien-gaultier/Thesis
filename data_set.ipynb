{
 "cells": [
  {
   "cell_type": "markdown",
   "id": "c1385b9f-2582-4dec-ad61-b29a6ce9e6f5",
   "metadata": {},
   "source": [
    "# Building a DataSet from the DATA\n",
    "\n",
    "The goal of this Jupyter Notebook is to extract in a dictionnary the textual aspect of each file, and associate it with an ID."
   ]
  },
  {
   "cell_type": "code",
   "execution_count": 1,
   "id": "bcabb9b2-9d07-43a5-b24c-696577bf74cd",
   "metadata": {},
   "outputs": [],
   "source": [
    "import functions\n",
    "import os\n",
    "import pandas as pd\n",
    "from xml.dom import minidom"
   ]
  },
  {
   "cell_type": "markdown",
   "id": "17b112d6-01b9-4c2f-a197-1601429b5c17",
   "metadata": {},
   "source": [
    "## 2006 - Smoking\n",
    ".xml"
   ]
  },
  {
   "cell_type": "code",
   "execution_count": 2,
   "id": "0a287f35-3406-4f0a-bfde-c299896e8294",
   "metadata": {},
   "outputs": [],
   "source": [
    "root_06 = \"Data/2006\"\n",
    "list_of_txt_06 = functions.search_for_files(root_06, \".xml\")"
   ]
  },
  {
   "cell_type": "code",
   "execution_count": 3,
   "id": "bd4331be-81be-4b8b-9cb3-fe33ab95bbf6",
   "metadata": {},
   "outputs": [],
   "source": [
    "EHR_06 = {}\n",
    "for item in list_of_txt_06:\n",
    "    file = minidom.parse(item)\n",
    "    text = file.getElementsByTagName(\"TEXT\")\n",
    "    ID = file.getElementsByTagName(\"RECORD\")\n",
    "    for txt, idx in zip(text, ID):\n",
    "        ls = []\n",
    "        for element in txt.childNodes:\n",
    "            if type(element).attributes == None:\n",
    "                ls.append(element.data)\n",
    "            else:\n",
    "                ls.append(element.firstChild.data)\n",
    "        EHR_06[f'06_{int(idx.attributes[\"ID\"].value)}'] = \"\".join(ls)"
   ]
  },
  {
   "cell_type": "code",
   "execution_count": 4,
   "id": "4c6bdeb6-ea2d-4b6c-94d8-2cf4d3959955",
   "metadata": {},
   "outputs": [
    {
     "data": {
      "text/html": [
       "<div>\n",
       "<style scoped>\n",
       "    .dataframe tbody tr th:only-of-type {\n",
       "        vertical-align: middle;\n",
       "    }\n",
       "\n",
       "    .dataframe tbody tr th {\n",
       "        vertical-align: top;\n",
       "    }\n",
       "\n",
       "    .dataframe thead th {\n",
       "        text-align: right;\n",
       "    }\n",
       "</style>\n",
       "<table border=\"1\" class=\"dataframe\">\n",
       "  <thead>\n",
       "    <tr style=\"text-align: right;\">\n",
       "      <th></th>\n",
       "      <th>0</th>\n",
       "    </tr>\n",
       "  </thead>\n",
       "  <tbody>\n",
       "    <tr>\n",
       "      <th>06_1</th>\n",
       "      <td>\\n726132880\\nDH\\n9749099\\n947532\\n7473533\\n12/...</td>\n",
       "    </tr>\n",
       "    <tr>\n",
       "      <th>06_10</th>\n",
       "      <td>\\n688127038 EH\\n47449520\\n204512\\n3/5/2002 12:...</td>\n",
       "    </tr>\n",
       "    <tr>\n",
       "      <th>06_100</th>\n",
       "      <td>\\n214735961 DH\\n9791919\\n379039\\n549614\\n9/9/2...</td>\n",
       "    </tr>\n",
       "    <tr>\n",
       "      <th>06_101</th>\n",
       "      <td>\\n070203832 DH\\n8446543\\n678338\\n6804475\\n4/2/...</td>\n",
       "    </tr>\n",
       "    <tr>\n",
       "      <th>06_102</th>\n",
       "      <td>\\n            591265658\\n            EH\\n     ...</td>\n",
       "    </tr>\n",
       "    <tr>\n",
       "      <th>...</th>\n",
       "      <td>...</td>\n",
       "    </tr>\n",
       "    <tr>\n",
       "      <th>06_94</th>\n",
       "      <td>\\n            035838124\\n            EH\\n     ...</td>\n",
       "    </tr>\n",
       "    <tr>\n",
       "      <th>06_95</th>\n",
       "      <td>\\n            011244576\\n            DH\\n     ...</td>\n",
       "    </tr>\n",
       "    <tr>\n",
       "      <th>06_96</th>\n",
       "      <td>\\n            293329379\\n            EH\\n     ...</td>\n",
       "    </tr>\n",
       "    <tr>\n",
       "      <th>06_98</th>\n",
       "      <td>\\n018639296 DH\\n0684468\\n898948\\n816644\\n08/26...</td>\n",
       "    </tr>\n",
       "    <tr>\n",
       "      <th>06_99</th>\n",
       "      <td>\\n788268693 DH\\n7258512\\n020586\\n0831510\\n4/30...</td>\n",
       "    </tr>\n",
       "  </tbody>\n",
       "</table>\n",
       "<p>913 rows × 1 columns</p>\n",
       "</div>"
      ],
      "text/plain": [
       "                                                        0\n",
       "06_1    \\n726132880\\nDH\\n9749099\\n947532\\n7473533\\n12/...\n",
       "06_10   \\n688127038 EH\\n47449520\\n204512\\n3/5/2002 12:...\n",
       "06_100  \\n214735961 DH\\n9791919\\n379039\\n549614\\n9/9/2...\n",
       "06_101  \\n070203832 DH\\n8446543\\n678338\\n6804475\\n4/2/...\n",
       "06_102  \\n            591265658\\n            EH\\n     ...\n",
       "...                                                   ...\n",
       "06_94   \\n            035838124\\n            EH\\n     ...\n",
       "06_95   \\n            011244576\\n            DH\\n     ...\n",
       "06_96   \\n            293329379\\n            EH\\n     ...\n",
       "06_98   \\n018639296 DH\\n0684468\\n898948\\n816644\\n08/26...\n",
       "06_99   \\n788268693 DH\\n7258512\\n020586\\n0831510\\n4/30...\n",
       "\n",
       "[913 rows x 1 columns]"
      ]
     },
     "execution_count": 4,
     "metadata": {},
     "output_type": "execute_result"
    }
   ],
   "source": [
    "df_06 = pd.DataFrame.from_dict(EHR_06, orient=\"index\").sort_index()\n",
    "df_06"
   ]
  },
  {
   "cell_type": "markdown",
   "id": "34a4ff6c-7196-4378-aefc-d870fba183fe",
   "metadata": {},
   "source": [
    "## 2008 - Obesity\n",
    ".xml"
   ]
  },
  {
   "cell_type": "code",
   "execution_count": 5,
   "id": "6926aead-33a9-42ac-897a-1135cf100a89",
   "metadata": {},
   "outputs": [],
   "source": [
    "root_08 = \"Data/2008\"\n",
    "list_of_txt_08 = functions.search_for_files(root_08, \".xml\")"
   ]
  },
  {
   "cell_type": "code",
   "execution_count": 6,
   "id": "01da9d2c-f5f0-4a73-beda-94fe072890cf",
   "metadata": {},
   "outputs": [],
   "source": [
    "EHR_08 = {}\n",
    "\n",
    "for item in list_of_txt_08:\n",
    "    file = minidom.parse(item)\n",
    "    text = file.getElementsByTagName(\"text\")\n",
    "    ID = file.getElementsByTagName(\"doc\")\n",
    "    for txt, idx in zip(text, ID):\n",
    "        # print(idx.attributes['id'].value,)\n",
    "        EHR_08[f\"08_{idx.attributes['id'].value}\"] = txt.firstChild.data"
   ]
  },
  {
   "cell_type": "code",
   "execution_count": 7,
   "id": "36b4fabe-33a7-4b23-9656-a6b3928695da",
   "metadata": {},
   "outputs": [
    {
     "name": "stdout",
     "output_type": "stream",
     "text": [
      "Data/2008/obesity_patient_records_training.xml 611\n"
     ]
    }
   ],
   "source": [
    "EHR_08_1 = {}\n",
    "item = list_of_txt_08[0]\n",
    "file = minidom.parse(item)\n",
    "text = file.getElementsByTagName(\"text\")\n",
    "ID = file.getElementsByTagName(\"doc\")\n",
    "for txt, idx in zip(text, ID):\n",
    "    # print(idx.attributes['id'].value,)\n",
    "    EHR_08_1[f\"08_{idx.attributes['id'].value}\"] = txt.firstChild.data\n",
    "\n",
    "print(item, len(EHR_08_1))"
   ]
  },
  {
   "cell_type": "code",
   "execution_count": 8,
   "id": "e6087cca-a8cc-42f1-943a-ea5222bce2fe",
   "metadata": {},
   "outputs": [
    {
     "name": "stdout",
     "output_type": "stream",
     "text": [
      "Data/2008/obesity_patient_records_test.xml 507\n"
     ]
    }
   ],
   "source": [
    "EHR_08_2 = {}\n",
    "item = list_of_txt_08[1]\n",
    "file = minidom.parse(item)\n",
    "text = file.getElementsByTagName(\"text\")\n",
    "ID = file.getElementsByTagName(\"doc\")\n",
    "for txt, idx in zip(text, ID):\n",
    "    # print(idx.attributes['id'].value,)\n",
    "    EHR_08_2[f\"08_{idx.attributes['id'].value}\"] = txt.firstChild.data\n",
    "\n",
    "print(item, len(EHR_08_2))"
   ]
  },
  {
   "cell_type": "code",
   "execution_count": 9,
   "id": "e3fe1438-a1f5-49da-8b7b-ee59f649d2c2",
   "metadata": {},
   "outputs": [
    {
     "name": "stdout",
     "output_type": "stream",
     "text": [
      "Data/2008/obesity_patient_records_training2.xml 119\n"
     ]
    }
   ],
   "source": [
    "EHR_08_3 = {}\n",
    "item = list_of_txt_08[2]\n",
    "file = minidom.parse(item)\n",
    "text = file.getElementsByTagName(\"text\")\n",
    "ID = file.getElementsByTagName(\"doc\")\n",
    "for txt, idx in zip(text, ID):\n",
    "    # print(idx.attributes['id'].value,)\n",
    "    EHR_08_3[f\"08_{idx.attributes['id'].value}\"] = txt.firstChild.data\n",
    "\n",
    "print(item, len(EHR_08_3))"
   ]
  },
  {
   "cell_type": "code",
   "execution_count": 10,
   "id": "e0ad27b7-aa8b-40fd-9f65-4665bd31b6aa",
   "metadata": {},
   "outputs": [
    {
     "data": {
      "text/html": [
       "<div>\n",
       "<style scoped>\n",
       "    .dataframe tbody tr th:only-of-type {\n",
       "        vertical-align: middle;\n",
       "    }\n",
       "\n",
       "    .dataframe tbody tr th {\n",
       "        vertical-align: top;\n",
       "    }\n",
       "\n",
       "    .dataframe thead th {\n",
       "        text-align: right;\n",
       "    }\n",
       "</style>\n",
       "<table border=\"1\" class=\"dataframe\">\n",
       "  <thead>\n",
       "    <tr style=\"text-align: right;\">\n",
       "      <th></th>\n",
       "      <th>0</th>\n",
       "    </tr>\n",
       "  </thead>\n",
       "  <tbody>\n",
       "    <tr>\n",
       "      <th>08_1</th>\n",
       "      <td>\\n490646815 | WMC | 31530471 | | 9629480 | 11/...</td>\n",
       "    </tr>\n",
       "    <tr>\n",
       "      <th>08_10</th>\n",
       "      <td>\\n741814471 | PREMC | 24243765 | | 631730 | 7/...</td>\n",
       "    </tr>\n",
       "    <tr>\n",
       "      <th>08_100</th>\n",
       "      <td>\\n941137536 | PH | 03273863 | | 268606 | 6/22/...</td>\n",
       "    </tr>\n",
       "    <tr>\n",
       "      <th>08_1000</th>\n",
       "      <td>\\n347003880 | VH | 35445708 | | 276736 | 7/20/...</td>\n",
       "    </tr>\n",
       "    <tr>\n",
       "      <th>08_1001</th>\n",
       "      <td>\\n358126908 | WR | 95072926 | | 306133 | 2/20/...</td>\n",
       "    </tr>\n",
       "    <tr>\n",
       "      <th>...</th>\n",
       "      <td>...</td>\n",
       "    </tr>\n",
       "    <tr>\n",
       "      <th>08_995</th>\n",
       "      <td>\\n607911354 | CCHH | 59684211 | | 793855 | 7/5...</td>\n",
       "    </tr>\n",
       "    <tr>\n",
       "      <th>08_996</th>\n",
       "      <td>\\n725174746 | NTH | 87507495 | | 4438746 | 7/6...</td>\n",
       "    </tr>\n",
       "    <tr>\n",
       "      <th>08_997</th>\n",
       "      <td>\\n076101747 | DBH | 78126590 | | 2906251 | 1/1...</td>\n",
       "    </tr>\n",
       "    <tr>\n",
       "      <th>08_998</th>\n",
       "      <td>\\n616073273 | RH | 32035293 | | 681980 | 6/3/1...</td>\n",
       "    </tr>\n",
       "    <tr>\n",
       "      <th>08_999</th>\n",
       "      <td>\\n043398100 | VMC | 31544522 | | 056449 | 2/21...</td>\n",
       "    </tr>\n",
       "  </tbody>\n",
       "</table>\n",
       "<p>1237 rows × 1 columns</p>\n",
       "</div>"
      ],
      "text/plain": [
       "                                                         0\n",
       "08_1     \\n490646815 | WMC | 31530471 | | 9629480 | 11/...\n",
       "08_10    \\n741814471 | PREMC | 24243765 | | 631730 | 7/...\n",
       "08_100   \\n941137536 | PH | 03273863 | | 268606 | 6/22/...\n",
       "08_1000  \\n347003880 | VH | 35445708 | | 276736 | 7/20/...\n",
       "08_1001  \\n358126908 | WR | 95072926 | | 306133 | 2/20/...\n",
       "...                                                    ...\n",
       "08_995   \\n607911354 | CCHH | 59684211 | | 793855 | 7/5...\n",
       "08_996   \\n725174746 | NTH | 87507495 | | 4438746 | 7/6...\n",
       "08_997   \\n076101747 | DBH | 78126590 | | 2906251 | 1/1...\n",
       "08_998   \\n616073273 | RH | 32035293 | | 681980 | 6/3/1...\n",
       "08_999   \\n043398100 | VMC | 31544522 | | 056449 | 2/21...\n",
       "\n",
       "[1237 rows x 1 columns]"
      ]
     },
     "execution_count": 10,
     "metadata": {},
     "output_type": "execute_result"
    }
   ],
   "source": [
    "df_08 = pd.DataFrame.from_dict(EHR_08, orient=\"index\").sort_index()\n",
    "df_08"
   ]
  },
  {
   "cell_type": "markdown",
   "id": "6e35b476-5596-417f-8b57-3bc6819a249a",
   "metadata": {},
   "source": [
    "## 2009 - Medication\n",
    ".txt"
   ]
  },
  {
   "cell_type": "code",
   "execution_count": 11,
   "id": "7c89549f-842f-4045-98e2-94bd18ec1e75",
   "metadata": {},
   "outputs": [],
   "source": [
    "# Get all the files\n",
    "# root_09 = \"Data/2009\"\n",
    "# list_of_txt_09 = functions.search_for_files(root_09, '.txt')"
   ]
  },
  {
   "cell_type": "code",
   "execution_count": 12,
   "id": "87a8b0c7-0aa0-429a-9141-0f4d7c5b4a4d",
   "metadata": {},
   "outputs": [],
   "source": [
    "# Get their record ID and put the in a dictionnary\n",
    "# EHR_09 = {}\n",
    "\n",
    "# for file in list_of_txt_09:\n",
    "#     with open(file, encoding=\"utf-8-sig\") as f:\n",
    "#         lines = f.readlines()\n",
    "#     ID = lines[0].split(' ')[1][1:-1]\n",
    "#     EHR_09[f'09_{ID}'] = ''.join(lines)"
   ]
  },
  {
   "cell_type": "code",
   "execution_count": 13,
   "id": "756c1cc1-df53-415e-ba22-0b3bfd4b8248",
   "metadata": {},
   "outputs": [],
   "source": [
    "# df_09 = pd.DataFrame.from_dict(EHR_09, orient = 'index').sort_index()\n",
    "# df_09"
   ]
  },
  {
   "cell_type": "markdown",
   "id": "19d60980-df1d-4a50-9037-ac751728becf",
   "metadata": {},
   "source": [
    "## 2009 - BIS\n",
    ".txt"
   ]
  },
  {
   "cell_type": "code",
   "execution_count": 14,
   "id": "7c9f4307-8ba5-4d3a-8c6b-3894598aac94",
   "metadata": {},
   "outputs": [
    {
     "data": {
      "text/plain": [
       "1249"
      ]
     },
     "execution_count": 14,
     "metadata": {},
     "output_type": "execute_result"
    }
   ],
   "source": [
    "# Get all the files\n",
    "root_09_bis = \"Data/2009_Bis\"\n",
    "list_of_txt_09_bis = functions.search_for_files(root_09_bis, \".txt\")\n",
    "len(list_of_txt_09_bis)"
   ]
  },
  {
   "cell_type": "code",
   "execution_count": 15,
   "id": "54220292-aeb1-4ad2-9484-e3d8dbeacced",
   "metadata": {},
   "outputs": [],
   "source": [
    "# Get their record ID and put the in a dictionnary\n",
    "EHR_09_bis = {}\n",
    "\n",
    "for file in list_of_txt_09_bis:\n",
    "    with open(file, encoding=\"utf-8-sig\") as f:\n",
    "        lines = f.readlines()\n",
    "    ID = lines[0].split(\" \")[1][1:-1]\n",
    "    EHR_09_bis[f\"09_{ID}\"] = \"\".join(lines)"
   ]
  },
  {
   "cell_type": "code",
   "execution_count": 16,
   "id": "8b65e4b5-1060-46e5-ac25-c43f30f1bbab",
   "metadata": {},
   "outputs": [
    {
     "data": {
      "text/html": [
       "<div>\n",
       "<style scoped>\n",
       "    .dataframe tbody tr th:only-of-type {\n",
       "        vertical-align: middle;\n",
       "    }\n",
       "\n",
       "    .dataframe tbody tr th {\n",
       "        vertical-align: top;\n",
       "    }\n",
       "\n",
       "    .dataframe thead th {\n",
       "        text-align: right;\n",
       "    }\n",
       "</style>\n",
       "<table border=\"1\" class=\"dataframe\">\n",
       "  <thead>\n",
       "    <tr style=\"text-align: right;\">\n",
       "      <th></th>\n",
       "      <th>0</th>\n",
       "    </tr>\n",
       "  </thead>\n",
       "  <tbody>\n",
       "    <tr>\n",
       "      <th>09_101427</th>\n",
       "      <td>RECORD #101427\\n\\n\\n608603221 | OC | 89309950 ...</td>\n",
       "    </tr>\n",
       "    <tr>\n",
       "      <th>09_101994</th>\n",
       "      <td>RECORD #101994\\n\\n\\n608259760 | LUMC | 0445634...</td>\n",
       "    </tr>\n",
       "    <tr>\n",
       "      <th>09_10364</th>\n",
       "      <td>RECORD #10364\\n899267981 | G | 38407554 | | 32...</td>\n",
       "    </tr>\n",
       "    <tr>\n",
       "      <th>09_104351</th>\n",
       "      <td>RECORD #104351\\n\\n\\n435445425 | CMC | 28920937...</td>\n",
       "    </tr>\n",
       "    <tr>\n",
       "      <th>09_104991</th>\n",
       "      <td>RECORD #104991\\n180806194 | BHH | 71662715 | |...</td>\n",
       "    </tr>\n",
       "    <tr>\n",
       "      <th>...</th>\n",
       "      <td>...</td>\n",
       "    </tr>\n",
       "    <tr>\n",
       "      <th>09_995648</th>\n",
       "      <td>RECORD #995648\\n\\n\\n424008628 | RMPMC | 993530...</td>\n",
       "    </tr>\n",
       "    <tr>\n",
       "      <th>09_995723</th>\n",
       "      <td>RECORD #995723\\n\\n\\n042186535 | SH | 79373526 ...</td>\n",
       "    </tr>\n",
       "    <tr>\n",
       "      <th>09_996917</th>\n",
       "      <td>RECORD #996917\\n\\n\\n926105855 | W | 27269455 |...</td>\n",
       "    </tr>\n",
       "    <tr>\n",
       "      <th>09_99703</th>\n",
       "      <td>RECORD #99703\\n\\n\\n406796482 | VLPNCH | 388926...</td>\n",
       "    </tr>\n",
       "    <tr>\n",
       "      <th>09_997311</th>\n",
       "      <td>RECORD #997311\\n\\n\\n505128233 | RH | 36002733 ...</td>\n",
       "    </tr>\n",
       "  </tbody>\n",
       "</table>\n",
       "<p>1249 rows × 1 columns</p>\n",
       "</div>"
      ],
      "text/plain": [
       "                                                           0\n",
       "09_101427  RECORD #101427\\n\\n\\n608603221 | OC | 89309950 ...\n",
       "09_101994  RECORD #101994\\n\\n\\n608259760 | LUMC | 0445634...\n",
       "09_10364   RECORD #10364\\n899267981 | G | 38407554 | | 32...\n",
       "09_104351  RECORD #104351\\n\\n\\n435445425 | CMC | 28920937...\n",
       "09_104991  RECORD #104991\\n180806194 | BHH | 71662715 | |...\n",
       "...                                                      ...\n",
       "09_995648  RECORD #995648\\n\\n\\n424008628 | RMPMC | 993530...\n",
       "09_995723  RECORD #995723\\n\\n\\n042186535 | SH | 79373526 ...\n",
       "09_996917  RECORD #996917\\n\\n\\n926105855 | W | 27269455 |...\n",
       "09_99703   RECORD #99703\\n\\n\\n406796482 | VLPNCH | 388926...\n",
       "09_997311  RECORD #997311\\n\\n\\n505128233 | RH | 36002733 ...\n",
       "\n",
       "[1249 rows x 1 columns]"
      ]
     },
     "execution_count": 16,
     "metadata": {},
     "output_type": "execute_result"
    }
   ],
   "source": [
    "df_09_bis = pd.DataFrame.from_dict(EHR_09_bis, orient=\"index\").sort_index()\n",
    "df_09_bis"
   ]
  },
  {
   "cell_type": "markdown",
   "id": "c4e1a033-5842-4f11-bbb0-84bcd5eb6946",
   "metadata": {},
   "source": [
    "## 2010 - Relations\n",
    ".txt"
   ]
  },
  {
   "cell_type": "code",
   "execution_count": 17,
   "id": "b8e657ab-1e03-4a71-a5c5-1eba8d78fee3",
   "metadata": {},
   "outputs": [],
   "source": [
    "# Get all the files\n",
    "root_10 = \"Data/2010\"\n",
    "list_of_txt_10 = functions.search_for_files(root_10, \".txt\")"
   ]
  },
  {
   "cell_type": "code",
   "execution_count": 18,
   "id": "38eec579-3edd-41a6-8e97-101b56a1b42b",
   "metadata": {},
   "outputs": [],
   "source": [
    "# Put it into a dictionnary and get the ID as the name of the file\n",
    "EHR_10 = {}\n",
    "\n",
    "for file in list_of_txt_10:\n",
    "    with open(file, encoding=\"utf-8-sig\") as f:\n",
    "        lines = f.readlines()\n",
    "    ID = file.split(\"/\")[-1][:-4]\n",
    "    EHR_10[f\"10_{ID}\"] = \"\".join(lines)"
   ]
  },
  {
   "cell_type": "code",
   "execution_count": 19,
   "id": "ee371c88-67eb-41d0-bacb-3e12555c078d",
   "metadata": {},
   "outputs": [
    {
     "data": {
      "text/html": [
       "<div>\n",
       "<style scoped>\n",
       "    .dataframe tbody tr th:only-of-type {\n",
       "        vertical-align: middle;\n",
       "    }\n",
       "\n",
       "    .dataframe tbody tr th {\n",
       "        vertical-align: top;\n",
       "    }\n",
       "\n",
       "    .dataframe thead th {\n",
       "        text-align: right;\n",
       "    }\n",
       "</style>\n",
       "<table border=\"1\" class=\"dataframe\">\n",
       "  <thead>\n",
       "    <tr style=\"text-align: right;\">\n",
       "      <th></th>\n",
       "      <th>0</th>\n",
       "    </tr>\n",
       "  </thead>\n",
       "  <tbody>\n",
       "    <tr>\n",
       "      <th>10_558603822</th>\n",
       "      <td>558603822\\nGH\\n38690340\\n9/16/2004 12:00:00 AM...</td>\n",
       "    </tr>\n",
       "    <tr>\n",
       "      <th>10_134300717</th>\n",
       "      <td>134300717\\nFIH\\n9099750\\n22777/5p0t\\n355178\\n2...</td>\n",
       "    </tr>\n",
       "    <tr>\n",
       "      <th>10_172897359</th>\n",
       "      <td>172897359\\nFIH\\n8244699\\n319757\\n99267\\n7/13/1...</td>\n",
       "    </tr>\n",
       "    <tr>\n",
       "      <th>10_641557794_WGH</th>\n",
       "      <td>641557794 WGH\\n1460214\\n715884\\n957382\\n5/29/2...</td>\n",
       "    </tr>\n",
       "    <tr>\n",
       "      <th>10_463067067</th>\n",
       "      <td>463067067\\nFIH\\n7339944\\n31403/p8v6\\n363828\\n1...</td>\n",
       "    </tr>\n",
       "    <tr>\n",
       "      <th>...</th>\n",
       "      <td>...</td>\n",
       "    </tr>\n",
       "    <tr>\n",
       "      <th>10_0053</th>\n",
       "      <td>Admission Date :\\n2014-05-08\\nDischarge Date :...</td>\n",
       "    </tr>\n",
       "    <tr>\n",
       "      <th>10_0437</th>\n",
       "      <td>768768524\\nPRGH\\n91287406\\n057469\\n6/19/1998 1...</td>\n",
       "    </tr>\n",
       "    <tr>\n",
       "      <th>10_0257</th>\n",
       "      <td>648746074\\nCTMC\\n84164942\\n960919\\n9/7/1992 12...</td>\n",
       "    </tr>\n",
       "    <tr>\n",
       "      <th>10_0282</th>\n",
       "      <td>395715290\\nPUOMC\\n2681723\\n64704/9r71\\n946667\\...</td>\n",
       "    </tr>\n",
       "    <tr>\n",
       "      <th>10_0149</th>\n",
       "      <td>Admission Date :\\n2019-03-29\\nDischarge Date :...</td>\n",
       "    </tr>\n",
       "  </tbody>\n",
       "</table>\n",
       "<p>693 rows × 1 columns</p>\n",
       "</div>"
      ],
      "text/plain": [
       "                                                                  0\n",
       "10_558603822      558603822\\nGH\\n38690340\\n9/16/2004 12:00:00 AM...\n",
       "10_134300717      134300717\\nFIH\\n9099750\\n22777/5p0t\\n355178\\n2...\n",
       "10_172897359      172897359\\nFIH\\n8244699\\n319757\\n99267\\n7/13/1...\n",
       "10_641557794_WGH  641557794 WGH\\n1460214\\n715884\\n957382\\n5/29/2...\n",
       "10_463067067      463067067\\nFIH\\n7339944\\n31403/p8v6\\n363828\\n1...\n",
       "...                                                             ...\n",
       "10_0053           Admission Date :\\n2014-05-08\\nDischarge Date :...\n",
       "10_0437           768768524\\nPRGH\\n91287406\\n057469\\n6/19/1998 1...\n",
       "10_0257           648746074\\nCTMC\\n84164942\\n960919\\n9/7/1992 12...\n",
       "10_0282           395715290\\nPUOMC\\n2681723\\n64704/9r71\\n946667\\...\n",
       "10_0149           Admission Date :\\n2019-03-29\\nDischarge Date :...\n",
       "\n",
       "[693 rows x 1 columns]"
      ]
     },
     "execution_count": 19,
     "metadata": {},
     "output_type": "execute_result"
    }
   ],
   "source": [
    "df_10 = pd.DataFrame.from_dict(EHR_10, orient=\"index\")\n",
    "df_10"
   ]
  },
  {
   "cell_type": "markdown",
   "id": "e7683281-69ad-4767-859d-6569fd4bba50",
   "metadata": {},
   "source": [
    "## 2011 - Relations\n",
    ".txt"
   ]
  },
  {
   "cell_type": "code",
   "execution_count": 20,
   "id": "9b834cff-34c7-40de-82e3-477aafb1df50",
   "metadata": {},
   "outputs": [],
   "source": [
    "# Get all the files\n",
    "root_11 = \"Data/2011\"\n",
    "list_of_txt_11 = functions.search_for_files(root_11, \".txt\")"
   ]
  },
  {
   "cell_type": "code",
   "execution_count": 21,
   "id": "023d1b2e-5187-419a-b93e-aec4d6e4b01a",
   "metadata": {},
   "outputs": [],
   "source": [
    "EHR_11 = {}\n",
    "\n",
    "for file in list_of_txt_11:\n",
    "    with open(file, encoding=\"utf-8-sig\") as f:\n",
    "        lines = f.readlines()\n",
    "    ID = file.split(\"/\")[-1].split(\"-\")[-1][:-4]\n",
    "    EHR_11[f\"11_{ID}\"] = \"\".join(lines)"
   ]
  },
  {
   "cell_type": "code",
   "execution_count": 22,
   "id": "f7c8149e-45bd-49b3-9e9e-1128dc00e8d0",
   "metadata": {},
   "outputs": [
    {
     "data": {
      "text/html": [
       "<div>\n",
       "<style scoped>\n",
       "    .dataframe tbody tr th:only-of-type {\n",
       "        vertical-align: middle;\n",
       "    }\n",
       "\n",
       "    .dataframe tbody tr th {\n",
       "        vertical-align: top;\n",
       "    }\n",
       "\n",
       "    .dataframe thead th {\n",
       "        text-align: right;\n",
       "    }\n",
       "</style>\n",
       "<table border=\"1\" class=\"dataframe\">\n",
       "  <thead>\n",
       "    <tr style=\"text-align: right;\">\n",
       "      <th></th>\n",
       "      <th>0</th>\n",
       "    </tr>\n",
       "  </thead>\n",
       "  <tbody>\n",
       "    <tr>\n",
       "      <th>11_1</th>\n",
       "      <td>004668411\\nCTMC\\n68299235\\n763052\\n9/29/1993 1...</td>\n",
       "    </tr>\n",
       "    <tr>\n",
       "      <th>11_101</th>\n",
       "      <td>143484920\\nGH\\n57104201\\n7/10/1991 12:00:00 AM...</td>\n",
       "    </tr>\n",
       "    <tr>\n",
       "      <th>11_102</th>\n",
       "      <td>932057504 DH\\n5898830\\n809200\\n356490\\n11/25/2...</td>\n",
       "    </tr>\n",
       "    <tr>\n",
       "      <th>11_103</th>\n",
       "      <td>Admission Date :\\n2013-10-29\\nDischarge Date :...</td>\n",
       "    </tr>\n",
       "    <tr>\n",
       "      <th>11_106</th>\n",
       "      <td>158656269\\nCTMC\\n02692537\\n322365\\n7/8/2000 12...</td>\n",
       "    </tr>\n",
       "    <tr>\n",
       "      <th>...</th>\n",
       "      <td>...</td>\n",
       "    </tr>\n",
       "    <tr>\n",
       "      <th>11_92</th>\n",
       "      <td>915093496 RWH\\n0802338\\n045989\\n2923113\\n12/13...</td>\n",
       "    </tr>\n",
       "    <tr>\n",
       "      <th>11_93</th>\n",
       "      <td>Admission Date :\\n2013-02-12\\nDischarge Date :...</td>\n",
       "    </tr>\n",
       "    <tr>\n",
       "      <th>11_96</th>\n",
       "      <td>139964603\\nNVH\\n40876531\\n11/17/2003 12:00:00 ...</td>\n",
       "    </tr>\n",
       "    <tr>\n",
       "      <th>11_97</th>\n",
       "      <td>917989835 RWH\\n5427551\\n405831\\n9660879\\n01/09...</td>\n",
       "    </tr>\n",
       "    <tr>\n",
       "      <th>11_98</th>\n",
       "      <td>Admission Date :\\n2015-09-16\\nDischarge Date :...</td>\n",
       "    </tr>\n",
       "  </tbody>\n",
       "</table>\n",
       "<p>424 rows × 1 columns</p>\n",
       "</div>"
      ],
      "text/plain": [
       "                                                        0\n",
       "11_1    004668411\\nCTMC\\n68299235\\n763052\\n9/29/1993 1...\n",
       "11_101  143484920\\nGH\\n57104201\\n7/10/1991 12:00:00 AM...\n",
       "11_102  932057504 DH\\n5898830\\n809200\\n356490\\n11/25/2...\n",
       "11_103  Admission Date :\\n2013-10-29\\nDischarge Date :...\n",
       "11_106  158656269\\nCTMC\\n02692537\\n322365\\n7/8/2000 12...\n",
       "...                                                   ...\n",
       "11_92   915093496 RWH\\n0802338\\n045989\\n2923113\\n12/13...\n",
       "11_93   Admission Date :\\n2013-02-12\\nDischarge Date :...\n",
       "11_96   139964603\\nNVH\\n40876531\\n11/17/2003 12:00:00 ...\n",
       "11_97   917989835 RWH\\n5427551\\n405831\\n9660879\\n01/09...\n",
       "11_98   Admission Date :\\n2015-09-16\\nDischarge Date :...\n",
       "\n",
       "[424 rows x 1 columns]"
      ]
     },
     "execution_count": 22,
     "metadata": {},
     "output_type": "execute_result"
    }
   ],
   "source": [
    "df_11 = pd.DataFrame.from_dict(EHR_11, orient=\"index\").sort_index()\n",
    "df_11"
   ]
  },
  {
   "cell_type": "markdown",
   "id": "b85e2785-81fb-43d4-a069-85093e7a98d9",
   "metadata": {},
   "source": [
    "## 2012 - Temporal\n",
    ".txt"
   ]
  },
  {
   "cell_type": "code",
   "execution_count": 23,
   "id": "2286860e-e982-4edf-bdbe-3d586714f425",
   "metadata": {},
   "outputs": [],
   "source": [
    "# Get all the files\n",
    "root_12 = \"Data/2012\"\n",
    "list_of_txt_12 = functions.search_for_files(root_12, \".txt\")"
   ]
  },
  {
   "cell_type": "code",
   "execution_count": 24,
   "id": "7b277688-db67-4728-8adc-de3dae36e072",
   "metadata": {},
   "outputs": [],
   "source": [
    "EHR_12 = {}\n",
    "\n",
    "for file in list_of_txt_12:\n",
    "    with open(file, encoding=\"utf-8-sig\") as f:\n",
    "        lines = f.readlines()\n",
    "    ID = file.split(\"/\")[-1].split(\".\")[0]\n",
    "    EHR_12[f\"12_{ID}\"] = \"\".join(lines)"
   ]
  },
  {
   "cell_type": "code",
   "execution_count": 25,
   "id": "0bc2f49e-acdf-4a2d-8b79-6630f37d07a7",
   "metadata": {},
   "outputs": [
    {
     "data": {
      "text/html": [
       "<div>\n",
       "<style scoped>\n",
       "    .dataframe tbody tr th:only-of-type {\n",
       "        vertical-align: middle;\n",
       "    }\n",
       "\n",
       "    .dataframe tbody tr th {\n",
       "        vertical-align: top;\n",
       "    }\n",
       "\n",
       "    .dataframe thead th {\n",
       "        text-align: right;\n",
       "    }\n",
       "</style>\n",
       "<table border=\"1\" class=\"dataframe\">\n",
       "  <thead>\n",
       "    <tr style=\"text-align: right;\">\n",
       "      <th></th>\n",
       "      <th>0</th>\n",
       "    </tr>\n",
       "  </thead>\n",
       "  <tbody>\n",
       "    <tr>\n",
       "      <th>12_1</th>\n",
       "      <td>Admission Date :\\n09/29/1993\\nDischarge Date :...</td>\n",
       "    </tr>\n",
       "    <tr>\n",
       "      <th>12_101</th>\n",
       "      <td>Admission Date :\\n07/10/1991\\nDischarge Date :...</td>\n",
       "    </tr>\n",
       "    <tr>\n",
       "      <th>12_103</th>\n",
       "      <td>Admission Date :\\n2013-10-29\\nDischarge Date :...</td>\n",
       "    </tr>\n",
       "    <tr>\n",
       "      <th>12_107</th>\n",
       "      <td>ADMISSION DATE :\\n02/01/2000\\nDISCHARGE DATE :...</td>\n",
       "    </tr>\n",
       "    <tr>\n",
       "      <th>12_108</th>\n",
       "      <td>Admission Date :\\n2020-03-11\\nDischarge Date :...</td>\n",
       "    </tr>\n",
       "    <tr>\n",
       "      <th>...</th>\n",
       "      <td>...</td>\n",
       "    </tr>\n",
       "    <tr>\n",
       "      <th>12_88</th>\n",
       "      <td>Admission Date :\\n2012-06-07\\nDischarge Date :...</td>\n",
       "    </tr>\n",
       "    <tr>\n",
       "      <th>12_92</th>\n",
       "      <td>ADMISSION DATE :\\n12/13/2002\\nDISCHARGE DATE :...</td>\n",
       "    </tr>\n",
       "    <tr>\n",
       "      <th>12_93</th>\n",
       "      <td>Admission Date :\\n2013-02-12\\nDischarge Date :...</td>\n",
       "    </tr>\n",
       "    <tr>\n",
       "      <th>12_96</th>\n",
       "      <td>Admission Date :\\n11/17/2003\\nDischarge Date :...</td>\n",
       "    </tr>\n",
       "    <tr>\n",
       "      <th>12_98</th>\n",
       "      <td>Admission Date :\\n2015-09-16\\nDischarge Date :...</td>\n",
       "    </tr>\n",
       "  </tbody>\n",
       "</table>\n",
       "<p>310 rows × 1 columns</p>\n",
       "</div>"
      ],
      "text/plain": [
       "                                                        0\n",
       "12_1    Admission Date :\\n09/29/1993\\nDischarge Date :...\n",
       "12_101  Admission Date :\\n07/10/1991\\nDischarge Date :...\n",
       "12_103  Admission Date :\\n2013-10-29\\nDischarge Date :...\n",
       "12_107  ADMISSION DATE :\\n02/01/2000\\nDISCHARGE DATE :...\n",
       "12_108  Admission Date :\\n2020-03-11\\nDischarge Date :...\n",
       "...                                                   ...\n",
       "12_88   Admission Date :\\n2012-06-07\\nDischarge Date :...\n",
       "12_92   ADMISSION DATE :\\n12/13/2002\\nDISCHARGE DATE :...\n",
       "12_93   Admission Date :\\n2013-02-12\\nDischarge Date :...\n",
       "12_96   Admission Date :\\n11/17/2003\\nDischarge Date :...\n",
       "12_98   Admission Date :\\n2015-09-16\\nDischarge Date :...\n",
       "\n",
       "[310 rows x 1 columns]"
      ]
     },
     "execution_count": 25,
     "metadata": {},
     "output_type": "execute_result"
    }
   ],
   "source": [
    "df_12 = pd.DataFrame.from_dict(EHR_12, orient=\"index\").sort_index()\n",
    "df_12"
   ]
  },
  {
   "cell_type": "markdown",
   "id": "42c74ecd-a0cc-4c14-b1d7-0740a98d6528",
   "metadata": {},
   "source": [
    "## 2014 - Heart Disease\n",
    ".xml"
   ]
  },
  {
   "cell_type": "code",
   "execution_count": 26,
   "id": "7e7080b4-f715-4485-b58d-a771e3c38cac",
   "metadata": {},
   "outputs": [],
   "source": [
    "# Get all the files\n",
    "root_14 = \"Data/2014\"\n",
    "list_of_txt_14 = functions.search_for_files(root_14, \".xml\")"
   ]
  },
  {
   "cell_type": "code",
   "execution_count": null,
   "id": "93dad819-168e-4750-bde9-d2e36a2e30c8",
   "metadata": {},
   "outputs": [],
   "source": [
    "EHR_14 = {}\n",
    "\n",
    "for item in list_of_txt_14:\n",
    "    file = minidom.parse(item)\n",
    "    text = file.getElementsByTagName(\"TEXT\")\n",
    "    for txt in text:\n",
    "        ID = item.split(\"/\")[-1][:-4]\n",
    "        EHR_14[f\"14_{ID}\"] = txt.firstChild.data"
   ]
  },
  {
   "cell_type": "code",
   "execution_count": null,
   "id": "2c950ccd-5c15-48dc-8995-0391be57a6e2",
   "metadata": {},
   "outputs": [],
   "source": [
    "df_14 = pd.DataFrame.from_dict(EHR_14, orient=\"index\").sort_index()\n",
    "df_14"
   ]
  },
  {
   "cell_type": "markdown",
   "id": "3639c3ec-27c3-45db-ac42-d12d0a618e18",
   "metadata": {},
   "source": [
    "## 2018_1 - ADE\n",
    ".xml"
   ]
  },
  {
   "cell_type": "code",
   "execution_count": null,
   "id": "59a5041e-bcb3-43de-9711-3b48785b3916",
   "metadata": {},
   "outputs": [],
   "source": [
    "# Get all the files\n",
    "root_18_1 = \"Data/2018_1\"\n",
    "list_of_txt_18_1 = functions.search_for_files(root_18_1, \".xml\")"
   ]
  },
  {
   "cell_type": "code",
   "execution_count": null,
   "id": "71f9fe9c-c6e7-4ec5-8c38-74174ecaadf2",
   "metadata": {},
   "outputs": [],
   "source": [
    "EHR_18_1 = {}\n",
    "\n",
    "for files in list_of_txt_18_1:\n",
    "    i=0\n",
    "    fls = []\n",
    "    file = minidom.parse(files)\n",
    "    text = file.getElementsByTagName(\"TEXT\")\n",
    "    for txt in text:\n",
    "        lg_text = txt.firstChild.data\n",
    "        lg_text = lg_text.split(\"Record date\")\n",
    "        for item in lg_text:\n",
    "            ID = files.split(\"/\")[-1][:-4]\n",
    "            #print(ID)\n",
    "            EHR_18_1[f\"18_1_{ID}_{i}\"] = \"Record date\" + item\n",
    "            i+=1"
   ]
  },
  {
   "cell_type": "code",
   "execution_count": null,
   "id": "2b54c11b-9c8b-48af-acb7-eaf8ee598377",
   "metadata": {},
   "outputs": [],
   "source": [
    "df_18_1 = pd.DataFrame.from_dict(EHR_18_1, orient=\"index\").sort_index()\n",
    "df_18_1"
   ]
  },
  {
   "cell_type": "markdown",
   "id": "5ffca97f-b8da-4565-bff2-b2b3aecb51ef",
   "metadata": {},
   "source": [
    "## 2018_2 - Clinical\n",
    ".txt"
   ]
  },
  {
   "cell_type": "code",
   "execution_count": null,
   "id": "26c84da0-b626-437d-86e2-0eaa99e4e89a",
   "metadata": {},
   "outputs": [],
   "source": [
    "# Get all the files\n",
    "root_18_2 = \"Data/2018_2\"\n",
    "list_of_txt_18_2 = functions.search_for_files(root_18_2, \".txt\")"
   ]
  },
  {
   "cell_type": "code",
   "execution_count": null,
   "id": "74c48147-3330-4ee5-8e13-104d119221ff",
   "metadata": {},
   "outputs": [],
   "source": [
    "EHR_18_2 = {}\n",
    "\n",
    "for file in list_of_txt_18_2:\n",
    "    with open(file, encoding=\"utf-8-sig\") as f:\n",
    "        lines = f.readlines()\n",
    "    ID = file.split(\"/\")[-1][:-4]\n",
    "    EHR_18_2[f\"18_2_{ID}\"] = \"\".join(lines)"
   ]
  },
  {
   "cell_type": "code",
   "execution_count": null,
   "id": "e83bfd27-9692-4436-9420-1925b9ea26d4",
   "metadata": {},
   "outputs": [],
   "source": [
    "df_18_2 = pd.DataFrame.from_dict(EHR_18_2, orient=\"index\").sort_index()\n",
    "df_18_2"
   ]
  },
  {
   "cell_type": "markdown",
   "id": "c0c1fc31-1d48-4b65-a5ec-1436d0f0b1b8",
   "metadata": {},
   "source": [
    "## CREATE A SINGLE DATAFRAME"
   ]
  },
  {
   "cell_type": "code",
   "execution_count": null,
   "id": "f8b372c9-982e-4e5e-8156-6c2a3a5981c3",
   "metadata": {},
   "outputs": [],
   "source": [
    "df_ls = [df_06, df_08, df_09_bis, df_10, df_11, df_12, df_14, df_18_1, df_18_2]"
   ]
  },
  {
   "cell_type": "code",
   "execution_count": null,
   "id": "02e6bd86-6094-4191-be05-fc5381d6c429",
   "metadata": {},
   "outputs": [],
   "source": [
    "df = pd.concat(df_ls)"
   ]
  },
  {
   "cell_type": "code",
   "execution_count": null,
   "id": "9ab32468-a67c-4b69-b014-2dd5c72636ea",
   "metadata": {},
   "outputs": [],
   "source": [
    "df"
   ]
  }
 ],
 "metadata": {
  "kernelspec": {
   "display_name": "JS_venv_data_science_1",
   "language": "python",
   "name": "js_venv_data_science_1"
  },
  "language_info": {
   "codemirror_mode": {
    "name": "ipython",
    "version": 3
   },
   "file_extension": ".py",
   "mimetype": "text/x-python",
   "name": "python",
   "nbconvert_exporter": "python",
   "pygments_lexer": "ipython3",
   "version": "3.8.11"
  }
 },
 "nbformat": 4,
 "nbformat_minor": 5
}
